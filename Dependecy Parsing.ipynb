{
  "nbformat": 4,
  "nbformat_minor": 0,
  "metadata": {
    "colab": {
      "provenance": [],
      "toc_visible": true,
      "gpuType": "T4"
    },
    "kernelspec": {
      "name": "python3",
      "display_name": "Python 3"
    },
    "language_info": {
      "name": "python"
    },
    "accelerator": "GPU"
  },
  "cells": [
    {
      "cell_type": "code",
      "execution_count": 1,
      "metadata": {
        "colab": {
          "base_uri": "https://localhost:8080/"
        },
        "id": "jQ4AjYdQBdTf",
        "outputId": "24f02527-d4d7-4166-cea0-ab8bc6394cff"
      },
      "outputs": [
        {
          "output_type": "stream",
          "name": "stdout",
          "text": [
            "Drive already mounted at /content/drive; to attempt to forcibly remount, call drive.mount(\"/content/drive\", force_remount=True).\n"
          ]
        }
      ],
      "source": [
        "from google.colab import drive\n",
        "drive.mount('/content/drive')\n",
        "\n",
        "import torch\n",
        "import torch.nn as nn\n",
        "import numpy as np\n",
        "import matplotlib.pyplot as plt\n",
        "from torchtext.vocab import GloVe\n",
        "from torch.utils.data import Dataset, DataLoader\n",
        "torch.manual_seed(66)\n",
        "\n",
        "!cp /content/drive/MyDrive/NLPwithDeepLearning/Assignment-2/mp2_release/scripts/evaluate.py /content/\n",
        "!cp /content/drive/MyDrive/NLPwithDeepLearning/Assignment-2/mp2_release/scripts/state.py /content/"
      ]
    },
    {
      "cell_type": "code",
      "source": [
        "def dim(a):\n",
        "    if not type(a) == list:\n",
        "        return []\n",
        "    return [len(a)] + dim(a[0])"
      ],
      "metadata": {
        "id": "KOQ8eQ3MCyvo"
      },
      "execution_count": 2,
      "outputs": []
    },
    {
      "cell_type": "markdown",
      "source": [
        "#State.py"
      ],
      "metadata": {
        "id": "CbYQ_bMOC8Gj"
      }
    },
    {
      "cell_type": "code",
      "source": [
        "from typing import List, Set\n",
        "\n",
        "class Token:\n",
        "    def __init__(self, idx: int, word: str, pos: str):\n",
        "        self.idx = idx # Unique index of the token\n",
        "        self.word = word # Token string\n",
        "        self.pos  = pos # Part of speech tag\n",
        "\n",
        "class DependencyEdge:\n",
        "    def __init__(self, source: Token, target: Token, label:str):\n",
        "        self.source = source  # Source token index\n",
        "        self.target = target  # target token index\n",
        "        self.label  = label  # dependency label\n",
        "        pass\n",
        "\n",
        "\n",
        "class ParseState:\n",
        "    def __init__(self, stack: List[Token], parse_buffer: List[Token], dependencies: List[DependencyEdge]):\n",
        "        self.stack = stack # A stack of token indices in the sentence. Assumption: the root token has index 0, the rest of the tokens in the sentence starts with 1.\n",
        "        self.parse_buffer = parse_buffer  # A buffer of token indices\n",
        "        self.dependencies = dependencies\n",
        "        pass\n",
        "\n",
        "    def add_dependency(self, source_token, target_token, label):\n",
        "        self.dependencies.append(\n",
        "            DependencyEdge(\n",
        "                source=source_token,\n",
        "                target=target_token,\n",
        "                label=label,\n",
        "            )\n",
        "        )\n",
        "\n",
        "def shift(state: ParseState) -> None:\n",
        "    # TODO: Implement this as an in-place operation that updates the parse state and does not return anything\n",
        "\n",
        "    # The python documentation has some pointers on how lists can be used as stacks and queues. This may come useful:\n",
        "    # https://docs.python.org/3/tutorial/datastructures.html#using-lists-as-stacks\n",
        "    # https://docs.python.org/3/tutorial/datastructures.html#using-lists-as-queues\n",
        "\n",
        "    a = state.parse_buffer.pop(0)\n",
        "    state.stack.append(a)\n",
        "    pass\n",
        "\n",
        "\n",
        "def left_arc(state: ParseState, label: str) -> None:\n",
        "    # TODO: Implement this as an in-place operation that updates the parse state and does not return anything\n",
        "\n",
        "    # The python documentation has some pointers on how lists can be used as stacks and queues. This may come useful:\n",
        "    # https://docs.python.org/3/tutorial/datastructures.html#using-lists-as-stacks\n",
        "    # https://docs.python.org/3/tutorial/datastructures.html#using-lists-as-queues\n",
        "    # Also, you will need to use the state.add_dependency method defined above.\n",
        "    a = state.stack.pop()\n",
        "    b = state.stack.pop()\n",
        "    state.add_dependency(a, b, label)\n",
        "    state.stack.append(a)\n",
        "    pass\n",
        "\n",
        "\n",
        "def right_arc(state: ParseState, label: str) -> None:\n",
        "    # TODO: Implement this as an in-place operation that updates the parse state and does not return anything\n",
        "\n",
        "    # The python documentation has some pointers on how lists can be used as stacks and queues. This may come useful:\n",
        "    # https://docs.python.org/3/tutorial/datastructures.html#using-lists-as-stacks\n",
        "    # https://docs.python.org/3/tutorial/datastructures.html#using-lists-as-queues\n",
        "    # Also, you will need to use the state.add_dependency method defined above.\n",
        "    a = state.stack.pop()\n",
        "    b = state.stack.pop()\n",
        "    state.add_dependency(b, a, label)\n",
        "    state.stack.append(b)\n",
        "    pass\n",
        "\n",
        "\n",
        "\n",
        "def is_final_state(state: ParseState, cwindow: int) -> bool:\n",
        "    # TODO: Implemement this\n",
        "    # temp_word = [state.stack[i].word for i in range(len(state.stack))]\n",
        "    # print(temp_word)\n",
        "    if len(state.stack) == cwindow+1 and len(state.parse_buffer) == cwindow:\n",
        "      return True\n",
        "    else:\n",
        "      return False\n",
        "    pass\n"
      ],
      "metadata": {
        "id": "_f3_PUEjC3KL"
      },
      "execution_count": 3,
      "outputs": []
    },
    {
      "cell_type": "markdown",
      "source": [
        "#Evaluate.py"
      ],
      "metadata": {
        "id": "N1VwqT6jDKSV"
      }
    },
    {
      "cell_type": "code",
      "source": [
        "def get_deps(words_lists, actions, cwindow):\n",
        "    \"\"\" Computes all the dependencies set for all the sentences according to\n",
        "    actions provided\n",
        "    Inputs\n",
        "    -----------\n",
        "    words_lists: List[List[str]].  This is a list of lists. Each inner list is a list of words in a sentence,\n",
        "    actions: List[List[str]]. This is a list of lists where each inner list is the sequence of actions\n",
        "                Note that the elements should be valid actions as in `tagset.txt`\n",
        "    cwindow: int. Context window. Default=2\n",
        "    \"\"\"\n",
        "    all_deps = []   # List of List of dependencies\n",
        "    # Iterate over sentences\n",
        "    for w_ix, words_list in enumerate(words_lists):\n",
        "        # Intialize stack and buffer appropriately\n",
        "        stack = [Token(idx=-i-1, word=\"[NULL]\", pos=\"NULL\") for i in range(cwindow)]\n",
        "        parser_buff = []\n",
        "        for ix in range(len(words_list)):\n",
        "            parser_buff.append(Token(idx=ix, word=words_list[ix], pos=\"NULL\"))\n",
        "        parser_buff.extend([Token(idx=ix+i+1, word=\"[NULL]\",pos=\"NULL\") for i in range(cwindow)])\n",
        "        # Initilaze the parse state\n",
        "        state = ParseState(stack=stack, parse_buffer=parser_buff, dependencies=[])\n",
        "\n",
        "        # Iterate over the actions and do the necessary state changes\n",
        "        for action in actions[w_ix]:\n",
        "            if action == \"SHIFT\":\n",
        "                shift(state)\n",
        "            elif action[:8] == \"REDUCE_L\":\n",
        "                left_arc(state, action[9:])\n",
        "            else:\n",
        "                right_arc(state, action[9:])\n",
        "        assert is_final_state(state,cwindow)    # Check to see that the parse is complete\n",
        "        right_arc(state, \"root\")    # Add te root dependency for the remaining element on stack\n",
        "        all_deps.append(state.dependencies.copy())  # Copy over the dependenices found\n",
        "    return all_deps\n",
        "\n",
        "\n",
        "\n",
        "\n",
        "def compute_metrics(words_lists, gold_actions, pred_actions, cwindow=2):\n",
        "    \"\"\" Computes the UAS and LAS metrics given list of words, gold and predicted actions.\n",
        "    Inputs\n",
        "    -------\n",
        "    word_lists: List[List[str]]. This is a list of lists. Each inner list is a list of words in a sentence,\n",
        "    gold_action: List[List[str]]. This is a list of lists where each inner list is the sequence of gold actions\n",
        "                Note that the elements should be valid actions as in `tagset.txt`\n",
        "    pred_action: List[List[str]]. This is a list of lists where each inner list is the sequence of predicted actions\n",
        "                Note that the elements should be valid actions as in `tagset.txt`\n",
        "\n",
        "    Outputs\n",
        "    -------\n",
        "    uas: int. The Unlabeled Attachment Score\n",
        "    las: int. The Lableled Attachment Score\n",
        "    \"\"\"\n",
        "    lab_match = 0  # Counter for computing correct head assignment and dep label\n",
        "    unlab_match = 0 # Counter for computing correct head assignments\n",
        "    total = 0       # Total tokens\n",
        "\n",
        "    # Get all the dependencies for all the sentences\n",
        "    gold_deps = get_deps(words_lists, gold_actions, cwindow)    # Dep according to gold actions\n",
        "    pred_deps = get_deps(words_lists, pred_actions, cwindow)    # Dep according to predicted actions\n",
        "\n",
        "    # Iterate over sentences\n",
        "    for w_ix, words_list in enumerate(words_lists):\n",
        "        # Iterate over words in a sentence\n",
        "        for ix, word in enumerate(words_list):\n",
        "            # Check what is the head of the word in the gold dependencies and its label\n",
        "            for dep in gold_deps[w_ix]:\n",
        "                if dep.target.idx == ix:\n",
        "                    gold_head_ix = dep.source.idx\n",
        "                    gold_label = dep.label\n",
        "                    break\n",
        "            # Check what is the head of the word in the predicted dependencies and its label\n",
        "            for dep in pred_deps[w_ix]:\n",
        "                if dep.target.idx == ix:\n",
        "                    # Do the gold and predicted head match?\n",
        "                    if dep.source.idx == gold_head_ix:\n",
        "                        unlab_match += 1\n",
        "                        # Does the label match?\n",
        "                        if dep.label == gold_label:\n",
        "                            lab_match += 1\n",
        "                    break\n",
        "            total += 1\n",
        "\n",
        "    return unlab_match/total, lab_match/total"
      ],
      "metadata": {
        "id": "veGR0-A0DM3o"
      },
      "execution_count": 5,
      "outputs": []
    },
    {
      "cell_type": "markdown",
      "source": [
        "#Read File to Dictionary"
      ],
      "metadata": {
        "id": "UF4FuScwDbu2"
      }
    },
    {
      "cell_type": "code",
      "source": [
        "def extract_to_dic(path_to_file):\n",
        "  file1 = open(path_to_file, 'r')\n",
        "  dictionary={}\n",
        "\n",
        "  for index, line in enumerate(file1):\n",
        "    dictionary[line.strip()] = index\n",
        "\n",
        "  file1.close()\n",
        "  return dictionary\n"
      ],
      "metadata": {
        "id": "DziJeWSvCysY"
      },
      "execution_count": 6,
      "outputs": []
    },
    {
      "cell_type": "markdown",
      "source": [
        "#Download All GloVe"
      ],
      "metadata": {
        "id": "-lhYGqm8DtoD"
      }
    },
    {
      "cell_type": "code",
      "source": [
        "import torchtext.vocab as vocab\n",
        "vec6B50D = vocab.GloVe(name='6B', dim=50)\n",
        "# vec6B300D = vocab.GloVe(name='6B', dim=300)\n",
        "# vec42B300D = vocab.GloVe(name='42B', dim=300)"
      ],
      "metadata": {
        "id": "X-nZnxU8Cyng"
      },
      "execution_count": 7,
      "outputs": []
    },
    {
      "cell_type": "code",
      "source": [
        "vec840B300D = vocab.GloVe(name='840B', dim=300)"
      ],
      "metadata": {
        "colab": {
          "base_uri": "https://localhost:8080/"
        },
        "id": "9RLRHYuKQajR",
        "outputId": "70221d02-cdb4-40cd-d8f1-5da333961619"
      },
      "execution_count": 7,
      "outputs": [
        {
          "output_type": "stream",
          "name": "stderr",
          "text": [
            ".vector_cache/glove.840B.300d.zip: 2.18GB [06:53, 5.27MB/s]                            \n",
            "100%|█████████▉| 2196016/2196017 [05:41<00:00, 6427.42it/s]\n"
          ]
        }
      ]
    },
    {
      "cell_type": "markdown",
      "source": [
        "#Read A File and convert it to a list"
      ],
      "metadata": {
        "id": "8kul3c4LEnwV"
      }
    },
    {
      "cell_type": "code",
      "source": [
        "def read_file_to_list(path_to_file, has_action = True):\n",
        "  file1 = open(path_to_file, 'r')\n",
        "  Lines = file1.readlines()\n",
        "\n",
        "  count = 0\n",
        "\n",
        "  file_words = []\n",
        "  file_pos = []\n",
        "  file_target = []\n",
        "\n",
        "  for line in Lines:\n",
        "    count += 1\n",
        "    line1 = line.strip()\n",
        "    line2 = line1.split('|||')\n",
        "    line_words = line2[0].lower().strip().split(' ')\n",
        "    file_words.append(line_words)\n",
        "    line_pos = line2[1].strip().split(' ')\n",
        "    file_pos.append(line_pos)\n",
        "    if has_action == True:\n",
        "      line_action = line2[2].strip().split(' ')\n",
        "      file_target.append(line_action)\n",
        "\n",
        "  if has_action == False:\n",
        "    return file_words, file_pos\n",
        "  else:\n",
        "    return file_words, file_pos, file_target\n"
      ],
      "metadata": {
        "id": "dlRAZFe5CykF"
      },
      "execution_count": 8,
      "outputs": []
    },
    {
      "cell_type": "code",
      "source": [
        "train_file = '/content/drive/MyDrive/NLPwithDeepLearning/Assignment-2/mp2_release/data/train.txt'\n",
        "dev_file = '/content/drive/MyDrive/NLPwithDeepLearning/Assignment-2/mp2_release/data/dev.txt'\n",
        "test_file = '/content/drive/MyDrive/NLPwithDeepLearning/Assignment-2/mp2_release/data/test.txt'\n",
        "hidden_file = '/content/drive/MyDrive/NLPwithDeepLearning/Assignment-2/mp2_release/data/hidden.txt'\n",
        "\n",
        "train_w, train_pos, train_target = read_file_to_list(train_file)\n",
        "dev_w, dev_pos, dev_target = read_file_to_list(dev_file)\n",
        "test_w, test_pos, test_target = read_file_to_list(test_file)\n",
        "hidden_w, hidden_pos = read_file_to_list(hidden_file, False)"
      ],
      "metadata": {
        "id": "EfFsheyUJEIp"
      },
      "execution_count": 9,
      "outputs": []
    },
    {
      "cell_type": "code",
      "source": [
        "pos_file = '/content/drive/MyDrive/NLPwithDeepLearning/Assignment-2/mp2_release/data/pos_set.txt'\n",
        "targets_file = '/content/drive/MyDrive/NLPwithDeepLearning/Assignment-2/mp2_release/data/tagset.txt'\n",
        "\n",
        "pos_dict = extract_to_dic(pos_file)\n",
        "targets_dict = extract_to_dic(targets_file)"
      ],
      "metadata": {
        "id": "toNL3KXwJEFj"
      },
      "execution_count": 10,
      "outputs": []
    },
    {
      "cell_type": "markdown",
      "source": [
        "#Set Mean/concatenate and cwindow"
      ],
      "metadata": {
        "id": "ekVZ9UD4VbSf"
      }
    },
    {
      "cell_type": "code",
      "source": [
        "mean_mode = 1 #1 for mean, 0 for concatenate\n",
        "cwindow = 2"
      ],
      "metadata": {
        "id": "_C6-mPdLVgL_"
      },
      "execution_count": 11,
      "outputs": []
    },
    {
      "cell_type": "markdown",
      "source": [
        "#stoi() and target_itos()"
      ],
      "metadata": {
        "id": "KOuQrKB6L214"
      }
    },
    {
      "cell_type": "code",
      "source": [
        "def stoi(key, word2ix):\n",
        "  isKeyPresent = key in word2ix\n",
        "  if isKeyPresent == True:\n",
        "    return word2ix[key]\n",
        "  else:\n",
        "    print(key)\n",
        "    return word2ix['NULL']\n",
        "\n",
        "key_list = list(targets_dict.keys())\n",
        "val_list = list(targets_dict.values())\n",
        "def target_itos(a):\n",
        "  return key_list[a]"
      ],
      "metadata": {
        "id": "-TKah8xzKz8_"
      },
      "execution_count": 12,
      "outputs": []
    },
    {
      "cell_type": "markdown",
      "source": [
        "#Convert POS and Target to integer values"
      ],
      "metadata": {
        "id": "VT5jq_O1PfOm"
      }
    },
    {
      "cell_type": "code",
      "source": [
        "def convert_pos_to_token(train_pos, pos_dict):\n",
        "  test_train_pos = []\n",
        "  for i in range(0, len(train_pos)):\n",
        "    # print(i)\n",
        "    test_train_pos.append(list(map(lambda x: stoi(x,pos_dict), train_pos[i])))\n",
        "  return test_train_pos"
      ],
      "metadata": {
        "id": "AzR9xTHiPYrG"
      },
      "execution_count": 13,
      "outputs": []
    },
    {
      "cell_type": "code",
      "source": [
        "def convert_target_to_token(train_pos, pos_dict):\n",
        "  test_train_pos = list(map(lambda x: stoi(x,pos_dict), train_pos))\n",
        "  return test_train_pos"
      ],
      "metadata": {
        "id": "YWoB83Z2PeQn"
      },
      "execution_count": 14,
      "outputs": []
    },
    {
      "cell_type": "markdown",
      "source": [
        "#Prepare Train Corpus"
      ],
      "metadata": {
        "id": "BSj3JWs_UFxI"
      }
    },
    {
      "cell_type": "code",
      "source": [
        "def embed_to_glove(train_w, vec, embed_dim,  mean, cwindow):\n",
        "  print(mean)\n",
        "  glove = vec\n",
        "  embedded_text = torch.zeros((len(train_w), (2 * cwindow), embed_dim))\n",
        "  for i in range(0,len(train_w)):\n",
        "    # print(len(train_w[i]))\n",
        "    temp_emb = glove.get_vecs_by_tokens(train_w[i])\n",
        "    # print(temp_emb.shape)\n",
        "    embedded_text[i] = temp_emb\n",
        "\n",
        "    # if(i%10000 == 0):\n",
        "    #   print(i)\n",
        "  if mean==1:\n",
        "    embedded_text = torch.mean(embedded_text, dim=1)\n",
        "  else:\n",
        "    embedded_text = embedded_text.view(embedded_text.size()[0], -1)\n",
        "\n",
        "  return embedded_text\n"
      ],
      "metadata": {
        "id": "I8dyxRlkRe4Y"
      },
      "execution_count": 15,
      "outputs": []
    },
    {
      "cell_type": "code",
      "source": [
        "def prepare_train_corpus(list_words, list_pos, list_action, vec, embed_dim, mean_mode, cwindow):\n",
        "  all_words = []\n",
        "  all_pos = []\n",
        "  all_target = []\n",
        "\n",
        "  for x in range(len(list_words)):\n",
        "    line_words = list_words[x]\n",
        "    line_pos = list_pos[x]\n",
        "    line_action = list_action[x]\n",
        "    stack = [Token(idx=-i-1, word=\"[NULL]\", pos='NULL') for i in range(cwindow)]\n",
        "    parser_buff = []\n",
        "    for ix in range(len(line_words)):\n",
        "      parser_buff.append(Token(idx=ix, word=line_words[ix], pos=line_pos[ix]))\n",
        "    parser_buff.extend([Token(idx=ix+i+1, word='NULL',pos=\"NULL\") for i in range(cwindow)])\n",
        "    state = ParseState(stack=stack, parse_buffer=parser_buff, dependencies=[])\n",
        "    for action in line_action:\n",
        "      temp_word = [state.stack[-i-1].word for i in range(cwindow)]\n",
        "      temp_pos = [state.stack[-i-1].pos for i in range(cwindow)]\n",
        "\n",
        "      temp_word.extend([state.parse_buffer[i].word for i in range(cwindow)])\n",
        "      temp_pos.extend([state.parse_buffer[i].pos for i in range(cwindow)])\n",
        "\n",
        "      all_words.append(temp_word)\n",
        "      all_pos.append(temp_pos)\n",
        "      all_target.append(action)\n",
        "\n",
        "      if action == \"SHIFT\":\n",
        "        shift(state)\n",
        "      elif action[:8] == \"REDUCE_L\":\n",
        "        left_arc(state, action[9:])\n",
        "      else:\n",
        "        right_arc(state, action[9:])\n",
        "  # print(len(all_words[0]))\n",
        "  X_train = torch.cat((embed_to_glove(all_words, vec, embed_dim, mean_mode, cwindow),torch.tensor(convert_pos_to_token(all_pos, pos_dict))), -1)\n",
        "  y_train = torch.tensor(convert_target_to_token(all_target, targets_dict))\n",
        "\n",
        "  return X_train, y_train\n"
      ],
      "metadata": {
        "id": "Nc-UxwzhKz6E"
      },
      "execution_count": 16,
      "outputs": []
    },
    {
      "cell_type": "code",
      "source": [
        "#Set glove and embedding dimenaion\n",
        "# vec = vec6B50D\n",
        "# embed_dim = 50"
      ],
      "metadata": {
        "id": "X7yv9mNZV3-0"
      },
      "execution_count": 17,
      "outputs": []
    },
    {
      "cell_type": "code",
      "source": [
        "# X_train, y_train = prepare_train_corpus(train_w, train_pos, train_target, vec, embed_dim, mean_mode, cwindow)"
      ],
      "metadata": {
        "id": "FwoJxlZCVLhX"
      },
      "execution_count": 18,
      "outputs": []
    },
    {
      "cell_type": "code",
      "source": [
        "dev_pos, test_pos, hidden_pos = convert_pos_to_token(dev_pos, pos_dict), convert_pos_to_token(test_pos, pos_dict), convert_pos_to_token(hidden_pos, pos_dict)"
      ],
      "metadata": {
        "id": "lPZUzxdga8vW"
      },
      "execution_count": 17,
      "outputs": []
    },
    {
      "cell_type": "code",
      "source": [
        "dev_target_t, test_target_t = convert_pos_to_token(dev_target, targets_dict), convert_pos_to_token(test_target, targets_dict)"
      ],
      "metadata": {
        "id": "6z6s5z9UbTRX"
      },
      "execution_count": 18,
      "outputs": []
    },
    {
      "cell_type": "markdown",
      "source": [
        "#Model Description"
      ],
      "metadata": {
        "id": "phjZf873VIAR"
      }
    },
    {
      "cell_type": "code",
      "source": [
        "class Parser_Model(nn.Module):\n",
        "  def __init__(self, pos_vocab_size, pos_embedding_dimension, glove_embedding_dimension, hidden_dim, action_vocab_size):\n",
        "    # , embed_max_norm\n",
        "    super(Parser_Model, self).__init__()\n",
        "    self.embeddings = nn.Embedding(\n",
        "        num_embeddings= pos_vocab_size,\n",
        "        embedding_dim= pos_embedding_dimension,\n",
        "        max_norm= 1,\n",
        "        )\n",
        "    self.linear1 = nn.Linear(\n",
        "        in_features= pos_embedding_dimension,\n",
        "        out_features= hidden_dim,\n",
        "        )\n",
        "    self.linear2 = nn.Linear(\n",
        "        in_features= glove_embedding_dimension,\n",
        "        out_features= hidden_dim,\n",
        "        )\n",
        "    self.linear3 = nn.Linear(\n",
        "        in_features= hidden_dim,\n",
        "        out_features= action_vocab_size,\n",
        "        )\n",
        "    self.relu = torch.nn.ReLU()\n",
        "  def forward(self, inputs_):\n",
        "    x_w = inputs_[:,:-4]\n",
        "    x_pos = inputs_[:,-4:].to(torch.int32)\n",
        "    x_pos = self.embeddings(x_pos)\n",
        "    x_pos = torch.mean(x_pos, dim=1)\n",
        "    x1 = self.linear1(x_pos)\n",
        "    x2 = self.linear2(x_w)\n",
        "    x2 = x2 + x1\n",
        "    x = self.linear3(self.relu(x2))\n",
        "    return x"
      ],
      "metadata": {
        "id": "iC92KVrYKz3W"
      },
      "execution_count": 19,
      "outputs": []
    },
    {
      "cell_type": "code",
      "source": [
        "device = torch.device(\"cuda:0\" if torch.cuda.is_available() else \"cpu\")\n",
        "print(device)"
      ],
      "metadata": {
        "colab": {
          "base_uri": "https://localhost:8080/"
        },
        "id": "pJRUyY14dlcs",
        "outputId": "a602ca29-7113-4862-fb6d-bc3c800cfe8f"
      },
      "execution_count": 20,
      "outputs": [
        {
          "output_type": "stream",
          "name": "stdout",
          "text": [
            "cuda:0\n"
          ]
        }
      ]
    },
    {
      "cell_type": "markdown",
      "source": [
        "#Batch_GD"
      ],
      "metadata": {
        "id": "7zI3bMUVhiAC"
      }
    },
    {
      "cell_type": "code",
      "source": [
        "print(\"Dunno\")"
      ],
      "metadata": {
        "colab": {
          "base_uri": "https://localhost:8080/"
        },
        "id": "y2LY5PmXko-6",
        "outputId": "22847d6c-7941-47d6-9cd6-8bebe51729fd"
      },
      "execution_count": 21,
      "outputs": [
        {
          "output_type": "stream",
          "name": "stdout",
          "text": [
            "Dunno\n"
          ]
        }
      ]
    },
    {
      "cell_type": "code",
      "source": [
        "def batch_gd(model, criterion, optimizer, train_loader, dev_words, dev_pos, dev_actions, epochs, glove, glv_size, glv_dim, lr, mean_mode):\n",
        "  train_losses = np.zeros(epochs)\n",
        "  # dev_losses = np.zeros(epochs)\n",
        "  best_acc = -1\n",
        "  for i in range(epochs):\n",
        "    train_loss = []\n",
        "    for inputs, targets in train_loader:\n",
        "      inputs, targets = inputs.to(device), targets.to(device)\n",
        "      optimizer.zero_grad()\n",
        "      outputs = model(inputs)\n",
        "      loss = criterion(outputs, targets)\n",
        "      # outputs = outputs.to('cpu')\n",
        "      # outputs = outputs.detach().numpy()\n",
        "      # outputs = np.argmax(outputs, axis = 1)\n",
        "      # print(\"outputs=\",outputs)\n",
        "      # print(\"Targets=\",targets)\n",
        "\n",
        "      loss.backward()\n",
        "      optimizer.step()\n",
        "\n",
        "      train_loss.append(loss.item())\n",
        "    train_loss = np.mean(train_loss)\n",
        "    train_losses[i] = train_loss\n",
        "    print('Epoch = ', i, ' Train Loss = ',train_loss)\n",
        "\n",
        "    dev_pred_actions = []\n",
        "    for k in range(len(dev_words)):\n",
        "      # if k % 5000 == 0:\n",
        "      #   print(\"For Data = \", k)\n",
        "      stack = [Token(idx=-j-1, word=\"[NULL]\", pos= pos_dict['NULL']) for j in range(cwindow)]\n",
        "      parser_buff = []\n",
        "      dev_dependencies =[]\n",
        "      for ix in range(len(dev_words[k])):\n",
        "        parser_buff.append(Token(idx=ix, word=dev_words[k][ix], pos=dev_pos[k][ix]))\n",
        "      parser_buff.extend([Token(idx=ix+j+1, word=\"[NULL]\",pos= pos_dict['NULL']) for j in range(cwindow)])\n",
        "      state = ParseState(stack=stack, parse_buffer=parser_buff, dependencies=[])\n",
        "      m = 0\n",
        "      dev_temp_action = []\n",
        "      while(not is_final_state(state,cwindow)):\n",
        "        dev_input=[]\n",
        "        # print(\"Stack len = :\", len(stack), len(parser_buff))\n",
        "        dev_input.append(stack[-1].word)\n",
        "        dev_input.append(stack[-2].word)\n",
        "        dev_input.append(parser_buff[0].word)\n",
        "        dev_input.append(parser_buff[1].word)\n",
        "        dev_input.append(stack[-1].pos)\n",
        "        dev_input.append(stack[-2].pos)\n",
        "        dev_input.append(parser_buff[0].pos)\n",
        "        dev_input.append(parser_buff[1].pos)\n",
        "\n",
        "        temp_emb = glove.get_vecs_by_tokens(dev_input[:4])\n",
        "        if mean_mode==1:\n",
        "          temp_emb = torch.mean(temp_emb, dim=0)\n",
        "        else:\n",
        "          temp_emb = torch.flatten(temp_emb)\n",
        "        # print(temp_emb.shape)\n",
        "        # print(dev_input)\n",
        "        temp_pos = torch.tensor(dev_input[4:])\n",
        "        # print(temp_pos.shape)\n",
        "        # print(temp_emb.shape)\n",
        "        # print(temp_pos.shape)\n",
        "        temp_input = torch.cat((temp_emb, temp_pos)).unsqueeze(0).to(device)\n",
        "        # print(temp_input)\n",
        "        outputs = model(temp_input)\n",
        "        # print('Outputs = ',outputs.shape)\n",
        "        _, predictions = torch.max(outputs, 1)\n",
        "        # print('predictions = ',predictions)\n",
        "        pred_action = target_itos(predictions[0])\n",
        "\n",
        "        if len(stack) == 2 and predictions[0] != 0:\n",
        "          pred_action = \"SHIFT\"\n",
        "        elif len(parser_buff) == 2 and predictions[0] == 0:\n",
        "          outputs[0][0] = -1000000\n",
        "          _, predictions = torch.max(outputs, 1)\n",
        "          pred_action = target_itos(predictions[0])\n",
        "\n",
        "        # print('predictions = ',pred_action)\n",
        "\n",
        "        dev_temp_action.append(pred_action)\n",
        "        if pred_action == \"SHIFT\":\n",
        "          shift(state)\n",
        "        elif pred_action[:8] == \"REDUCE_L\":\n",
        "          left_arc(state, pred_action[9:])\n",
        "        else:\n",
        "          right_arc(state, pred_action[9:])\n",
        "      dev_pred_actions.append(dev_temp_action)\n",
        "\n",
        "    dev_uas, dev_las = compute_metrics(dev_words, dev_actions, dev_pred_actions, cwindow=2)\n",
        "    print(\"UAS,LAS = \",dev_uas, dev_las)\n",
        "    if dev_uas > best_acc:\n",
        "      best_acc = dev_uas\n",
        "      torch.save({\n",
        "          \"model_param\": model.state_dict(),\n",
        "          \"optim_param\": optimizer.state_dict(),\n",
        "          \"lowest_dev_loss\": best_acc,\n",
        "          \"epoch\": i,\n",
        "          \"learning_rate\": lr},\n",
        "                 f\"/content/drive/MyDrive/NLPwithDeepLearning/Assignment-2/best_model_{glv_size}_{glv_dim}_{mean_mode}.pth\")\n",
        "\n",
        "  print(\"Best dev acc = \", best_acc)\n",
        "  return train_losses, model, best_acc\n"
      ],
      "metadata": {
        "id": "Z-BwRGgMKz0M"
      },
      "execution_count": 22,
      "outputs": []
    },
    {
      "cell_type": "markdown",
      "source": [
        "#Training"
      ],
      "metadata": {
        "id": "QVGE6Q-TFfg8"
      }
    },
    {
      "cell_type": "markdown",
      "source": [
        "##6B50D Mean"
      ],
      "metadata": {
        "id": "X94pFLsRFhiz"
      }
    },
    {
      "cell_type": "code",
      "source": [
        "glv_size = '6B'\n",
        "glv_dim = 50\n",
        "mean_mode = 1 #If mean then 1\n",
        "cwindow = 2\n",
        "glove_embedding_dimension = glv_dim\n",
        "if mean_mode == 0:\n",
        "  glove_embedding_dimension = glove_embedding_dimension * ( 2 * cwindow)\n",
        "\n",
        "train_dataloader = DataLoader(list(zip(X_train,y_train)), shuffle=False, batch_size=64)\n",
        "\n",
        "# train_dataloader, dev_dataloader, test_dataloader, glove_embedding_dimension = prepare_dataset(glv_size, glv_dim, mean_mode, cwindow)\n",
        "\n",
        "learning_rates = np.array([0.01, 0.001, 0.0001])\n",
        "best_acc = -1\n",
        "\n",
        "for i in range(learning_rates.shape[0]):\n",
        "  pos_vocab_size = len(pos_dict)\n",
        "  pos_embedding_dimension = 50\n",
        "  # glove_embedding_dimension = X_train.shape[1] - 4\n",
        "  # print(glove_embedding_dimension)\n",
        "  hidden_dim = 200\n",
        "  action_vocab_size = len(targets_dict)\n",
        "  epoch = 20\n",
        "\n",
        "\n",
        "  parser_model = Parser_Model(pos_vocab_size, pos_embedding_dimension, glove_embedding_dimension, hidden_dim, action_vocab_size)\n",
        "  parser_model.to(device)\n",
        "  criterion = nn.CrossEntropyLoss()\n",
        "\n",
        "  optimizer = torch.optim.Adam(parser_model.parameters(), lr=learning_rates[i])\n",
        "  print(\"For learning rate = \",learning_rates[i])\n",
        "\n",
        "  train_losses, ret_model, best_dev_acc = batch_gd(\n",
        "      parser_model, criterion, optimizer, train_dataloader, dev_w, dev_pos, dev_target, epoch, vec6B50D, glv_size, glv_dim, learning_rates[i], mean_mode)\n",
        "\n",
        "\n",
        "  # avg_dev_losses = np.mean(dev_losses)\n",
        "  # print('Best Development Loss = ', best_dev_loss)\n",
        "\n",
        "\n",
        "  plt.plot(train_losses, label = 'train_loss')\n",
        "  # plt.plot(dev_losses, label = 'dev_loss')\n",
        "  plt.legend()\n",
        "  plt.show()"
      ],
      "metadata": {
        "colab": {
          "base_uri": "https://localhost:8080/",
          "height": 1000
        },
        "id": "FAUQsxGhKzxV",
        "outputId": "2b02af43-5876-4f9d-fa25-e25fbaa5508f"
      },
      "execution_count": null,
      "outputs": [
        {
          "output_type": "stream",
          "name": "stdout",
          "text": [
            "For learning rate =  0.01\n",
            "Epoch =  0  Train Loss =  1.368352864848572\n",
            "UAS,LAS =  0.31974622424344507 0.24282746617258996\n",
            "Epoch =  1  Train Loss =  1.2853317854937099\n",
            "UAS,LAS =  0.3245185559485711 0.25624614002582674\n",
            "Epoch =  2  Train Loss =  1.2712838403495477\n",
            "UAS,LAS =  0.32878558194374263 0.24861040929762507\n",
            "Epoch =  3  Train Loss =  1.2652983754932525\n",
            "UAS,LAS =  0.3322104317556566 0.2638818707540284\n",
            "Epoch =  4  Train Loss =  1.263407086290671\n",
            "UAS,LAS =  0.3429902869013531 0.26960866880017964\n",
            "Epoch =  5  Train Loss =  1.2639384713712671\n",
            "UAS,LAS =  0.345404525293358 0.2716860367188816\n",
            "Epoch =  6  Train Loss =  1.261420988013031\n",
            "UAS,LAS =  0.3238448150019651 0.2523159845039582\n",
            "Epoch =  7  Train Loss =  1.2618233329851631\n",
            "UAS,LAS =  0.3269889394194599 0.2574251866823873\n",
            "Epoch =  8  Train Loss =  1.2615959370142187\n",
            "UAS,LAS =  0.32957161304811633 0.25501094829038234\n",
            "Epoch =  9  Train Loss =  1.2633437106819085\n",
            "UAS,LAS =  0.3489416652630397 0.2748863062152602\n",
            "Epoch =  10  Train Loss =  1.2639709574875846\n",
            "UAS,LAS =  0.33002077367918703 0.2604570209421144\n",
            "Epoch =  11  Train Loss =  1.2601135285352736\n",
            "UAS,LAS =  0.3168266801414856 0.24400651282915053\n",
            "Epoch =  12  Train Loss =  1.2631949818143196\n",
            "UAS,LAS =  0.34562910560889337 0.2739879849531189\n",
            "Epoch =  13  Train Loss =  1.2647373201047805\n",
            "UAS,LAS =  0.33743192409185335 0.26938408848464435\n",
            "Epoch =  14  Train Loss =  1.2672277232169158\n",
            "UAS,LAS =  0.3301330638369547 0.25248441974060976\n",
            "Epoch =  15  Train Loss =  1.266092350495383\n",
            "UAS,LAS =  0.3483802144742013 0.272921228454326\n",
            "Epoch =  16  Train Loss =  1.2639719442895818\n",
            "UAS,LAS =  0.33541070125203526 0.2612430520464881\n",
            "Epoch =  17  Train Loss =  1.2676418259014073\n",
            "UAS,LAS =  0.34068833866711584 0.2662399640671495\n",
            "Epoch =  18  Train Loss =  1.262282034326678\n",
            "UAS,LAS =  0.3387232609061816 0.2606254561787659\n",
            "Epoch =  19  Train Loss =  1.2682859963306021\n",
            "UAS,LAS =  0.3281118409971366 0.2566391555780136\n",
            "Best dev acc =  0.3489416652630397\n"
          ]
        },
        {
          "output_type": "display_data",
          "data": {
            "text/plain": [
              "<Figure size 640x480 with 1 Axes>"
            ],
            "image/png": "[encoded data removed]"
          },
          "metadata": {}
        },
        {
          "output_type": "stream",
          "name": "stdout",
          "text": [
            "For learning rate =  0.001\n",
            "Epoch =  0  Train Loss =  1.4512193386052286\n",
            "UAS,LAS =  0.3198585144012127 0.24591544551120095\n",
            "Epoch =  1  Train Loss =  1.2156299939508703\n",
            "UAS,LAS =  0.37246645331536693 0.29605300095446635\n",
            "Epoch =  2  Train Loss =  1.165966999748533\n",
            "UAS,LAS =  0.3846499354331593 0.30812419291449106\n",
            "Epoch =  3  Train Loss =  1.1387009139637467\n",
            "UAS,LAS =  0.3892538319016338 0.3128965246196171\n",
            "Epoch =  4  Train Loss =  1.1206659437721933\n",
            "UAS,LAS =  0.3920610858458256 0.31823030711358147\n",
            "Epoch =  5  Train Loss =  1.107507194723808\n",
            "UAS,LAS =  0.39509292010555275 0.32193588231991466\n",
            "Epoch =  6  Train Loss =  1.097536766579445\n",
            "UAS,LAS =  0.39790017404974454 0.3262029083150862\n",
            "Epoch =  7  Train Loss =  1.0893736093214326\n",
            "UAS,LAS =  0.3980124642075122 0.32569760260513164\n",
            "Epoch =  8  Train Loss =  1.0824259168525814\n",
            "UAS,LAS =  0.3979563191286284 0.32362023468642975\n",
            "Epoch =  9  Train Loss =  1.0764051211357235\n",
            "UAS,LAS =  0.3970018527876032 0.3235640896075459\n",
            "Epoch =  10  Train Loss =  1.07124747800276\n",
            "UAS,LAS =  0.39739486833979004 0.322497333108753\n",
            "Epoch =  11  Train Loss =  1.0667521430264648\n",
            "UAS,LAS =  0.39632811184099714 0.32176744708326316\n",
            "Epoch =  12  Train Loss =  1.0627886840099725\n",
            "UAS,LAS =  0.39885464039076973 0.32305878389759135\n",
            "Epoch =  13  Train Loss =  1.0593042288412513\n",
            "UAS,LAS =  0.397057997866487 0.3226096232665207\n",
            "Epoch =  14  Train Loss =  1.0560917402978682\n",
            "UAS,LAS =  0.3995283813373758 0.3260344730784347\n",
            "Epoch =  15  Train Loss =  1.0529463012919393\n",
            "UAS,LAS =  0.4007074279939363 0.325585312447364\n",
            "Epoch =  16  Train Loss =  1.0502992450050401\n",
            "UAS,LAS =  0.4012127337038909 0.3274942451294144\n",
            "Epoch =  17  Train Loss =  1.0477553668244932\n",
            "UAS,LAS =  0.40188647465049687 0.3271573746561114\n",
            "Epoch =  18  Train Loss =  1.0455875677199178\n",
            "UAS,LAS =  0.40037055752063333 0.32508000673740944\n",
            "Epoch =  19  Train Loss =  1.0433711354170832\n",
            "UAS,LAS =  0.3999775419684465 0.3267082140250407\n",
            "Best dev acc =  0.40188647465049687\n"
          ]
        },
        {
          "output_type": "display_data",
          "data": {
            "text/plain": [
              "<Figure size 640x480 with 1 Axes>"
            ],
            "image/png": "[encoded data removed]"
          },
          "metadata": {}
        },
        {
          "output_type": "stream",
          "name": "stdout",
          "text": [
            "For learning rate =  0.0001\n",
            "Epoch =  0  Train Loss =  2.0902398070450094\n",
            "UAS,LAS =  0.21234068833866712 0.13384986805906463\n",
            "Epoch =  1  Train Loss =  1.6382826753034743\n",
            "UAS,LAS =  0.2623659536241648 0.18432429397563305\n",
            "Epoch =  2  Train Loss =  1.5051476761372853\n",
            "UAS,LAS =  0.27746897984391666 0.20111167256189996\n",
            "Epoch =  3  Train Loss =  1.4330220891988539\n",
            "UAS,LAS =  0.28162371568132055 0.20942114423670766\n",
            "Epoch =  4  Train Loss =  1.3809410983004105\n",
            "UAS,LAS =  0.29049463814496657 0.21913424288361125\n",
            "Epoch =  5  Train Loss =  1.3413008899089118\n",
            "UAS,LAS =  0.3014429285273146 0.23114928976475213\n",
            "Epoch =  6  Train Loss =  1.310723468335438\n",
            "UAS,LAS =  0.31637751951041493 0.24378193251361518\n",
            "Epoch =  7  Train Loss =  1.2866743517443389\n",
            "UAS,LAS =  0.3262029083150862 0.25254056481949355\n",
            "Epoch =  8  Train Loss =  1.2673553247041778\n",
            "UAS,LAS =  0.3359721520408736 0.26270282409746787\n",
            "Epoch =  9  Train Loss =  1.2514852942013834\n",
            "UAS,LAS =  0.3426534164280501 0.27067542529897254\n",
            "Epoch =  10  Train Loss =  1.2382038109463678\n",
            "UAS,LAS =  0.3498961316040649 0.27870417157936106\n",
            "Epoch =  11  Train Loss =  1.2269120616893883\n",
            "UAS,LAS =  0.3584301835944079 0.2875189489641233\n",
            "Epoch =  12  Train Loss =  1.2171333535291091\n",
            "UAS,LAS =  0.3630340800628825 0.2931896019313907\n",
            "Epoch =  13  Train Loss =  1.2085463344221323\n",
            "UAS,LAS =  0.36707652574251864 0.29824265903093594\n",
            "Epoch =  14  Train Loss =  1.200880800027615\n",
            "UAS,LAS =  0.37476840154960417 0.30458705294480937\n",
            "Epoch =  15  Train Loss =  1.1939406452282049\n",
            "UAS,LAS =  0.3807197799112908 0.30997698051765765\n",
            "Epoch =  16  Train Loss =  1.1876059394500127\n",
            "UAS,LAS =  0.38644657795744203 0.3151984728538544\n",
            "Epoch =  17  Train Loss =  1.1818028291313358\n",
            "UAS,LAS =  0.3914434899781034 0.31991465948009656\n",
            "Epoch =  18  Train Loss =  1.1764672602680522\n",
            "UAS,LAS =  0.3921733760035933 0.3205884004267026\n",
            "Epoch =  19  Train Loss =  1.1715275928763225\n",
            "UAS,LAS =  0.3952052102633204 0.3237325248441974\n",
            "Best dev acc =  0.3952052102633204\n"
          ]
        },
        {
          "output_type": "display_data",
          "data": {
            "text/plain": [
              "<Figure size 640x480 with 1 Axes>"
            ],
            "image/png": "[encoded data removed]"
          },
          "metadata": {}
        }
      ]
    },
    {
      "cell_type": "code",
      "source": [
        "pos_vocab_size = len(pos_dict)\n",
        "pos_embedding_dimension = 50\n",
        "# glove_embedding_dimension = X_train.shape[1] - 4\n",
        "# print(glove_embedding_dimension)\n",
        "hidden_dim = 200\n",
        "action_vocab_size = len(targets_dict)\n",
        "epoch = 20\n",
        "glove_embedding_dimension = glv_dim\n",
        "if mean_mode == 0:\n",
        "  glove_embedding_dimension = glove_embedding_dimension * ( 2 * cwindow)\n",
        "\n",
        "model_path = f\"/content/drive/MyDrive/NLPwithDeepLearning/Assignment-2/best_model_{glv_size}_{glv_dim}_{mean_mode}.pth\"\n",
        "checkpoint = torch.load(model_path)\n",
        "parser_model = Parser_Model(pos_vocab_size, pos_embedding_dimension, glove_embedding_dimension, hidden_dim, action_vocab_size)\n",
        "optimizer = torch.optim.Adam(parser_model.parameters(), checkpoint[\"learning_rate\"])\n",
        "parser_model.load_state_dict(checkpoint[\"model_param\"])\n",
        "optimizer.load_state_dict(checkpoint[\"optim_param\"])\n",
        "print(\"Best Dev Accuracy = \", checkpoint[\"lowest_dev_loss\"])\n",
        "print(\"Learning Rate = \", checkpoint[\"learning_rate\"])\n",
        "print(\"Epoch = \", checkpoint[\"epoch\"])\n",
        "parser_model.to(device)"
      ],
      "metadata": {
        "colab": {
          "base_uri": "https://localhost:8080/"
        },
        "id": "TvhinDpOJvoW",
        "outputId": "396d8c2d-abb2-4dd8-ac7a-3db2b93301c3"
      },
      "execution_count": null,
      "outputs": [
        {
          "output_type": "stream",
          "name": "stdout",
          "text": [
            "Best Dev Accuracy =  0.3952052102633204\n",
            "Learning Rate =  0.0001\n",
            "Epoch =  19\n"
          ]
        },
        {
          "output_type": "execute_result",
          "data": {
            "text/plain": [
              "Parser_Model(\n",
              "  (embeddings): Embedding(18, 50, max_norm=1)\n",
              "  (linear1): Linear(in_features=50, out_features=200, bias=True)\n",
              "  (linear2): Linear(in_features=50, out_features=200, bias=True)\n",
              "  (linear3): Linear(in_features=200, out_features=75, bias=True)\n",
              "  (relu): ReLU()\n",
              ")"
            ]
          },
          "metadata": {},
          "execution_count": 121
        }
      ]
    },
    {
      "cell_type": "markdown",
      "source": [
        "##6B50D Concatenate"
      ],
      "metadata": {
        "id": "hpwscAPyLonz"
      }
    },
    {
      "cell_type": "code",
      "source": [
        "#Set glove and embedding dimenaion\n",
        "vec = vec6B50D\n",
        "embed_dim = 50\n",
        "mean_mode == 0\n",
        "cwindow = 2\n",
        "\n",
        "X_train, y_train = prepare_train_corpus(train_w, train_pos, train_target, vec, embed_dim, mean_mode, cwindow)\n",
        "\n",
        "print(X_train.shape, y_train.shape)"
      ],
      "metadata": {
        "colab": {
          "base_uri": "https://localhost:8080/"
        },
        "id": "jDcYLk5wJvlR",
        "outputId": "5bc41f64-2341-4f50-e833-5ba2ef9774fd"
      },
      "execution_count": null,
      "outputs": [
        {
          "output_type": "stream",
          "name": "stdout",
          "text": [
            "0\n",
            "torch.Size([257487, 204]) torch.Size([257487])\n"
          ]
        }
      ]
    },
    {
      "cell_type": "code",
      "source": [
        "glv_size = '6B'\n",
        "glv_dim = 50\n",
        "mean_mode = 0 #If mean then 1\n",
        "cwindow = 2\n",
        "glove_embedding_dimension = glv_dim\n",
        "if mean_mode == 0:\n",
        "  glove_embedding_dimension = glove_embedding_dimension * ( 2 * cwindow)\n",
        "\n",
        "train_dataloader = DataLoader(list(zip(X_train,y_train)), shuffle=False, batch_size=64)\n",
        "\n",
        "# train_dataloader, dev_dataloader, test_dataloader, glove_embedding_dimension = prepare_dataset(glv_size, glv_dim, mean_mode, cwindow)\n",
        "\n",
        "learning_rates = np.array([0.01, 0.001, 0.0001])\n",
        "best_acc = -1\n",
        "\n",
        "for i in range(learning_rates.shape[0]):\n",
        "  pos_vocab_size = len(pos_dict)\n",
        "  pos_embedding_dimension = 50\n",
        "  # glove_embedding_dimension = X_train.shape[1] - 4\n",
        "  # print(glove_embedding_dimension)\n",
        "  hidden_dim = 200\n",
        "  action_vocab_size = len(targets_dict)\n",
        "  epoch = 20\n",
        "\n",
        "\n",
        "  parser_model = Parser_Model(pos_vocab_size, pos_embedding_dimension, glove_embedding_dimension, hidden_dim, action_vocab_size)\n",
        "  parser_model.to(device)\n",
        "  criterion = nn.CrossEntropyLoss()\n",
        "\n",
        "  optimizer = torch.optim.Adam(parser_model.parameters(), lr=learning_rates[i])\n",
        "  print(\"For learning rate = \",learning_rates[i])\n",
        "\n",
        "  train_losses, ret_model, best_dev_acc = batch_gd(\n",
        "      parser_model, criterion, optimizer, train_dataloader, dev_w, dev_pos, dev_target, epoch, vec6B50D, glv_size, glv_dim, learning_rates[i], mean_mode)\n",
        "\n",
        "\n",
        "  # avg_dev_losses = np.mean(dev_losses)\n",
        "  # print('Best Development Loss = ', best_dev_loss)\n",
        "\n",
        "\n",
        "  plt.plot(train_losses, label = 'train_loss')\n",
        "  # plt.plot(dev_losses, label = 'dev_loss')\n",
        "  plt.legend()\n",
        "  plt.show()"
      ],
      "metadata": {
        "colab": {
          "base_uri": "https://localhost:8080/",
          "height": 1000
        },
        "id": "9YTHgaolJvim",
        "outputId": "32b13a23-94f1-44f6-a375-99b87c26e5cf"
      },
      "execution_count": null,
      "outputs": [
        {
          "metadata": {
            "tags": null
          },
          "name": "stdout",
          "output_type": "stream",
          "text": [
            "For learning rate =  0.01\n",
            "Epoch =  0  Train Loss =  0.9505273743530747\n",
            "UAS,LAS =  0.5349503116051878 0.4401212733703891\n",
            "Epoch =  1  Train Loss =  0.8386882772395169\n",
            "UAS,LAS =  0.5495480321149852 0.46527426871034755\n",
            "Epoch =  2  Train Loss =  0.8178660712625172\n",
            "UAS,LAS =  0.5526921565324799 0.4725169838863624\n",
            "Epoch =  3  Train Loss =  0.8065272252173505\n",
            "UAS,LAS =  0.5504463533771264 0.46774465218123634\n",
            "Epoch =  4  Train Loss =  0.8010048659973839\n",
            "UAS,LAS =  0.5668407164112066 0.4735275953062714\n",
            "Epoch =  5  Train Loss =  0.7968868543347621\n",
            "UAS,LAS =  0.5476390994329347 0.4598843411374993\n",
            "Epoch =  6  Train Loss =  0.7928241257024392\n",
            "UAS,LAS =  0.5606086126551008 0.4752680927516703\n",
            "Epoch =  7  Train Loss =  0.7873734727642586\n",
            "UAS,LAS =  0.5672898770422773 0.4854864971085284\n",
            "Epoch =  8  Train Loss =  0.7872570117076425\n",
            "UAS,LAS =  0.556790747291 0.47313457975408457\n",
            "Epoch =  9  Train Loss =  0.7842143747851875\n",
            "UAS,LAS =  0.5790241985289989 0.4959294817809219\n",
            "Epoch =  10  Train Loss =  0.7844536237040938\n",
            "UAS,LAS =  0.5744203020605244 0.4931222278367301\n",
            "Epoch =  11  Train Loss =  0.7849622916311737\n",
            "UAS,LAS =  0.5715007579585649 0.49508730559766434\n",
            "Epoch =  12  Train Loss =  0.7824998280092719\n",
            "UAS,LAS =  0.567346022121161 0.490427264050306\n",
            "Epoch =  13  Train Loss =  0.7821824052954318\n",
            "UAS,LAS =  0.5754870585593173 0.4987367357251137\n",
            "Epoch =  14  Train Loss =  0.7805070143496659\n",
            "UAS,LAS =  0.5679636179888833 0.4898658132614676\n",
            "Epoch =  15  Train Loss =  0.776927567429648\n",
            "UAS,LAS =  0.5694795351187468 0.49003424849811916\n",
            "Epoch =  16  Train Loss =  0.7804540417288572\n",
            "UAS,LAS =  0.5727359496940093 0.49020268373477066\n",
            "Epoch =  17  Train Loss =  0.7756301624622662\n",
            "UAS,LAS =  0.5698164055920498 0.4864409634495536\n",
            "Epoch =  18  Train Loss =  0.7796906230389835\n",
            "UAS,LAS =  0.5682443433833024 0.48251080792768514\n",
            "Epoch =  19  Train Loss =  0.7835005678210563\n",
            "UAS,LAS =  0.5671775868845096 0.4744820616472966\n",
            "Best dev acc =  0.5790241985289989\n"
          ]
        },
        {
          "data": {
            "image/png": "[encoded data removed]",
            "text/plain": [
              "<Figure size 640x480 with 1 Axes>"
            ]
          },
          "metadata": {},
          "output_type": "display_data"
        },
        {
          "metadata": {
            "tags": null
          },
          "name": "stdout",
          "output_type": "stream",
          "text": [
            "For learning rate =  0.001\n",
            "Epoch =  0  Train Loss =  0.921373479882955\n",
            "UAS,LAS =  0.591993711751165 0.5175453371511987\n",
            "Epoch =  1  Train Loss =  0.6521272087491915\n",
            "UAS,LAS =  0.631632137443153 0.563640446914828\n",
            "Epoch =  2  Train Loss =  0.586072983035066\n",
            "UAS,LAS =  0.6419628319577789 0.5747571725338274\n",
            "Epoch =  3  Train Loss =  0.5481663384247075\n",
            "UAS,LAS =  0.650833754421425 0.5834035146819381\n",
            "Epoch =  4  Train Loss =  0.5226128282077299\n",
            "UAS,LAS =  0.6547639099432935 0.5859300432317107\n",
            "Epoch =  5  Train Loss =  0.5033113835620181\n",
            "UAS,LAS =  0.6581887597552074 0.5890180225703218\n",
            "Epoch =  6  Train Loss =  0.4881526001953107\n",
            "UAS,LAS =  0.6592555162540004 0.5903093593846499\n",
            "Epoch =  7  Train Loss =  0.47599441582377755\n",
            "UAS,LAS =  0.6623434955926113 0.5930043231710741\n",
            "Epoch =  8  Train Loss =  0.4658383849534256\n",
            "UAS,LAS =  0.6605468530683286 0.5904216495424176\n",
            "Epoch =  9  Train Loss =  0.45718090352278284\n",
            "UAS,LAS =  0.661052158778283 0.5920498568300488\n",
            "Epoch =  10  Train Loss =  0.4495048273695451\n",
            "UAS,LAS =  0.6635786873280557 0.5952501263264275\n",
            "Epoch =  11  Train Loss =  0.44292981494181083\n",
            "UAS,LAS =  0.6604345629105609 0.5921621469878166\n",
            "Epoch =  12  Train Loss =  0.4370440732471082\n",
            "UAS,LAS =  0.662792656223682 0.5936780641176801\n",
            "Epoch =  13  Train Loss =  0.4319165777516872\n",
            "UAS,LAS =  0.6628488013025658 0.5935096288810285\n",
            "Epoch =  14  Train Loss =  0.4271739895907314\n",
            "UAS,LAS =  0.6594239514906518 0.5895794733591601\n",
            "Epoch =  15  Train Loss =  0.42304434624609816\n",
            "UAS,LAS =  0.6607714333838639 0.5915445511200943\n",
            "Epoch =  16  Train Loss =  0.41882594713615345\n",
            "UAS,LAS =  0.6600976924372579 0.589916343832463\n",
            "Epoch =  17  Train Loss =  0.4153518343786848\n",
            "UAS,LAS =  0.6599854022794902 0.5900847790691146\n",
            "Epoch =  18  Train Loss =  0.41192205879322547\n",
            "UAS,LAS =  0.6612205940149346 0.5904216495424176\n",
            "Epoch =  19  Train Loss =  0.40875379512897486\n",
            "UAS,LAS =  0.6579080343607883 0.5876705406771097\n",
            "Best dev acc =  0.6635786873280557\n"
          ]
        },
        {
          "data": {
            "image/png": "[encoded data removed]",
            "text/plain": [
              "<Figure size 640x480 with 1 Axes>"
            ]
          },
          "metadata": {},
          "output_type": "display_data"
        },
        {
          "output_type": "stream",
          "name": "stdout",
          "text": [
            "For learning rate =  0.0001\n",
            "Epoch =  0  Train Loss =  1.6139703615611163\n",
            "UAS,LAS =  0.3726910336309022 0.272921228454326\n",
            "Epoch =  1  Train Loss =  1.0897036026829992\n",
            "UAS,LAS =  0.4634776261860648 0.37415080568188197\n",
            "Epoch =  2  Train Loss =  0.9432767313455137\n",
            "UAS,LAS =  0.5211386221997641 0.43877379147717704\n",
            "Epoch =  3  Train Loss =  0.8623765247761018\n",
            "UAS,LAS =  0.5525798663747122 0.475717253382741\n",
            "Epoch =  4  Train Loss =  0.8075992628769064\n",
            "UAS,LAS =  0.5685812138566054 0.49385211386222\n",
            "Epoch =  5  Train Loss =  0.7666324702263708\n",
            "UAS,LAS =  0.5839088203918926 0.5119869743416989\n",
            "Epoch =  6  Train Loss =  0.7343052286380684\n",
            "UAS,LAS =  0.5930043231710741 0.5234405704340015\n",
            "Epoch =  7  Train Loss =  0.708182313036966\n",
            "UAS,LAS =  0.6018191005558363 0.5328729436864859\n",
            "Epoch =  8  Train Loss =  0.686766467062723\n",
            "UAS,LAS =  0.6100162820728763 0.5417438661501319\n",
            "Epoch =  9  Train Loss =  0.6688200997051673\n",
            "UAS,LAS =  0.6146201785413509 0.548200550221773\n",
            "Epoch =  10  Train Loss =  0.653424495160876\n",
            "UAS,LAS =  0.6196170905620122 0.5533658974790859\n",
            "Epoch =  11  Train Loss =  0.6400255499144731\n",
            "UAS,LAS =  0.6257369041603503 0.5601033069451462\n",
            "Epoch =  12  Train Loss =  0.6281387331464122\n",
            "UAS,LAS =  0.6304530907865925 0.5647633484925046\n",
            "Epoch =  13  Train Loss =  0.6174273026244304\n",
            "UAS,LAS =  0.6332041996519006 0.5676828925944641\n",
            "Epoch =  14  Train Loss =  0.6077074083068202\n",
            "UAS,LAS =  0.636797484700466 0.5718376284318679\n",
            "Epoch =  15  Train Loss =  0.5987608066424875\n",
            "UAS,LAS =  0.6400538992757285 0.5758239290326203\n",
            "Epoch =  16  Train Loss =  0.5905147009893926\n",
            "UAS,LAS =  0.6426927179832688 0.5784066026612767\n",
            "Epoch =  17  Train Loss =  0.5828539204393064\n",
            "UAS,LAS =  0.6442086351131323 0.5803155353433271\n",
            "Epoch =  18  Train Loss =  0.5757381079096354\n",
            "UAS,LAS =  0.6457806973218797 0.5814945819998877\n",
            "Epoch =  19  Train Loss =  0.5690960258256578\n",
            "UAS,LAS =  0.6492616922126776 0.5850317219695693\n",
            "Best dev acc =  0.6492616922126776\n"
          ]
        },
        {
          "output_type": "display_data",
          "data": {
            "text/plain": [
              "<Figure size 640x480 with 1 Axes>"
            ],
            "image/png": "[encoded data removed]"
          },
          "metadata": {}
        }
      ]
    },
    {
      "cell_type": "code",
      "source": [
        "pos_vocab_size = len(pos_dict)\n",
        "pos_embedding_dimension = 50\n",
        "# glove_embedding_dimension = X_train.shape[1] - 4\n",
        "# print(glove_embedding_dimension)\n",
        "hidden_dim = 200\n",
        "action_vocab_size = len(targets_dict)\n",
        "epoch = 20\n",
        "glove_embedding_dimension = glv_dim\n",
        "if mean_mode == 0:\n",
        "  glove_embedding_dimension = glove_embedding_dimension * ( 2 * cwindow)\n",
        "\n",
        "model_path = f\"/content/drive/MyDrive/NLPwithDeepLearning/Assignment-2/best_model_{glv_size}_{glv_dim}_{mean_mode}.pth\"\n",
        "checkpoint = torch.load(model_path)\n",
        "parser_model = Parser_Model(pos_vocab_size, pos_embedding_dimension, glove_embedding_dimension, hidden_dim, action_vocab_size)\n",
        "optimizer = torch.optim.Adam(parser_model.parameters(), checkpoint[\"learning_rate\"])\n",
        "parser_model.load_state_dict(checkpoint[\"model_param\"])\n",
        "optimizer.load_state_dict(checkpoint[\"optim_param\"])\n",
        "print(\"Best Dev Accuracy = \", checkpoint[\"lowest_dev_loss\"])\n",
        "print(\"Learning Rate = \", checkpoint[\"learning_rate\"])\n",
        "print(\"Epoch = \", checkpoint[\"epoch\"])\n",
        "parser_model.to(device)"
      ],
      "metadata": {
        "colab": {
          "base_uri": "https://localhost:8080/"
        },
        "id": "DFqaF8WvJvfs",
        "outputId": "4bbc3833-3382-4dce-dd14-b5a0ff01b00c"
      },
      "execution_count": null,
      "outputs": [
        {
          "output_type": "stream",
          "name": "stdout",
          "text": [
            "Best Dev Accuracy =  0.6492616922126776\n",
            "Learning Rate =  0.0001\n",
            "Epoch =  19\n"
          ]
        },
        {
          "output_type": "execute_result",
          "data": {
            "text/plain": [
              "Parser_Model(\n",
              "  (embeddings): Embedding(18, 50, max_norm=1)\n",
              "  (linear1): Linear(in_features=50, out_features=200, bias=True)\n",
              "  (linear2): Linear(in_features=200, out_features=200, bias=True)\n",
              "  (linear3): Linear(in_features=200, out_features=75, bias=True)\n",
              "  (relu): ReLU()\n",
              ")"
            ]
          },
          "metadata": {},
          "execution_count": 130
        }
      ]
    },
    {
      "cell_type": "markdown",
      "source": [
        "##6B300D Mean"
      ],
      "metadata": {
        "id": "66W3XZB8V0WP"
      }
    },
    {
      "cell_type": "code",
      "source": [
        "#Set glove and embedding dimenaion\n",
        "vec = vec6B300D\n",
        "embed_dim = 300\n",
        "mean_mode == 1\n",
        "cwindow = 2\n",
        "\n",
        "X_train, y_train = prepare_train_corpus(train_w, train_pos, train_target, vec, embed_dim, mean_mode, cwindow)\n",
        "\n",
        "print(X_train.shape, y_train.shape)"
      ],
      "metadata": {
        "colab": {
          "base_uri": "https://localhost:8080/"
        },
        "id": "ITjzJMgYV4hT",
        "outputId": "7c05255b-fc21-4207-dcfe-70686d41409b"
      },
      "execution_count": null,
      "outputs": [
        {
          "output_type": "stream",
          "name": "stdout",
          "text": [
            "1\n",
            "torch.Size([257487, 304]) torch.Size([257487])\n"
          ]
        }
      ]
    },
    {
      "cell_type": "code",
      "source": [
        "glv_size = '6B'\n",
        "glv_dim = 300\n",
        "mean_mode = 1 #If mean then 1\n",
        "cwindow = 2\n",
        "glove_embedding_dimension = glv_dim\n",
        "if mean_mode == 0:\n",
        "  glove_embedding_dimension = glove_embedding_dimension * ( 2 * cwindow)\n",
        "\n",
        "train_dataloader = DataLoader(list(zip(X_train,y_train)), shuffle=False, batch_size=64)\n",
        "\n",
        "# train_dataloader, dev_dataloader, test_dataloader, glove_embedding_dimension = prepare_dataset(glv_size, glv_dim, mean_mode, cwindow)\n",
        "\n",
        "learning_rates = np.array([0.01, 0.001, 0.0001])\n",
        "best_acc = -1\n",
        "\n",
        "for i in range(learning_rates.shape[0]):\n",
        "  pos_vocab_size = len(pos_dict)\n",
        "  pos_embedding_dimension = 50\n",
        "  # glove_embedding_dimension = X_train.shape[1] - 4\n",
        "  # print(glove_embedding_dimension)\n",
        "  hidden_dim = 200\n",
        "  action_vocab_size = len(targets_dict)\n",
        "  epoch = 20\n",
        "\n",
        "  print(glove_embedding_dimension)\n",
        "  parser_model = Parser_Model(pos_vocab_size, pos_embedding_dimension, glove_embedding_dimension, hidden_dim, action_vocab_size)\n",
        "  parser_model.to(device)\n",
        "  criterion = nn.CrossEntropyLoss()\n",
        "\n",
        "  optimizer = torch.optim.Adam(parser_model.parameters(), lr=learning_rates[i])\n",
        "  print(\"For learning rate = \",learning_rates[i])\n",
        "\n",
        "  train_losses, ret_model, best_dev_acc = batch_gd(\n",
        "      parser_model, criterion, optimizer, train_dataloader, dev_w, dev_pos, dev_target, epoch, vec, glv_size, glv_dim, learning_rates[i], mean_mode)\n",
        "\n",
        "\n",
        "  # avg_dev_losses = np.mean(dev_losses)\n",
        "  # print('Best Development Loss = ', best_dev_loss)\n",
        "\n",
        "\n",
        "  plt.plot(train_losses, label = 'train_loss')\n",
        "  # plt.plot(dev_losses, label = 'dev_loss')\n",
        "  plt.legend()\n",
        "  plt.show()"
      ],
      "metadata": {
        "colab": {
          "base_uri": "https://localhost:8080/"
        },
        "id": "5SUFas6lV4cn",
        "outputId": "f0574f81-17da-4562-9e44-1adcba849c2d"
      },
      "execution_count": null,
      "outputs": [
        {
          "output_type": "stream",
          "name": "stdout",
          "text": [
            "300\n",
            "For learning rate =  0.01\n",
            "Epoch =  0  Train Loss =  1.3745987805913742\n",
            "UAS,LAS =  0.33698276346078265 0.258548088260064\n",
            "Epoch =  1  Train Loss =  1.2767245647595606\n",
            "UAS,LAS =  0.36763797653135705 0.2969513222166077\n",
            "Epoch =  2  Train Loss =  1.2639385270284373\n",
            "UAS,LAS =  0.3606198416708776 0.29448093874571896\n",
            "Epoch =  3  Train Loss =  1.2586416017049349\n",
            "UAS,LAS =  0.3350176856998484 0.2588288136544832\n",
            "Epoch =  4  Train Loss =  1.2522699815141516\n",
            "UAS,LAS =  0.3477064735275953 0.27224748750771993\n",
            "Epoch =  5  Train Loss =  1.2527568733863992\n",
            "UAS,LAS =  0.3767334793105384 0.31014541575430915\n",
            "Epoch =  6  Train Loss =  1.254630109395232\n",
            "UAS,LAS =  0.356015945202403 0.27932176744708326\n",
            "Epoch =  7  Train Loss =  1.2549790945311428\n",
            "UAS,LAS =  0.37263488855201843 0.2929088765369715\n",
            "Epoch =  8  Train Loss =  1.2509009805961584\n",
            "UAS,LAS =  0.34781876368536296 0.26893492785357365\n",
            "Epoch =  9  Train Loss =  1.2520997877756714\n",
            "UAS,LAS =  0.3615181629330189 0.2847116950199315\n",
            "Epoch =  10  Train Loss =  1.2514406248082817\n",
            "UAS,LAS =  0.3565773959912414 0.2898770422772444\n",
            "Epoch =  11  Train Loss =  1.2535794941971363\n",
            "UAS,LAS =  0.3333333333333333 0.2584919431811802\n",
            "Epoch =  12  Train Loss =  1.2501450324686574\n",
            "UAS,LAS =  0.3338947841221717 0.25703217113020044\n"
          ]
        }
      ]
    },
    {
      "cell_type": "code",
      "source": [
        "pos_vocab_size = len(pos_dict)\n",
        "pos_embedding_dimension = 50\n",
        "# glove_embedding_dimension = X_train.shape[1] - 4\n",
        "# print(glove_embedding_dimension)\n",
        "hidden_dim = 200\n",
        "action_vocab_size = len(targets_dict)\n",
        "epoch = 20\n",
        "glove_embedding_dimension = glv_dim\n",
        "if mean_mode == 0:\n",
        "  glove_embedding_dimension = glove_embedding_dimension * ( 2 * cwindow)\n",
        "\n",
        "model_path = f\"/content/drive/MyDrive/NLPwithDeepLearning/Assignment-2/best_model_{glv_size}_{glv_dim}_{mean_mode}.pth\"\n",
        "checkpoint = torch.load(model_path)\n",
        "parser_model = Parser_Model(pos_vocab_size, pos_embedding_dimension, glove_embedding_dimension, hidden_dim, action_vocab_size)\n",
        "optimizer = torch.optim.Adam(parser_model.parameters(), checkpoint[\"learning_rate\"])\n",
        "parser_model.load_state_dict(checkpoint[\"model_param\"])\n",
        "optimizer.load_state_dict(checkpoint[\"optim_param\"])\n",
        "print(\"Best Dev Accuracy = \", checkpoint[\"lowest_dev_loss\"])\n",
        "print(\"Learning Rate = \", checkpoint[\"learning_rate\"])\n",
        "print(\"Epoch = \", checkpoint[\"epoch\"])\n",
        "parser_model.to(device)"
      ],
      "metadata": {
        "id": "ToIuPtaoV4Zy"
      },
      "execution_count": null,
      "outputs": []
    },
    {
      "cell_type": "markdown",
      "source": [
        "##6B300D Concatenate"
      ],
      "metadata": {
        "id": "umD_rUWYY5Hy"
      }
    },
    {
      "cell_type": "code",
      "source": [
        "#Set glove and embedding dimenaion\n",
        "vec = vec6B300D\n",
        "embed_dim = 300\n",
        "mean_mode == 0\n",
        "cwindow = 2\n",
        "\n",
        "X_train, y_train = prepare_train_corpus(train_w, train_pos, train_target, vec, embed_dim, mean_mode, cwindow)\n",
        "\n",
        "print(X_train.shape, y_train.shape)"
      ],
      "metadata": {
        "id": "dB5fufV3WcIS"
      },
      "execution_count": null,
      "outputs": []
    },
    {
      "cell_type": "code",
      "source": [
        "glv_size = '6B'\n",
        "glv_dim = 300\n",
        "mean_mode = 0 #If mean then 1\n",
        "cwindow = 2\n",
        "glove_embedding_dimension = glv_dim\n",
        "if mean_mode == 0:\n",
        "  glove_embedding_dimension = glove_embedding_dimension * ( 2 * cwindow)\n",
        "\n",
        "train_dataloader = DataLoader(list(zip(X_train,y_train)), shuffle=False, batch_size=64)\n",
        "\n",
        "# train_dataloader, dev_dataloader, test_dataloader, glove_embedding_dimension = prepare_dataset(glv_size, glv_dim, mean_mode, cwindow)\n",
        "\n",
        "learning_rates = np.array([0.01, 0.001, 0.0001])\n",
        "best_acc = -1\n",
        "\n",
        "for i in range(learning_rates.shape[0]):\n",
        "  pos_vocab_size = len(pos_dict)\n",
        "  pos_embedding_dimension = 50\n",
        "  # glove_embedding_dimension = X_train.shape[1] - 4\n",
        "  # print(glove_embedding_dimension)\n",
        "  hidden_dim = 200\n",
        "  action_vocab_size = len(targets_dict)\n",
        "  epoch = 20\n",
        "\n",
        "  print(glove_embedding_dimension)\n",
        "  parser_model = Parser_Model(pos_vocab_size, pos_embedding_dimension, glove_embedding_dimension, hidden_dim, action_vocab_size)\n",
        "  parser_model.to(device)\n",
        "  criterion = nn.CrossEntropyLoss()\n",
        "\n",
        "  optimizer = torch.optim.Adam(parser_model.parameters(), lr=learning_rates[i])\n",
        "  print(\"For learning rate = \",learning_rates[i])\n",
        "\n",
        "  train_losses, ret_model, best_dev_acc = batch_gd(\n",
        "      parser_model, criterion, optimizer, train_dataloader, dev_w, dev_pos, dev_target, epoch, vec, glv_size, glv_dim, learning_rates[i], mean_mode)\n",
        "\n",
        "\n",
        "  # avg_dev_losses = np.mean(dev_losses)\n",
        "  # print('Best Development Loss = ', best_dev_loss)\n",
        "\n",
        "\n",
        "  plt.plot(train_losses, label = 'train_loss')\n",
        "  # plt.plot(dev_losses, label = 'dev_loss')\n",
        "  plt.legend()\n",
        "  plt.show()"
      ],
      "metadata": {
        "id": "kIfUTxsLWcFn"
      },
      "execution_count": null,
      "outputs": []
    },
    {
      "cell_type": "code",
      "source": [
        "pos_vocab_size = len(pos_dict)\n",
        "pos_embedding_dimension = 50\n",
        "# glove_embedding_dimension = X_train.shape[1] - 4\n",
        "# print(glove_embedding_dimension)\n",
        "hidden_dim = 200\n",
        "action_vocab_size = len(targets_dict)\n",
        "epoch = 20\n",
        "glove_embedding_dimension = glv_dim\n",
        "if mean_mode == 0:\n",
        "  glove_embedding_dimension = glove_embedding_dimension * ( 2 * cwindow)\n",
        "\n",
        "model_path = f\"/content/drive/MyDrive/NLPwithDeepLearning/Assignment-2/best_model_{glv_size}_{glv_dim}_{mean_mode}.pth\"\n",
        "checkpoint = torch.load(model_path)\n",
        "parser_model = Parser_Model(pos_vocab_size, pos_embedding_dimension, glove_embedding_dimension, hidden_dim, action_vocab_size)\n",
        "optimizer = torch.optim.Adam(parser_model.parameters(), checkpoint[\"learning_rate\"])\n",
        "parser_model.load_state_dict(checkpoint[\"model_param\"])\n",
        "optimizer.load_state_dict(checkpoint[\"optim_param\"])\n",
        "print(\"Best Dev Accuracy = \", checkpoint[\"lowest_dev_loss\"])\n",
        "print(\"Learning Rate = \", checkpoint[\"learning_rate\"])\n",
        "print(\"Epoch = \", checkpoint[\"epoch\"])\n",
        "parser_model.to(device)"
      ],
      "metadata": {
        "id": "xn3BU_miZK0_"
      },
      "execution_count": null,
      "outputs": []
    },
    {
      "cell_type": "markdown",
      "source": [
        "##42B300D Mean"
      ],
      "metadata": {
        "id": "7__yz6ceZL11"
      }
    },
    {
      "cell_type": "code",
      "source": [
        "#Set glove and embedding dimenaion\n",
        "vec = vec42B300D\n",
        "embed_dim = 300\n",
        "mean_mode == 1\n",
        "cwindow = 2\n",
        "\n",
        "X_train, y_train = prepare_train_corpus(train_w, train_pos, train_target, vec, embed_dim, mean_mode, cwindow)\n",
        "\n",
        "print(X_train.shape, y_train.shape)"
      ],
      "metadata": {
        "id": "9IWECHScZKyb"
      },
      "execution_count": null,
      "outputs": []
    },
    {
      "cell_type": "code",
      "source": [
        "glv_size = '42B'\n",
        "glv_dim = 300\n",
        "mean_mode = 1 #If mean then 1\n",
        "cwindow = 2\n",
        "glove_embedding_dimension = glv_dim\n",
        "if mean_mode == 0:\n",
        "  glove_embedding_dimension = glove_embedding_dimension * ( 2 * cwindow)\n",
        "\n",
        "train_dataloader = DataLoader(list(zip(X_train,y_train)), shuffle=False, batch_size=64)\n",
        "\n",
        "# train_dataloader, dev_dataloader, test_dataloader, glove_embedding_dimension = prepare_dataset(glv_size, glv_dim, mean_mode, cwindow)\n",
        "\n",
        "learning_rates = np.array([0.01, 0.001, 0.0001])\n",
        "best_acc = -1\n",
        "\n",
        "for i in range(learning_rates.shape[0]):\n",
        "  pos_vocab_size = len(pos_dict)\n",
        "  pos_embedding_dimension = 50\n",
        "  # glove_embedding_dimension = X_train.shape[1] - 4\n",
        "  # print(glove_embedding_dimension)\n",
        "  hidden_dim = 200\n",
        "  action_vocab_size = len(targets_dict)\n",
        "  epoch = 20\n",
        "\n",
        "  print(glove_embedding_dimension)\n",
        "  parser_model = Parser_Model(pos_vocab_size, pos_embedding_dimension, glove_embedding_dimension, hidden_dim, action_vocab_size)\n",
        "  parser_model.to(device)\n",
        "  criterion = nn.CrossEntropyLoss()\n",
        "\n",
        "  optimizer = torch.optim.Adam(parser_model.parameters(), lr=learning_rates[i])\n",
        "  print(\"For learning rate = \",learning_rates[i])\n",
        "\n",
        "  train_losses, ret_model, best_dev_acc = batch_gd(\n",
        "      parser_model, criterion, optimizer, train_dataloader, dev_w, dev_pos, dev_target, epoch, vec, glv_size, glv_dim, learning_rates[i], mean_mode)\n",
        "\n",
        "\n",
        "  # avg_dev_losses = np.mean(dev_losses)\n",
        "  # print('Best Development Loss = ', best_dev_loss)\n",
        "\n",
        "\n",
        "  plt.plot(train_losses, label = 'train_loss')\n",
        "  # plt.plot(dev_losses, label = 'dev_loss')\n",
        "  plt.legend()\n",
        "  plt.show()"
      ],
      "metadata": {
        "id": "Rl7gSBTgZKv_"
      },
      "execution_count": null,
      "outputs": []
    },
    {
      "cell_type": "code",
      "source": [
        "pos_vocab_size = len(pos_dict)\n",
        "pos_embedding_dimension = 50\n",
        "# glove_embedding_dimension = X_train.shape[1] - 4\n",
        "# print(glove_embedding_dimension)\n",
        "hidden_dim = 200\n",
        "action_vocab_size = len(targets_dict)\n",
        "epoch = 20\n",
        "glove_embedding_dimension = glv_dim\n",
        "if mean_mode == 0:\n",
        "  glove_embedding_dimension = glove_embedding_dimension * ( 2 * cwindow)\n",
        "\n",
        "model_path = f\"/content/drive/MyDrive/NLPwithDeepLearning/Assignment-2/best_model_{glv_size}_{glv_dim}_{mean_mode}.pth\"\n",
        "checkpoint = torch.load(model_path)\n",
        "parser_model = Parser_Model(pos_vocab_size, pos_embedding_dimension, glove_embedding_dimension, hidden_dim, action_vocab_size)\n",
        "optimizer = torch.optim.Adam(parser_model.parameters(), checkpoint[\"learning_rate\"])\n",
        "parser_model.load_state_dict(checkpoint[\"model_param\"])\n",
        "optimizer.load_state_dict(checkpoint[\"optim_param\"])\n",
        "print(\"Best Dev Accuracy = \", checkpoint[\"lowest_dev_loss\"])\n",
        "print(\"Learning Rate = \", checkpoint[\"learning_rate\"])\n",
        "print(\"Epoch = \", checkpoint[\"epoch\"])\n",
        "parser_model.to(device)"
      ],
      "metadata": {
        "id": "BJQXyC4kZKs5"
      },
      "execution_count": null,
      "outputs": []
    },
    {
      "cell_type": "markdown",
      "source": [
        "##42B300D Concatenate"
      ],
      "metadata": {
        "id": "2fZT6Q21Zkom"
      }
    },
    {
      "cell_type": "code",
      "source": [
        "#Set glove and embedding dimenaion\n",
        "vec = vec42B300D\n",
        "embed_dim = 300\n",
        "mean_mode == 0\n",
        "cwindow = 2\n",
        "\n",
        "X_train, y_train = prepare_train_corpus(train_w, train_pos, train_target, vec, embed_dim, mean_mode, cwindow)\n",
        "\n",
        "print(X_train.shape, y_train.shape)"
      ],
      "metadata": {
        "id": "ylc0JQQpZZWr"
      },
      "execution_count": null,
      "outputs": []
    },
    {
      "cell_type": "code",
      "source": [
        "glv_size = '42B'\n",
        "glv_dim = 300\n",
        "mean_mode = 0 #If mean then 1\n",
        "cwindow = 2\n",
        "glove_embedding_dimension = glv_dim\n",
        "if mean_mode == 0:\n",
        "  glove_embedding_dimension = glove_embedding_dimension * ( 2 * cwindow)\n",
        "\n",
        "train_dataloader = DataLoader(list(zip(X_train,y_train)), shuffle=False, batch_size=64)\n",
        "\n",
        "# train_dataloader, dev_dataloader, test_dataloader, glove_embedding_dimension = prepare_dataset(glv_size, glv_dim, mean_mode, cwindow)\n",
        "\n",
        "learning_rates = np.array([0.01, 0.001, 0.0001])\n",
        "best_acc = -1\n",
        "\n",
        "for i in range(learning_rates.shape[0]):\n",
        "  pos_vocab_size = len(pos_dict)\n",
        "  pos_embedding_dimension = 50\n",
        "  # glove_embedding_dimension = X_train.shape[1] - 4\n",
        "  # print(glove_embedding_dimension)\n",
        "  hidden_dim = 200\n",
        "  action_vocab_size = len(targets_dict)\n",
        "  epoch = 20\n",
        "\n",
        "  print(glove_embedding_dimension)\n",
        "  parser_model = Parser_Model(pos_vocab_size, pos_embedding_dimension, glove_embedding_dimension, hidden_dim, action_vocab_size)\n",
        "  parser_model.to(device)\n",
        "  criterion = nn.CrossEntropyLoss()\n",
        "\n",
        "  optimizer = torch.optim.Adam(parser_model.parameters(), lr=learning_rates[i])\n",
        "  print(\"For learning rate = \",learning_rates[i])\n",
        "\n",
        "  train_losses, ret_model, best_dev_acc = batch_gd(\n",
        "      parser_model, criterion, optimizer, train_dataloader, dev_w, dev_pos, dev_target, epoch, vec, glv_size, glv_dim, learning_rates[i], mean_mode)\n",
        "\n",
        "\n",
        "  # avg_dev_losses = np.mean(dev_losses)\n",
        "  # print('Best Development Loss = ', best_dev_loss)\n",
        "\n",
        "\n",
        "  plt.plot(train_losses, label = 'train_loss')\n",
        "  # plt.plot(dev_losses, label = 'dev_loss')\n",
        "  plt.legend()\n",
        "  plt.show()"
      ],
      "metadata": {
        "id": "ZBraaebNZZUO"
      },
      "execution_count": null,
      "outputs": []
    },
    {
      "cell_type": "code",
      "source": [
        "pos_vocab_size = len(pos_dict)\n",
        "pos_embedding_dimension = 50\n",
        "# glove_embedding_dimension = X_train.shape[1] - 4\n",
        "# print(glove_embedding_dimension)\n",
        "hidden_dim = 200\n",
        "action_vocab_size = len(targets_dict)\n",
        "epoch = 20\n",
        "glove_embedding_dimension = glv_dim\n",
        "if mean_mode == 0:\n",
        "  glove_embedding_dimension = glove_embedding_dimension * ( 2 * cwindow)\n",
        "\n",
        "model_path = f\"/content/drive/MyDrive/NLPwithDeepLearning/Assignment-2/best_model_{glv_size}_{glv_dim}_{mean_mode}.pth\"\n",
        "checkpoint = torch.load(model_path)\n",
        "parser_model = Parser_Model(pos_vocab_size, pos_embedding_dimension, glove_embedding_dimension, hidden_dim, action_vocab_size)\n",
        "optimizer = torch.optim.Adam(parser_model.parameters(), checkpoint[\"learning_rate\"])\n",
        "parser_model.load_state_dict(checkpoint[\"model_param\"])\n",
        "optimizer.load_state_dict(checkpoint[\"optim_param\"])\n",
        "print(\"Best Dev Accuracy = \", checkpoint[\"lowest_dev_loss\"])\n",
        "print(\"Learning Rate = \", checkpoint[\"learning_rate\"])\n",
        "print(\"Epoch = \", checkpoint[\"epoch\"])\n",
        "parser_model.to(device)"
      ],
      "metadata": {
        "id": "nZRelFxOZZQ-"
      },
      "execution_count": null,
      "outputs": []
    },
    {
      "cell_type": "markdown",
      "source": [
        "##840B300D Mean"
      ],
      "metadata": {
        "id": "nqEHn0D-Z2Gf"
      }
    },
    {
      "cell_type": "code",
      "source": [
        "#Set glove and embedding dimenaion\n",
        "vec = vec840B300D\n",
        "embed_dim = 300\n",
        "mean_mode == 1\n",
        "cwindow = 2\n",
        "\n",
        "X_train, y_train = prepare_train_corpus(train_w, train_pos, train_target, vec, embed_dim, mean_mode, cwindow)\n",
        "\n",
        "print(X_train.shape, y_train.shape)"
      ],
      "metadata": {
        "id": "Fq6koYKzZZOJ",
        "colab": {
          "base_uri": "https://localhost:8080/"
        },
        "outputId": "4e4ae37a-8d61-4a4f-d403-b5409e5c73f8"
      },
      "execution_count": 25,
      "outputs": [
        {
          "output_type": "stream",
          "name": "stdout",
          "text": [
            "1\n",
            "torch.Size([257487, 304]) torch.Size([257487])\n"
          ]
        }
      ]
    },
    {
      "cell_type": "code",
      "source": [
        "glv_size = '840B'\n",
        "glv_dim = 300\n",
        "mean_mode = 1 #If mean then 1\n",
        "cwindow = 2\n",
        "glove_embedding_dimension = glv_dim\n",
        "if mean_mode == 0:\n",
        "  glove_embedding_dimension = glove_embedding_dimension * ( 2 * cwindow)\n",
        "\n",
        "train_dataloader = DataLoader(list(zip(X_train,y_train)), shuffle=False, batch_size=64)\n",
        "\n",
        "# train_dataloader, dev_dataloader, test_dataloader, glove_embedding_dimension = prepare_dataset(glv_size, glv_dim, mean_mode, cwindow)\n",
        "\n",
        "learning_rates = np.array([0.01, 0.001, 0.0001])\n",
        "best_acc = -1\n",
        "\n",
        "for i in range(learning_rates.shape[0]):\n",
        "  pos_vocab_size = len(pos_dict)\n",
        "  pos_embedding_dimension = 50\n",
        "  # glove_embedding_dimension = X_train.shape[1] - 4\n",
        "  # print(glove_embedding_dimension)\n",
        "  hidden_dim = 200\n",
        "  action_vocab_size = len(targets_dict)\n",
        "  epoch = 20\n",
        "\n",
        "  print(glove_embedding_dimension)\n",
        "  parser_model = Parser_Model(pos_vocab_size, pos_embedding_dimension, glove_embedding_dimension, hidden_dim, action_vocab_size)\n",
        "  parser_model.to(device)\n",
        "  criterion = nn.CrossEntropyLoss()\n",
        "\n",
        "  optimizer = torch.optim.Adam(parser_model.parameters(), lr=learning_rates[i])\n",
        "  print(\"For learning rate = \",learning_rates[i])\n",
        "\n",
        "  train_losses, ret_model, best_dev_acc = batch_gd(\n",
        "      parser_model, criterion, optimizer, train_dataloader, dev_w, dev_pos, dev_target, epoch, vec, glv_size, glv_dim, learning_rates[i], mean_mode)\n",
        "\n",
        "\n",
        "  # avg_dev_losses = np.mean(dev_losses)\n",
        "  # print('Best Development Loss = ', best_dev_loss)\n",
        "\n",
        "\n",
        "  plt.plot(train_losses, label = 'train_loss')\n",
        "  # plt.plot(dev_losses, label = 'dev_loss')\n",
        "  plt.legend()\n",
        "  plt.show()"
      ],
      "metadata": {
        "id": "FMd36Uu6ZZLh",
        "colab": {
          "base_uri": "https://localhost:8080/",
          "height": 1000
        },
        "outputId": "1a1ab482-b526-4838-b6ad-4a690e311f3e"
      },
      "execution_count": 26,
      "outputs": [
        {
          "output_type": "stream",
          "name": "stdout",
          "text": [
            "300\n",
            "For learning rate =  0.01\n",
            "Epoch =  0  Train Loss =  1.2544618472382871\n",
            "UAS,LAS =  0.23783055415192858 0.15771152658469484\n",
            "Epoch =  1  Train Loss =  1.1735241547612025\n",
            "UAS,LAS =  0.2527090000561451 0.16377519510414912\n",
            "Epoch =  2  Train Loss =  1.159173497152524\n",
            "UAS,LAS =  0.20908427376340463 0.12632642748863063\n",
            "Epoch =  3  Train Loss =  1.15282456546459\n",
            "UAS,LAS =  0.2456908651956656 0.15080568188198304\n",
            "Epoch =  4  Train Loss =  1.145725923714415\n",
            "UAS,LAS =  0.23114928976475213 0.13783616865981696\n",
            "Epoch =  5  Train Loss =  1.1450240833881065\n",
            "UAS,LAS =  0.21318286452192464 0.12789848969737802\n",
            "Epoch =  6  Train Loss =  1.1448632154473017\n",
            "UAS,LAS =  0.22413115490427263 0.1402504070518219\n",
            "Epoch =  7  Train Loss =  1.145628504995738\n",
            "UAS,LAS =  0.23025096850261076 0.149458199988771\n",
            "Epoch =  8  Train Loss =  1.145168952932711\n",
            "UAS,LAS =  0.1396328111840997 0.1106058054011566\n",
            "Epoch =  9  Train Loss =  1.1433930638288823\n",
            "UAS,LAS =  0.22862276121497951 0.14232777497052385\n",
            "Epoch =  10  Train Loss =  1.1411598821764972\n",
            "UAS,LAS =  0.2207624501712425 0.1449665936780641\n",
            "Epoch =  11  Train Loss =  1.142944596244937\n",
            "UAS,LAS =  0.18522261523777442 0.11947672786480265\n",
            "Epoch =  12  Train Loss =  1.1404032300617064\n",
            "UAS,LAS =  0.16225927797428555 0.11913985739149964\n",
            "Epoch =  13  Train Loss =  1.1456400917076448\n",
            "UAS,LAS =  0.18185391050474425 0.13323227219134243\n",
            "Epoch =  14  Train Loss =  1.1495209562316329\n",
            "UAS,LAS =  0.22665768345404524 0.14328224131154904\n",
            "Epoch =  15  Train Loss =  1.141781259794714\n",
            "UAS,LAS =  0.18623322665768346 0.12026275896917635\n",
            "Epoch =  16  Train Loss =  1.1467486124589417\n",
            "UAS,LAS =  0.1816293301892089 0.11515355679074729\n",
            "Epoch =  17  Train Loss =  1.1480224119503029\n",
            "UAS,LAS =  0.19656392117230925 0.12290157767671664\n",
            "Epoch =  18  Train Loss =  1.1403713319228432\n",
            "UAS,LAS =  0.18915277075964293 0.12756161922407502\n",
            "Epoch =  19  Train Loss =  1.144141943892001\n",
            "UAS,LAS =  0.21301442928527314 0.12750547414519117\n",
            "Best dev acc =  0.2527090000561451\n"
          ]
        },
        {
          "output_type": "display_data",
          "data": {
            "text/plain": [
              "<Figure size 640x480 with 1 Axes>"
            ],
            "image/png": "[encoded data removed]"
          },
          "metadata": {}
        },
        {
          "output_type": "stream",
          "name": "stdout",
          "text": [
            "300\n",
            "For learning rate =  0.001\n",
            "Epoch =  0  Train Loss =  1.2696509531978704\n",
            "UAS,LAS =  0.2833080680478356 0.22789287518948964\n",
            "Epoch =  1  Train Loss =  1.0356136334404558\n",
            "UAS,LAS =  0.24479254393352423 0.20156083319297063\n",
            "Epoch =  2  Train Loss =  0.9816563363681375\n",
            "UAS,LAS =  0.25298972545056425 0.2077367918701926\n",
            "Epoch =  3  Train Loss =  0.9478227578133167\n",
            "UAS,LAS =  0.26584694851496266 0.21773061591151535\n",
            "Epoch =  4  Train Loss =  0.9227711530272695\n",
            "UAS,LAS =  0.27746897984391666 0.2273314244006513\n",
            "Epoch =  5  Train Loss =  0.9024387533937546\n",
            "UAS,LAS =  0.29274044130032 0.235977766548762\n",
            "Epoch =  6  Train Loss =  0.8859700941282582\n",
            "UAS,LAS =  0.303688731682668 0.2424344506204031\n",
            "Epoch =  7  Train Loss =  0.8719467196750564\n",
            "UAS,LAS =  0.303351861209365 0.24091853349053954\n",
            "Epoch =  8  Train Loss =  0.8594369034506899\n",
            "UAS,LAS =  0.3113244624108697 0.24277132109370614\n",
            "Epoch =  9  Train Loss =  0.8487677845241091\n",
            "UAS,LAS =  0.318398742350233 0.24816124866655437\n",
            "Epoch =  10  Train Loss =  0.8390385017750662\n",
            "UAS,LAS =  0.3171074055359048 0.24468025377575656\n",
            "Epoch =  11  Train Loss =  0.8302352136874915\n",
            "UAS,LAS =  0.3154230531693897 0.24119925888495874\n",
            "Epoch =  12  Train Loss =  0.8225821426886303\n",
            "UAS,LAS =  0.317388130930324 0.2419291449104486\n",
            "Epoch =  13  Train Loss =  0.8154687119340506\n",
            "UAS,LAS =  0.31559148840604123 0.24069395317500422\n",
            "Epoch =  14  Train Loss =  0.8091259791754616\n",
            "UAS,LAS =  0.3175004210880916 0.2427151760148223\n",
            "Epoch =  15  Train Loss =  0.8028757106549815\n",
            "UAS,LAS =  0.31300881477738474 0.23906574588737298\n",
            "Epoch =  16  Train Loss =  0.7973999213742067\n",
            "UAS,LAS =  0.31154904272640505 0.23687608781090339\n",
            "Epoch =  17  Train Loss =  0.7921650807556527\n",
            "UAS,LAS =  0.31222278367301104 0.23766211891527708\n",
            "Epoch =  18  Train Loss =  0.787868543018848\n",
            "UAS,LAS =  0.3091909494132839 0.235640896075459\n",
            "Epoch =  19  Train Loss =  0.7830595433060265\n",
            "UAS,LAS =  0.31250350906743024 0.23698837796867103\n",
            "Best dev acc =  0.318398742350233\n"
          ]
        },
        {
          "output_type": "display_data",
          "data": {
            "text/plain": [
              "<Figure size 640x480 with 1 Axes>"
            ],
            "image/png": "[encoded data removed]"
          },
          "metadata": {}
        },
        {
          "output_type": "stream",
          "name": "stdout",
          "text": [
            "300\n",
            "For learning rate =  0.0001\n",
            "Epoch =  0  Train Loss =  1.898432068126813\n",
            "UAS,LAS =  0.15917129863567459 0.09780472741564201\n",
            "Epoch =  1  Train Loss =  1.4162983845319472\n",
            "UAS,LAS =  0.1583852675313009 0.11447981584414126\n",
            "Epoch =  2  Train Loss =  1.2893407718754313\n",
            "UAS,LAS =  0.22952108247712089 0.17865364100836562\n",
            "Epoch =  3  Train Loss =  1.217985937723642\n",
            "UAS,LAS =  0.30194823423726913 0.2381674246252316\n",
            "Epoch =  4  Train Loss =  1.1686132903438557\n",
            "UAS,LAS =  0.31879175790241987 0.2514738083207007\n",
            "Epoch =  5  Train Loss =  1.132718847557221\n",
            "UAS,LAS =  0.3263713435517377 0.2572567514457358\n",
            "Epoch =  6  Train Loss =  1.1055645658514253\n",
            "UAS,LAS =  0.3263713435517377 0.2571444612879681\n",
            "Epoch =  7  Train Loss =  1.0841729410777745\n",
            "UAS,LAS =  0.32704508449834374 0.25860423333894783\n",
            "Epoch =  8  Train Loss =  1.0666727034326933\n",
            "UAS,LAS =  0.32216046263545 0.2557408343158722\n",
            "Epoch =  9  Train Loss =  1.0519038998405217\n",
            "UAS,LAS =  0.3140194261972938 0.2518106787940037\n",
            "Epoch =  10  Train Loss =  1.0390935604928977\n",
            "UAS,LAS =  0.307450451967885 0.2470944921677615\n",
            "Epoch =  11  Train Loss =  1.0277844098716915\n",
            "UAS,LAS =  0.3046431980236932 0.24698220200999382\n",
            "Epoch =  12  Train Loss =  1.0177397666458285\n",
            "UAS,LAS =  0.2994217056874965 0.243838077592499\n",
            "Epoch =  13  Train Loss =  1.0086719077487827\n",
            "UAS,LAS =  0.29998315647633483 0.24541013980124643\n",
            "Epoch =  14  Train Loss =  1.000427894257231\n",
            "UAS,LAS =  0.296165291112234 0.24344506204031216\n",
            "Epoch =  15  Train Loss =  0.9928813201651184\n",
            "UAS,LAS =  0.29453708382460275 0.24260288585705464\n",
            "Epoch =  16  Train Loss =  0.9859048661888831\n",
            "UAS,LAS =  0.2929088765369715 0.24181685475268092\n",
            "Epoch =  17  Train Loss =  0.979441298638465\n",
            "UAS,LAS =  0.29184212003817867 0.24181685475268092\n",
            "Epoch =  18  Train Loss =  0.973406860438244\n",
            "UAS,LAS =  0.2891471562517545 0.239739486833979\n",
            "Epoch =  19  Train Loss =  0.967742218956292\n",
            "UAS,LAS =  0.28740665880635563 0.23945876143955983\n",
            "Best dev acc =  0.32704508449834374\n"
          ]
        },
        {
          "output_type": "display_data",
          "data": {
            "text/plain": [
              "<Figure size 640x480 with 1 Axes>"
            ],
            "image/png": "[encoded data removed]"
          },
          "metadata": {}
        }
      ]
    },
    {
      "cell_type": "code",
      "source": [
        "pos_vocab_size = len(pos_dict)\n",
        "pos_embedding_dimension = 50\n",
        "# glove_embedding_dimension = X_train.shape[1] - 4\n",
        "# print(glove_embedding_dimension)\n",
        "hidden_dim = 200\n",
        "action_vocab_size = len(targets_dict)\n",
        "epoch = 20\n",
        "glove_embedding_dimension = glv_dim\n",
        "if mean_mode == 0:\n",
        "  glove_embedding_dimension = glove_embedding_dimension * ( 2 * cwindow)\n",
        "\n",
        "model_path = f\"/content/drive/MyDrive/NLPwithDeepLearning/Assignment-2/best_model_{glv_size}_{glv_dim}_{mean_mode}.pth\"\n",
        "checkpoint = torch.load(model_path)\n",
        "parser_model = Parser_Model(pos_vocab_size, pos_embedding_dimension, glove_embedding_dimension, hidden_dim, action_vocab_size)\n",
        "optimizer = torch.optim.Adam(parser_model.parameters(), checkpoint[\"learning_rate\"])\n",
        "parser_model.load_state_dict(checkpoint[\"model_param\"])\n",
        "optimizer.load_state_dict(checkpoint[\"optim_param\"])\n",
        "print(\"Best Dev Accuracy = \", checkpoint[\"lowest_dev_loss\"])\n",
        "print(\"Learning Rate = \", checkpoint[\"learning_rate\"])\n",
        "print(\"Epoch = \", checkpoint[\"epoch\"])\n",
        "parser_model.to(device)"
      ],
      "metadata": {
        "id": "bpmR_ztXZZJN",
        "colab": {
          "base_uri": "https://localhost:8080/"
        },
        "outputId": "2988f436-56a4-49e4-debe-3791ff44f17d"
      },
      "execution_count": 27,
      "outputs": [
        {
          "output_type": "stream",
          "name": "stdout",
          "text": [
            "Best Dev Accuracy =  0.32704508449834374\n",
            "Learning Rate =  0.0001\n",
            "Epoch =  7\n"
          ]
        },
        {
          "output_type": "execute_result",
          "data": {
            "text/plain": [
              "Parser_Model(\n",
              "  (embeddings): Embedding(18, 50, max_norm=1)\n",
              "  (linear1): Linear(in_features=50, out_features=200, bias=True)\n",
              "  (linear2): Linear(in_features=300, out_features=200, bias=True)\n",
              "  (linear3): Linear(in_features=200, out_features=75, bias=True)\n",
              "  (relu): ReLU()\n",
              ")"
            ]
          },
          "metadata": {},
          "execution_count": 27
        }
      ]
    },
    {
      "cell_type": "markdown",
      "source": [
        "##840B300D Concatenate"
      ],
      "metadata": {
        "id": "loERWzOsaNT-"
      }
    },
    {
      "cell_type": "code",
      "source": [
        "#Set glove and embedding dimenaion\n",
        "vec = vec840B300D\n",
        "embed_dim = 300\n",
        "mean_mode == 0\n",
        "cwindow = 2\n",
        "\n",
        "X_train, y_train = prepare_train_corpus(train_w, train_pos, train_target, vec, embed_dim, mean_mode, cwindow)\n",
        "\n",
        "print(X_train.shape, y_train.shape)"
      ],
      "metadata": {
        "id": "xbq-aK56aUZy",
        "colab": {
          "base_uri": "https://localhost:8080/"
        },
        "outputId": "77bddc5d-8461-42af-b46f-977e917ef8d2"
      },
      "execution_count": 30,
      "outputs": [
        {
          "output_type": "stream",
          "name": "stdout",
          "text": [
            "0\n",
            "torch.Size([257487, 1204]) torch.Size([257487])\n"
          ]
        }
      ]
    },
    {
      "cell_type": "code",
      "source": [
        "glv_size = '840B'\n",
        "glv_dim = 300\n",
        "mean_mode = 0 #If mean then 1\n",
        "cwindow = 2\n",
        "glove_embedding_dimension = glv_dim\n",
        "if mean_mode == 0:\n",
        "  glove_embedding_dimension = glove_embedding_dimension * ( 2 * cwindow)\n",
        "\n",
        "train_dataloader = DataLoader(list(zip(X_train,y_train)), shuffle=False, batch_size=64)\n",
        "\n",
        "# train_dataloader, dev_dataloader, test_dataloader, glove_embedding_dimension = prepare_dataset(glv_size, glv_dim, mean_mode, cwindow)\n",
        "\n",
        "learning_rates = np.array([0.01, 0.001, 0.0001])\n",
        "best_acc = -1\n",
        "\n",
        "for i in range(learning_rates.shape[0]):\n",
        "  pos_vocab_size = len(pos_dict)\n",
        "  pos_embedding_dimension = 50\n",
        "  # glove_embedding_dimension = X_train.shape[1] - 4\n",
        "  # print(glove_embedding_dimension)\n",
        "  hidden_dim = 200\n",
        "  action_vocab_size = len(targets_dict)\n",
        "  epoch = 20\n",
        "\n",
        "  print(glove_embedding_dimension)\n",
        "  parser_model = Parser_Model(pos_vocab_size, pos_embedding_dimension, glove_embedding_dimension, hidden_dim, action_vocab_size)\n",
        "  parser_model.to(device)\n",
        "  criterion = nn.CrossEntropyLoss()\n",
        "\n",
        "  optimizer = torch.optim.Adam(parser_model.parameters(), lr=learning_rates[i])\n",
        "  print(\"For learning rate = \",learning_rates[i])\n",
        "\n",
        "  train_losses, ret_model, best_dev_acc = batch_gd(\n",
        "      parser_model, criterion, optimizer, train_dataloader, dev_w, dev_pos, dev_target, epoch, vec, glv_size, glv_dim, learning_rates[i], mean_mode)\n",
        "\n",
        "\n",
        "  # avg_dev_losses = np.mean(dev_losses)\n",
        "  # print('Best Development Loss = ', best_dev_loss)\n",
        "\n",
        "\n",
        "  plt.plot(train_losses, label = 'train_loss')\n",
        "  # plt.plot(dev_losses, label = 'dev_loss')\n",
        "  plt.legend()\n",
        "  plt.show()"
      ],
      "metadata": {
        "id": "YF33Ur4baUwQ",
        "colab": {
          "base_uri": "https://localhost:8080/",
          "height": 1000
        },
        "outputId": "b3a6fb3c-e127-422c-812a-6b4ac37f4f73"
      },
      "execution_count": 31,
      "outputs": [
        {
          "output_type": "stream",
          "name": "stdout",
          "text": [
            "1200\n",
            "For learning rate =  0.01\n",
            "Epoch =  0  Train Loss =  0.8751922457499307\n",
            "UAS,LAS =  0.5187243838077592 0.44775700409859076\n",
            "Epoch =  1  Train Loss =  0.7373312681387539\n",
            "UAS,LAS =  0.5552748301611363 0.48436359553085173\n",
            "Epoch =  2  Train Loss =  0.7188118689732392\n",
            "UAS,LAS =  0.5077199483465274 0.45247319072483294\n",
            "Epoch =  3  Train Loss =  0.7099000053835762\n",
            "UAS,LAS =  0.5406771096513391 0.46869911852226154\n",
            "Epoch =  4  Train Loss =  0.6941991744870338\n",
            "UAS,LAS =  0.537252259839425 0.46735163662904944\n",
            "Epoch =  5  Train Loss =  0.6883241929943353\n",
            "UAS,LAS =  0.5479198248273539 0.48279153332210434\n",
            "Epoch =  6  Train Loss =  0.6762422469924121\n",
            "UAS,LAS =  0.5357363427095615 0.4713940823086856\n",
            "Epoch =  7  Train Loss =  0.6740696117278211\n",
            "UAS,LAS =  0.5371399696816574 0.47453820672618047\n",
            "Epoch =  8  Train Loss =  0.6754178465186631\n",
            "UAS,LAS =  0.5263039694570771 0.4582561338498681\n",
            "Epoch =  9  Train Loss =  0.6683553332596217\n",
            "UAS,LAS =  0.5307955757677839 0.46701476615574644\n",
            "Epoch =  10  Train Loss =  0.6721138953347922\n",
            "UAS,LAS =  0.5232159901184661 0.46016506653191847\n",
            "Epoch =  11  Train Loss =  0.6693624893840306\n",
            "UAS,LAS =  0.532816798607602 0.46735163662904944\n",
            "Epoch =  12  Train Loss =  0.6736475599403854\n",
            "UAS,LAS =  0.5639211723092471 0.48930436247262926\n",
            "Epoch =  13  Train Loss =  0.6948848592143351\n",
            "UAS,LAS =  0.5404525293358037 0.45949132558531247\n",
            "Epoch =  14  Train Loss =  0.6794303817578238\n",
            "UAS,LAS =  0.5500533378249396 0.4724608388074785\n",
            "Epoch =  15  Train Loss =  0.6724973262396917\n",
            "UAS,LAS =  0.5451125708831621 0.47908595811577115\n",
            "Epoch =  16  Train Loss =  0.6778149200940345\n",
            "UAS,LAS =  0.5633597215204087 0.4885744764471394\n",
            "Epoch =  17  Train Loss =  0.6730191511033514\n",
            "UAS,LAS =  0.5476952445118185 0.4785245073269328\n",
            "Epoch =  18  Train Loss =  0.66917085258205\n",
            "UAS,LAS =  0.5645387681769692 0.48666554376508897\n",
            "Epoch =  19  Train Loss =  0.6899208812835528\n",
            "UAS,LAS =  0.5850317219695693 0.5030037617202853\n",
            "Best dev acc =  0.5850317219695693\n"
          ]
        },
        {
          "output_type": "display_data",
          "data": {
            "text/plain": [
              "<Figure size 640x480 with 1 Axes>"
            ],
            "image/png": "[encoded data removed]"
          },
          "metadata": {}
        },
        {
          "output_type": "stream",
          "name": "stdout",
          "text": [
            "1200\n",
            "For learning rate =  0.001\n",
            "Epoch =  0  Train Loss =  0.7147676165828529\n",
            "UAS,LAS =  0.632362023468643 0.575262478243782\n",
            "Epoch =  1  Train Loss =  0.4817501494890564\n",
            "UAS,LAS =  0.6398293189601931 0.5860423333894784\n",
            "Epoch =  2  Train Loss =  0.4048767307454768\n",
            "UAS,LAS =  0.6470158890573241 0.5929481780921902\n",
            "Epoch =  3  Train Loss =  0.34989214202974206\n",
            "UAS,LAS =  0.651844365841334 0.5976643647184324\n",
            "Epoch =  4  Train Loss =  0.30614012646975797\n",
            "UAS,LAS =  0.6530795575767784 0.5980573802706193\n",
            "Epoch =  5  Train Loss =  0.2703071148009789\n",
            "UAS,LAS =  0.6493178372915613 0.5932850485654932\n",
            "Epoch =  6  Train Loss =  0.24021327572691423\n",
            "UAS,LAS =  0.651170624894728 0.593397338723261\n",
            "Epoch =  7  Train Loss =  0.21497440176588256\n",
            "UAS,LAS =  0.6419066868788951 0.5855370276795239\n",
            "Epoch =  8  Train Loss =  0.19362708899423028\n",
            "UAS,LAS =  0.643984054797597 0.5846387064173825\n",
            "Epoch =  9  Train Loss =  0.17676776757826715\n",
            "UAS,LAS =  0.6476896300039302 0.587558250519342\n",
            "Epoch =  10  Train Loss =  0.16192140143686834\n",
            "UAS,LAS =  0.643984054797597 0.5862669137050137\n",
            "Epoch =  11  Train Loss =  0.1498328542020209\n",
            "UAS,LAS =  0.6440401998764809 0.5830666442086351\n",
            "Epoch =  12  Train Loss =  0.13964457430325497\n",
            "UAS,LAS =  0.64841951602942 0.5843018359440795\n",
            "Epoch =  13  Train Loss =  0.12953646987628945\n",
            "UAS,LAS =  0.6385941272247487 0.5752063331648981\n",
            "Epoch =  14  Train Loss =  0.12286261440241787\n",
            "UAS,LAS =  0.6347201167817641 0.5730728201673123\n",
            "Epoch =  15  Train Loss =  0.11646112367507555\n",
            "UAS,LAS =  0.6307899612598956 0.5675706024366964\n",
            "Epoch =  16  Train Loss =  0.11026711608609555\n",
            "UAS,LAS =  0.6359553085172085 0.572511369378474\n",
            "Epoch =  17  Train Loss =  0.10409707372454291\n",
            "UAS,LAS =  0.6431980236932233 0.5768345404525294\n",
            "Epoch =  18  Train Loss =  0.09992362477865939\n",
            "UAS,LAS =  0.6408399303801022 0.5753747684015496\n",
            "Epoch =  19  Train Loss =  0.0958718071397992\n",
            "UAS,LAS =  0.6380326764359104 0.5708270170119589\n",
            "Best dev acc =  0.6530795575767784\n"
          ]
        },
        {
          "output_type": "display_data",
          "data": {
            "text/plain": [
              "<Figure size 640x480 with 1 Axes>"
            ],
            "image/png": "[encoded data removed]"
          },
          "metadata": {}
        },
        {
          "output_type": "stream",
          "name": "stdout",
          "text": [
            "1200\n",
            "For learning rate =  0.0001\n",
            "Epoch =  0  Train Loss =  1.2400375044947234\n",
            "UAS,LAS =  0.4689236988377969 0.41401381168940543\n",
            "Epoch =  1  Train Loss =  0.7590473014305884\n",
            "UAS,LAS =  0.5460108921453035 0.49177474594351805\n",
            "Epoch =  2  Train Loss =  0.6522787034133852\n",
            "UAS,LAS =  0.5662792656223682 0.5141766324181686\n",
            "Epoch =  3  Train Loss =  0.5941570305615427\n",
            "UAS,LAS =  0.580034809948908 0.5275953062714053\n",
            "Epoch =  4  Train Loss =  0.5543459752911543\n",
            "UAS,LAS =  0.5903093593846499 0.537982145864915\n",
            "Epoch =  5  Train Loss =  0.5237648462206421\n",
            "UAS,LAS =  0.5986749761383414 0.5462916175397227\n",
            "Epoch =  6  Train Loss =  0.49883074156577084\n",
            "UAS,LAS =  0.6038964684745383 0.5529167368480152\n",
            "Epoch =  7  Train Loss =  0.47774436649594226\n",
            "UAS,LAS =  0.6075458986019875 0.5572399079220707\n",
            "Epoch =  8  Train Loss =  0.4595215666991016\n",
            "UAS,LAS =  0.6122620852282298 0.5620122396271967\n",
            "Epoch =  9  Train Loss =  0.4435158049110064\n",
            "UAS,LAS =  0.6133849868059065 0.5638650272303632\n",
            "Epoch =  10  Train Loss =  0.42923767556053094\n",
            "UAS,LAS =  0.6145078883835832 0.5655493795968783\n",
            "Epoch =  11  Train Loss =  0.4163080494458348\n",
            "UAS,LAS =  0.6178765931166134 0.5693672449609791\n",
            "Epoch =  12  Train Loss =  0.4044589040278796\n",
            "UAS,LAS =  0.6203469765875022 0.5708831620908428\n",
            "Epoch =  13  Train Loss =  0.3934941026113676\n",
            "UAS,LAS =  0.6229857952950424 0.5733535455617315\n",
            "Epoch =  14  Train Loss =  0.38327424294291207\n",
            "UAS,LAS =  0.6266913705013756 0.5764415249003425\n",
            "Epoch =  15  Train Loss =  0.3736860619794955\n",
            "UAS,LAS =  0.6262422098703049 0.5768345404525294\n",
            "Epoch =  16  Train Loss =  0.36461164835733073\n",
            "UAS,LAS =  0.6292178990511482 0.579697939475605\n",
            "Epoch =  17  Train Loss =  0.3560124276118875\n",
            "UAS,LAS =  0.6312391218909662 0.5816068721576554\n",
            "Epoch =  18  Train Loss =  0.3477962772948871\n",
            "UAS,LAS =  0.63202515299534 0.5827297737353321\n",
            "Epoch =  19  Train Loss =  0.3399467162804578\n",
            "UAS,LAS =  0.6305653809443602 0.581045421368817\n",
            "Best dev acc =  0.63202515299534\n"
          ]
        },
        {
          "output_type": "display_data",
          "data": {
            "text/plain": [
              "<Figure size 640x480 with 1 Axes>"
            ],
            "image/png": "[encoded data removed]"
          },
          "metadata": {}
        }
      ]
    },
    {
      "cell_type": "code",
      "source": [
        "pos_vocab_size = len(pos_dict)\n",
        "pos_embedding_dimension = 50\n",
        "# glove_embedding_dimension = X_train.shape[1] - 4\n",
        "# print(glove_embedding_dimension)\n",
        "hidden_dim = 200\n",
        "action_vocab_size = len(targets_dict)\n",
        "epoch = 20\n",
        "glove_embedding_dimension = glv_dim\n",
        "if mean_mode == 0:\n",
        "  glove_embedding_dimension = glove_embedding_dimension * ( 2 * cwindow)\n",
        "\n",
        "model_path = f\"/content/drive/MyDrive/NLPwithDeepLearning/Assignment-2/best_model_{glv_size}_{glv_dim}_{mean_mode}.pth\"\n",
        "checkpoint = torch.load(model_path)\n",
        "parser_model = Parser_Model(pos_vocab_size, pos_embedding_dimension, glove_embedding_dimension, hidden_dim, action_vocab_size)\n",
        "optimizer = torch.optim.Adam(parser_model.parameters(), checkpoint[\"learning_rate\"])\n",
        "parser_model.load_state_dict(checkpoint[\"model_param\"])\n",
        "optimizer.load_state_dict(checkpoint[\"optim_param\"])\n",
        "print(\"Best Dev Accuracy = \", checkpoint[\"lowest_dev_loss\"])\n",
        "print(\"Learning Rate = \", checkpoint[\"learning_rate\"])\n",
        "print(\"Epoch = \", checkpoint[\"epoch\"])\n",
        "parser_model.to(device)"
      ],
      "metadata": {
        "id": "AMTuZeyWaUdM",
        "colab": {
          "base_uri": "https://localhost:8080/"
        },
        "outputId": "d4c6f92e-ff7f-4ce1-8591-48bdc0fbfb97"
      },
      "execution_count": 32,
      "outputs": [
        {
          "output_type": "stream",
          "name": "stdout",
          "text": [
            "Best Dev Accuracy =  0.63202515299534\n",
            "Learning Rate =  0.0001\n",
            "Epoch =  18\n"
          ]
        },
        {
          "output_type": "execute_result",
          "data": {
            "text/plain": [
              "Parser_Model(\n",
              "  (embeddings): Embedding(18, 50, max_norm=1)\n",
              "  (linear1): Linear(in_features=50, out_features=200, bias=True)\n",
              "  (linear2): Linear(in_features=1200, out_features=200, bias=True)\n",
              "  (linear3): Linear(in_features=200, out_features=75, bias=True)\n",
              "  (relu): ReLU()\n",
              ")"
            ]
          },
          "metadata": {},
          "execution_count": 32
        }
      ]
    },
    {
      "cell_type": "markdown",
      "source": [
        "#Task-1)Generating Result.txt"
      ],
      "metadata": {
        "id": "VdA_66mn9N3s"
      }
    },
    {
      "cell_type": "code",
      "source": [
        "vec = vec42B300D\n",
        "embed_dim = 300\n",
        "mean_mode == 0\n",
        "cwindow = 2\n",
        "\n",
        "glv_size = '42B'\n",
        "glv_dim = 300\n",
        "mean_mode = 0 #If mean then 1\n",
        "cwindow = 2\n",
        "glove_embedding_dimension = glv_dim\n",
        "if mean_mode == 0:\n",
        "  glove_embedding_dimension = glove_embedding_dimension * ( 2 * cwindow)\n",
        "\n",
        "\n",
        "pos_vocab_size = len(pos_dict)\n",
        "pos_embedding_dimension = 50\n",
        "# glove_embedding_dimension = X_train.shape[1] - 4\n",
        "# print(glove_embedding_dimension)\n",
        "hidden_dim = 200\n",
        "action_vocab_size = len(targets_dict)\n",
        "epoch = 20\n",
        "glove_embedding_dimension = glv_dim\n",
        "if mean_mode == 0:\n",
        "  glove_embedding_dimension = glove_embedding_dimension * ( 2 * cwindow)\n",
        "\n",
        "model_path = f\"/content/drive/MyDrive/NLPwithDeepLearning/Assignment-2/best_model_{glv_size}_{glv_dim}_{mean_mode}.pth\"\n",
        "checkpoint = torch.load(model_path)\n",
        "parser_model = Parser_Model(pos_vocab_size, pos_embedding_dimension, glove_embedding_dimension, hidden_dim, action_vocab_size)\n",
        "optimizer = torch.optim.Adam(parser_model.parameters(), checkpoint[\"learning_rate\"])\n",
        "parser_model.load_state_dict(checkpoint[\"model_param\"])\n",
        "optimizer.load_state_dict(checkpoint[\"optim_param\"])\n",
        "print(\"Best Dev Accuracy = \", checkpoint[\"lowest_dev_loss\"])\n",
        "print(\"Learning Rate = \", checkpoint[\"learning_rate\"])\n",
        "print(\"Epoch = \", checkpoint[\"epoch\"])\n",
        "parser_model.to(device)"
      ],
      "metadata": {
        "colab": {
          "base_uri": "https://localhost:8080/"
        },
        "id": "DSzxmJ1b9X0M",
        "outputId": "baa7ba00-b64f-4a65-fa46-4dd051945c8c"
      },
      "execution_count": 52,
      "outputs": [
        {
          "output_type": "stream",
          "name": "stdout",
          "text": [
            "Best Dev Accuracy =  0.7120880354836898\n",
            "Learning Rate =  0.0001\n",
            "Epoch =  18\n"
          ]
        },
        {
          "output_type": "execute_result",
          "data": {
            "text/plain": [
              "Parser_Model(\n",
              "  (embeddings): Embedding(18, 50, max_norm=1)\n",
              "  (linear1): Linear(in_features=50, out_features=200, bias=True)\n",
              "  (linear2): Linear(in_features=1200, out_features=200, bias=True)\n",
              "  (linear3): Linear(in_features=200, out_features=75, bias=True)\n",
              "  (relu): ReLU()\n",
              ")"
            ]
          },
          "metadata": {},
          "execution_count": 52
        }
      ]
    },
    {
      "cell_type": "code",
      "source": [
        "def hidden_samples_write(model, dev_words, dev_pos, glove, glv_size, glv_dim, mean_mode):\n",
        "  dev_pred_actions = []\n",
        "  for k in range(len(dev_words)):\n",
        "    # if k % 5000 == 0:\n",
        "    #   print(\"For Data = \", k)\n",
        "    stack = [Token(idx=-j-1, word=\"[NULL]\", pos= pos_dict['NULL']) for j in range(cwindow)]\n",
        "    parser_buff = []\n",
        "    dev_dependencies =[]\n",
        "    for ix in range(len(dev_words[k])):\n",
        "      parser_buff.append(Token(idx=ix, word=dev_words[k][ix], pos=dev_pos[k][ix]))\n",
        "    parser_buff.extend([Token(idx=ix+j+1, word=\"[NULL]\",pos= pos_dict['NULL']) for j in range(cwindow)])\n",
        "    state = ParseState(stack=stack, parse_buffer=parser_buff, dependencies=[])\n",
        "    m = 0\n",
        "    dev_temp_action = []\n",
        "    while(not is_final_state(state,cwindow)):\n",
        "      dev_input=[]\n",
        "      # print(\"Stack len = :\", len(stack), len(parser_buff))\n",
        "      dev_input.append(stack[-1].word)\n",
        "      dev_input.append(stack[-2].word)\n",
        "      dev_input.append(parser_buff[0].word)\n",
        "      dev_input.append(parser_buff[1].word)\n",
        "      dev_input.append(stack[-1].pos)\n",
        "      dev_input.append(stack[-2].pos)\n",
        "      dev_input.append(parser_buff[0].pos)\n",
        "      dev_input.append(parser_buff[1].pos)\n",
        "\n",
        "      temp_emb = glove.get_vecs_by_tokens(dev_input[:4])\n",
        "      if mean_mode==1:\n",
        "        temp_emb = torch.mean(temp_emb, dim=0)\n",
        "      else:\n",
        "        temp_emb = torch.flatten(temp_emb)\n",
        "      # print(temp_emb.shape)\n",
        "      # print(dev_input)\n",
        "      temp_pos = torch.tensor(dev_input[4:])\n",
        "      # print(temp_pos.shape)\n",
        "      # print(temp_emb.shape)\n",
        "      # print(temp_pos.shape)\n",
        "      temp_input = torch.cat((temp_emb, temp_pos)).unsqueeze(0).to(device)\n",
        "      # print(temp_input)\n",
        "      outputs = model(temp_input)\n",
        "      # print('Outputs = ',outputs.shape)\n",
        "      _, predictions = torch.max(outputs, 1)\n",
        "      # print('predictions = ',predictions)\n",
        "      pred_action = target_itos(predictions[0])\n",
        "\n",
        "      if len(stack) == 2 and predictions[0] != 0:\n",
        "        pred_action = \"SHIFT\"\n",
        "      elif len(parser_buff) == 2 and predictions[0] == 0:\n",
        "        outputs[0][0] = -1000000\n",
        "        _, predictions = torch.max(outputs, 1)\n",
        "        pred_action = target_itos(predictions[0])\n",
        "\n",
        "      # print('predictions = ',pred_action)\n",
        "\n",
        "      dev_temp_action.append(pred_action)\n",
        "      if pred_action == \"SHIFT\":\n",
        "        shift(state)\n",
        "      elif pred_action[:8] == \"REDUCE_L\":\n",
        "        left_arc(state, pred_action[9:])\n",
        "      else:\n",
        "        right_arc(state, pred_action[9:])\n",
        "    dev_pred_actions.append(dev_temp_action)\n",
        "\n",
        "\n",
        "  with open('/content/drive/MyDrive/NLPwithDeepLearning/Assignment-2/results.txt', 'w') as f:\n",
        "    for row in dev_pred_actions:\n",
        "      f.write(\" \".join([word for word in row]) + \"\\n\")\n",
        "  print(\"Writing in result.txt done\")\n",
        "  # dev_uas, dev_las = compute_metrics(dev_words, dev_actions, dev_pred_actions, cwindow=2)\n",
        "  # return dev_uas, dev_las"
      ],
      "metadata": {
        "id": "NzpjgGDp-FMj"
      },
      "execution_count": 53,
      "outputs": []
    },
    {
      "cell_type": "code",
      "source": [
        "hidden_samples_write(parser_model, hidden_w, hidden_pos, vec, glv_size, glv_dim, mean_mode)\n",
        "# print(\"For \",glv_size,glv_dim,\"B LAS = \",dev_las, \" and UAS = \", dev_uas)"
      ],
      "metadata": {
        "colab": {
          "base_uri": "https://localhost:8080/"
        },
        "id": "GZZ4PdCt9X3w",
        "outputId": "ab330415-f7ef-4740-ddea-cb4625c111fe"
      },
      "execution_count": 54,
      "outputs": [
        {
          "output_type": "stream",
          "name": "stdout",
          "text": [
            "Writing in result.txt done\n"
          ]
        }
      ]
    },
    {
      "cell_type": "markdown",
      "source": [
        "#Task-2) Provide the results of parser on the test split"
      ],
      "metadata": {
        "id": "JqaM6c8Kw-6m"
      }
    },
    {
      "cell_type": "markdown",
      "source": [
        "##a)6B50D Mean"
      ],
      "metadata": {
        "id": "YGSFUGwqxGhN"
      }
    },
    {
      "cell_type": "code",
      "source": [
        "vec = vec6B50D\n",
        "embed_dim = 50\n",
        "mean_mode == 1\n",
        "cwindow = 2\n",
        "\n",
        "glv_size = '6B'\n",
        "glv_dim = 50\n",
        "mean_mode = 1 #If mean then 1\n",
        "cwindow = 2\n",
        "glove_embedding_dimension = glv_dim\n",
        "if mean_mode == 0:\n",
        "  glove_embedding_dimension = glove_embedding_dimension * ( 2 * cwindow)\n",
        "\n",
        "\n",
        "pos_vocab_size = len(pos_dict)\n",
        "pos_embedding_dimension = 50\n",
        "# glove_embedding_dimension = X_train.shape[1] - 4\n",
        "# print(glove_embedding_dimension)\n",
        "hidden_dim = 200\n",
        "action_vocab_size = len(targets_dict)\n",
        "epoch = 20\n",
        "glove_embedding_dimension = glv_dim\n",
        "if mean_mode == 0:\n",
        "  glove_embedding_dimension = glove_embedding_dimension * ( 2 * cwindow)\n",
        "\n",
        "model_path = f\"/content/drive/MyDrive/NLPwithDeepLearning/Assignment-2/best_model_{glv_size}_{glv_dim}_{mean_mode}.pth\"\n",
        "checkpoint = torch.load(model_path)\n",
        "parser_model = Parser_Model(pos_vocab_size, pos_embedding_dimension, glove_embedding_dimension, hidden_dim, action_vocab_size)\n",
        "optimizer = torch.optim.Adam(parser_model.parameters(), checkpoint[\"learning_rate\"])\n",
        "parser_model.load_state_dict(checkpoint[\"model_param\"])\n",
        "optimizer.load_state_dict(checkpoint[\"optim_param\"])\n",
        "print(\"Best Dev Accuracy = \", checkpoint[\"lowest_dev_loss\"])\n",
        "print(\"Learning Rate = \", checkpoint[\"learning_rate\"])\n",
        "print(\"Epoch = \", checkpoint[\"epoch\"])\n",
        "parser_model.to(device)"
      ],
      "metadata": {
        "colab": {
          "base_uri": "https://localhost:8080/"
        },
        "id": "5QmR7UZxxMD1",
        "outputId": "98827220-7eab-4c85-bf51-8943f6361fc2"
      },
      "execution_count": 34,
      "outputs": [
        {
          "output_type": "stream",
          "name": "stdout",
          "text": [
            "Best Dev Accuracy =  0.3952052102633204\n",
            "Learning Rate =  0.0001\n",
            "Epoch =  19\n"
          ]
        },
        {
          "output_type": "execute_result",
          "data": {
            "text/plain": [
              "Parser_Model(\n",
              "  (embeddings): Embedding(18, 50, max_norm=1)\n",
              "  (linear1): Linear(in_features=50, out_features=200, bias=True)\n",
              "  (linear2): Linear(in_features=50, out_features=200, bias=True)\n",
              "  (linear3): Linear(in_features=200, out_features=75, bias=True)\n",
              "  (relu): ReLU()\n",
              ")"
            ]
          },
          "metadata": {},
          "execution_count": 34
        }
      ]
    },
    {
      "cell_type": "code",
      "source": [
        "def test_samples(model, dev_words, dev_pos, dev_actions, glove, glv_size, glv_dim, mean_mode):\n",
        "  dev_pred_actions = []\n",
        "  for k in range(len(dev_words)):\n",
        "    # if k % 5000 == 0:\n",
        "    #   print(\"For Data = \", k)\n",
        "    stack = [Token(idx=-j-1, word=\"[NULL]\", pos= pos_dict['NULL']) for j in range(cwindow)]\n",
        "    parser_buff = []\n",
        "    dev_dependencies =[]\n",
        "    for ix in range(len(dev_words[k])):\n",
        "      parser_buff.append(Token(idx=ix, word=dev_words[k][ix], pos=dev_pos[k][ix]))\n",
        "    parser_buff.extend([Token(idx=ix+j+1, word=\"[NULL]\",pos= pos_dict['NULL']) for j in range(cwindow)])\n",
        "    state = ParseState(stack=stack, parse_buffer=parser_buff, dependencies=[])\n",
        "    m = 0\n",
        "    dev_temp_action = []\n",
        "    while(not is_final_state(state,cwindow)):\n",
        "      dev_input=[]\n",
        "      # print(\"Stack len = :\", len(stack), len(parser_buff))\n",
        "      dev_input.append(stack[-1].word)\n",
        "      dev_input.append(stack[-2].word)\n",
        "      dev_input.append(parser_buff[0].word)\n",
        "      dev_input.append(parser_buff[1].word)\n",
        "      dev_input.append(stack[-1].pos)\n",
        "      dev_input.append(stack[-2].pos)\n",
        "      dev_input.append(parser_buff[0].pos)\n",
        "      dev_input.append(parser_buff[1].pos)\n",
        "\n",
        "      temp_emb = glove.get_vecs_by_tokens(dev_input[:4])\n",
        "      if mean_mode==1:\n",
        "        temp_emb = torch.mean(temp_emb, dim=0)\n",
        "      else:\n",
        "        temp_emb = torch.flatten(temp_emb)\n",
        "      # print(temp_emb.shape)\n",
        "      # print(dev_input)\n",
        "      temp_pos = torch.tensor(dev_input[4:])\n",
        "      # print(temp_pos.shape)\n",
        "      # print(temp_emb.shape)\n",
        "      # print(temp_pos.shape)\n",
        "      temp_input = torch.cat((temp_emb, temp_pos)).unsqueeze(0).to(device)\n",
        "      # print(temp_input)\n",
        "      outputs = model(temp_input)\n",
        "      # print('Outputs = ',outputs.shape)\n",
        "      _, predictions = torch.max(outputs, 1)\n",
        "      # print('predictions = ',predictions)\n",
        "      pred_action = target_itos(predictions[0])\n",
        "\n",
        "      if len(stack) == 2 and predictions[0] != 0:\n",
        "        pred_action = \"SHIFT\"\n",
        "      elif len(parser_buff) == 2 and predictions[0] == 0:\n",
        "        outputs[0][0] = -1000000\n",
        "        _, predictions = torch.max(outputs, 1)\n",
        "        pred_action = target_itos(predictions[0])\n",
        "\n",
        "      # print('predictions = ',pred_action)\n",
        "\n",
        "      dev_temp_action.append(pred_action)\n",
        "      if pred_action == \"SHIFT\":\n",
        "        shift(state)\n",
        "      elif pred_action[:8] == \"REDUCE_L\":\n",
        "        left_arc(state, pred_action[9:])\n",
        "      else:\n",
        "        right_arc(state, pred_action[9:])\n",
        "    dev_pred_actions.append(dev_temp_action)\n",
        "\n",
        "  dev_uas, dev_las = compute_metrics(dev_words, dev_actions, dev_pred_actions, cwindow=2)\n",
        "  return dev_uas, dev_las"
      ],
      "metadata": {
        "id": "ieWwUL-P0fdp"
      },
      "execution_count": 35,
      "outputs": []
    },
    {
      "cell_type": "code",
      "source": [
        "dev_uas, dev_las = test_samples(parser_model, test_w, test_pos, test_target, vec, glv_size, glv_dim, mean_mode)\n",
        "print(\"For \",glv_size,glv_dim,\"B LAS = \",dev_las, \" and UAS = \", dev_uas)"
      ],
      "metadata": {
        "colab": {
          "base_uri": "https://localhost:8080/"
        },
        "id": "06N2bXxq0fZ9",
        "outputId": "29b4dfc0-03bc-4f8b-a65a-27db3a335b54"
      },
      "execution_count": 36,
      "outputs": [
        {
          "output_type": "stream",
          "name": "stdout",
          "text": [
            "For  6B 50 B LAS =  0.3054256314312441  and UAS =  0.3697120881405259\n"
          ]
        }
      ]
    },
    {
      "cell_type": "markdown",
      "source": [
        "##b)6B50D Concatenate"
      ],
      "metadata": {
        "id": "mtvWeHoO5lGI"
      }
    },
    {
      "cell_type": "code",
      "source": [
        "vec = vec6B50D\n",
        "embed_dim = 50\n",
        "mean_mode == 0\n",
        "cwindow = 2\n",
        "\n",
        "glv_size = '6B'\n",
        "glv_dim = 50\n",
        "mean_mode = 0 #If mean then 1\n",
        "cwindow = 2\n",
        "glove_embedding_dimension = glv_dim\n",
        "if mean_mode == 0:\n",
        "  glove_embedding_dimension = glove_embedding_dimension * ( 2 * cwindow)\n",
        "\n",
        "\n",
        "pos_vocab_size = len(pos_dict)\n",
        "pos_embedding_dimension = 50\n",
        "# glove_embedding_dimension = X_train.shape[1] - 4\n",
        "# print(glove_embedding_dimension)\n",
        "hidden_dim = 200\n",
        "action_vocab_size = len(targets_dict)\n",
        "epoch = 20\n",
        "glove_embedding_dimension = glv_dim\n",
        "if mean_mode == 0:\n",
        "  glove_embedding_dimension = glove_embedding_dimension * ( 2 * cwindow)\n",
        "\n",
        "model_path = f\"/content/drive/MyDrive/NLPwithDeepLearning/Assignment-2/best_model_{glv_size}_{glv_dim}_{mean_mode}.pth\"\n",
        "checkpoint = torch.load(model_path)\n",
        "parser_model = Parser_Model(pos_vocab_size, pos_embedding_dimension, glove_embedding_dimension, hidden_dim, action_vocab_size)\n",
        "optimizer = torch.optim.Adam(parser_model.parameters(), checkpoint[\"learning_rate\"])\n",
        "parser_model.load_state_dict(checkpoint[\"model_param\"])\n",
        "optimizer.load_state_dict(checkpoint[\"optim_param\"])\n",
        "print(\"Best Dev Accuracy = \", checkpoint[\"lowest_dev_loss\"])\n",
        "print(\"Learning Rate = \", checkpoint[\"learning_rate\"])\n",
        "print(\"Epoch = \", checkpoint[\"epoch\"])\n",
        "parser_model.to(device)"
      ],
      "metadata": {
        "colab": {
          "base_uri": "https://localhost:8080/"
        },
        "id": "cbOsLzdh2yzR",
        "outputId": "9732ab01-3958-4fce-dff3-5e6bb61533ab"
      },
      "execution_count": 38,
      "outputs": [
        {
          "output_type": "stream",
          "name": "stdout",
          "text": [
            "Best Dev Accuracy =  0.6492616922126776\n",
            "Learning Rate =  0.0001\n",
            "Epoch =  19\n"
          ]
        },
        {
          "output_type": "execute_result",
          "data": {
            "text/plain": [
              "Parser_Model(\n",
              "  (embeddings): Embedding(18, 50, max_norm=1)\n",
              "  (linear1): Linear(in_features=50, out_features=200, bias=True)\n",
              "  (linear2): Linear(in_features=200, out_features=200, bias=True)\n",
              "  (linear3): Linear(in_features=200, out_features=75, bias=True)\n",
              "  (relu): ReLU()\n",
              ")"
            ]
          },
          "metadata": {},
          "execution_count": 38
        }
      ]
    },
    {
      "cell_type": "code",
      "source": [
        "dev_uas, dev_las = test_samples(parser_model, test_w, test_pos, test_target, vec, glv_size, glv_dim, mean_mode)\n",
        "print(\"For \",glv_size,glv_dim,\"B LAS = \",dev_las, \" and UAS = \", dev_uas)"
      ],
      "metadata": {
        "colab": {
          "base_uri": "https://localhost:8080/"
        },
        "id": "oMB4A3-H2ywt",
        "outputId": "31c55c0a-6a9c-4ef8-f62e-e38dbbcd16bc"
      },
      "execution_count": 39,
      "outputs": [
        {
          "output_type": "stream",
          "name": "stdout",
          "text": [
            "For  6B 50 B LAS =  0.5590894917368257  and UAS =  0.6240515538925268\n"
          ]
        }
      ]
    },
    {
      "cell_type": "markdown",
      "source": [
        "##c)6B300D Mean"
      ],
      "metadata": {
        "id": "Ujg0zNFN6j-F"
      }
    },
    {
      "cell_type": "code",
      "source": [
        "vec = vec6B300D\n",
        "embed_dim = 300\n",
        "mean_mode == 1\n",
        "cwindow = 2\n",
        "\n",
        "glv_size = '6B'\n",
        "glv_dim = 300\n",
        "mean_mode = 1 #If mean then 1\n",
        "cwindow = 2\n",
        "glove_embedding_dimension = glv_dim\n",
        "if mean_mode == 0:\n",
        "  glove_embedding_dimension = glove_embedding_dimension * ( 2 * cwindow)\n",
        "\n",
        "\n",
        "pos_vocab_size = len(pos_dict)\n",
        "pos_embedding_dimension = 50\n",
        "# glove_embedding_dimension = X_train.shape[1] - 4\n",
        "# print(glove_embedding_dimension)\n",
        "hidden_dim = 200\n",
        "action_vocab_size = len(targets_dict)\n",
        "epoch = 20\n",
        "glove_embedding_dimension = glv_dim\n",
        "if mean_mode == 0:\n",
        "  glove_embedding_dimension = glove_embedding_dimension * ( 2 * cwindow)\n",
        "\n",
        "model_path = f\"/content/drive/MyDrive/NLPwithDeepLearning/Assignment-2/best_model_{glv_size}_{glv_dim}_{mean_mode}.pth\"\n",
        "checkpoint = torch.load(model_path)\n",
        "parser_model = Parser_Model(pos_vocab_size, pos_embedding_dimension, glove_embedding_dimension, hidden_dim, action_vocab_size)\n",
        "optimizer = torch.optim.Adam(parser_model.parameters(), checkpoint[\"learning_rate\"])\n",
        "parser_model.load_state_dict(checkpoint[\"model_param\"])\n",
        "optimizer.load_state_dict(checkpoint[\"optim_param\"])\n",
        "print(\"Best Dev Accuracy = \", checkpoint[\"lowest_dev_loss\"])\n",
        "print(\"Learning Rate = \", checkpoint[\"learning_rate\"])\n",
        "print(\"Epoch = \", checkpoint[\"epoch\"])\n",
        "parser_model.to(device)"
      ],
      "metadata": {
        "colab": {
          "base_uri": "https://localhost:8080/"
        },
        "id": "kl3huAcl2yts",
        "outputId": "c78fe14a-b565-4796-f97e-d097b6eae1a0"
      },
      "execution_count": 40,
      "outputs": [
        {
          "output_type": "stream",
          "name": "stdout",
          "text": [
            "Best Dev Accuracy =  0.4247375217562181\n",
            "Learning Rate =  0.0001\n",
            "Epoch =  19\n"
          ]
        },
        {
          "output_type": "execute_result",
          "data": {
            "text/plain": [
              "Parser_Model(\n",
              "  (embeddings): Embedding(18, 50, max_norm=1)\n",
              "  (linear1): Linear(in_features=50, out_features=200, bias=True)\n",
              "  (linear2): Linear(in_features=300, out_features=200, bias=True)\n",
              "  (linear3): Linear(in_features=200, out_features=75, bias=True)\n",
              "  (relu): ReLU()\n",
              ")"
            ]
          },
          "metadata": {},
          "execution_count": 40
        }
      ]
    },
    {
      "cell_type": "code",
      "source": [
        "dev_uas, dev_las = test_samples(parser_model, test_w, test_pos, test_target, vec, glv_size, glv_dim, mean_mode)\n",
        "print(\"For \",glv_size,glv_dim,\"B LAS = \",dev_las, \" and UAS = \", dev_uas)"
      ],
      "metadata": {
        "colab": {
          "base_uri": "https://localhost:8080/"
        },
        "id": "S4ESig3l2yrT",
        "outputId": "2d3a0e31-ff69-4304-be47-baa00885f1b7"
      },
      "execution_count": 41,
      "outputs": [
        {
          "output_type": "stream",
          "name": "stdout",
          "text": [
            "For  6B 300 B LAS =  0.33000727575096145  and UAS =  0.3941897931607941\n"
          ]
        }
      ]
    },
    {
      "cell_type": "markdown",
      "source": [
        "##d)6B300D Concatenate"
      ],
      "metadata": {
        "id": "k3q9FAkb7YM8"
      }
    },
    {
      "cell_type": "code",
      "source": [
        "vec = vec6B300D\n",
        "embed_dim = 300\n",
        "mean_mode == 0\n",
        "cwindow = 2\n",
        "\n",
        "glv_size = '6B'\n",
        "glv_dim = 300\n",
        "mean_mode = 0 #If mean then 1\n",
        "cwindow = 2\n",
        "glove_embedding_dimension = glv_dim\n",
        "if mean_mode == 0:\n",
        "  glove_embedding_dimension = glove_embedding_dimension * ( 2 * cwindow)\n",
        "\n",
        "\n",
        "pos_vocab_size = len(pos_dict)\n",
        "pos_embedding_dimension = 50\n",
        "# glove_embedding_dimension = X_train.shape[1] - 4\n",
        "# print(glove_embedding_dimension)\n",
        "hidden_dim = 200\n",
        "action_vocab_size = len(targets_dict)\n",
        "epoch = 20\n",
        "glove_embedding_dimension = glv_dim\n",
        "if mean_mode == 0:\n",
        "  glove_embedding_dimension = glove_embedding_dimension * ( 2 * cwindow)\n",
        "\n",
        "model_path = f\"/content/drive/MyDrive/NLPwithDeepLearning/Assignment-2/best_model_{glv_size}_{glv_dim}_{mean_mode}.pth\"\n",
        "checkpoint = torch.load(model_path)\n",
        "parser_model = Parser_Model(pos_vocab_size, pos_embedding_dimension, glove_embedding_dimension, hidden_dim, action_vocab_size)\n",
        "optimizer = torch.optim.Adam(parser_model.parameters(), checkpoint[\"learning_rate\"])\n",
        "parser_model.load_state_dict(checkpoint[\"model_param\"])\n",
        "optimizer.load_state_dict(checkpoint[\"optim_param\"])\n",
        "print(\"Best Dev Accuracy = \", checkpoint[\"lowest_dev_loss\"])\n",
        "print(\"Learning Rate = \", checkpoint[\"learning_rate\"])\n",
        "print(\"Epoch = \", checkpoint[\"epoch\"])\n",
        "parser_model.to(device)"
      ],
      "metadata": {
        "colab": {
          "base_uri": "https://localhost:8080/"
        },
        "id": "1y-qZZmg2yoc",
        "outputId": "85628352-c2c5-4373-968f-2a999b701773"
      },
      "execution_count": 42,
      "outputs": [
        {
          "output_type": "stream",
          "name": "stdout",
          "text": [
            "Best Dev Accuracy =  0.6732356408960755\n",
            "Learning Rate =  0.0001\n",
            "Epoch =  19\n"
          ]
        },
        {
          "output_type": "execute_result",
          "data": {
            "text/plain": [
              "Parser_Model(\n",
              "  (embeddings): Embedding(18, 50, max_norm=1)\n",
              "  (linear1): Linear(in_features=50, out_features=200, bias=True)\n",
              "  (linear2): Linear(in_features=1200, out_features=200, bias=True)\n",
              "  (linear3): Linear(in_features=200, out_features=75, bias=True)\n",
              "  (relu): ReLU()\n",
              ")"
            ]
          },
          "metadata": {},
          "execution_count": 42
        }
      ]
    },
    {
      "cell_type": "code",
      "source": [
        "dev_uas, dev_las = test_samples(parser_model, test_w, test_pos, test_target, vec, glv_size, glv_dim, mean_mode)\n",
        "print(\"For \",glv_size,glv_dim,\"B LAS = \",dev_las, \" and UAS = \", dev_uas)"
      ],
      "metadata": {
        "colab": {
          "base_uri": "https://localhost:8080/"
        },
        "id": "vTCONacl0fWe",
        "outputId": "48be10f5-09a5-42fc-c87e-eda014e7f6ef"
      },
      "execution_count": 43,
      "outputs": [
        {
          "output_type": "stream",
          "name": "stdout",
          "text": [
            "For  6B 300 B LAS =  0.5948446107473235  and UAS =  0.656688493919551\n"
          ]
        }
      ]
    },
    {
      "cell_type": "markdown",
      "source": [
        "##e)42B300D Mean"
      ],
      "metadata": {
        "id": "C0F2HEhJ7u5c"
      }
    },
    {
      "cell_type": "code",
      "source": [
        "vec = vec42B300D\n",
        "embed_dim = 300\n",
        "mean_mode == 1\n",
        "cwindow = 2\n",
        "\n",
        "glv_size = '42B'\n",
        "glv_dim = 300\n",
        "mean_mode = 1 #If mean then 1\n",
        "cwindow = 2\n",
        "glove_embedding_dimension = glv_dim\n",
        "if mean_mode == 0:\n",
        "  glove_embedding_dimension = glove_embedding_dimension * ( 2 * cwindow)\n",
        "\n",
        "\n",
        "pos_vocab_size = len(pos_dict)\n",
        "pos_embedding_dimension = 50\n",
        "# glove_embedding_dimension = X_train.shape[1] - 4\n",
        "# print(glove_embedding_dimension)\n",
        "hidden_dim = 200\n",
        "action_vocab_size = len(targets_dict)\n",
        "epoch = 20\n",
        "glove_embedding_dimension = glv_dim\n",
        "if mean_mode == 0:\n",
        "  glove_embedding_dimension = glove_embedding_dimension * ( 2 * cwindow)\n",
        "\n",
        "model_path = f\"/content/drive/MyDrive/NLPwithDeepLearning/Assignment-2/best_model_{glv_size}_{glv_dim}_{mean_mode}.pth\"\n",
        "checkpoint = torch.load(model_path)\n",
        "parser_model = Parser_Model(pos_vocab_size, pos_embedding_dimension, glove_embedding_dimension, hidden_dim, action_vocab_size)\n",
        "optimizer = torch.optim.Adam(parser_model.parameters(), checkpoint[\"learning_rate\"])\n",
        "parser_model.load_state_dict(checkpoint[\"model_param\"])\n",
        "optimizer.load_state_dict(checkpoint[\"optim_param\"])\n",
        "print(\"Best Dev Accuracy = \", checkpoint[\"lowest_dev_loss\"])\n",
        "print(\"Learning Rate = \", checkpoint[\"learning_rate\"])\n",
        "print(\"Epoch = \", checkpoint[\"epoch\"])\n",
        "parser_model.to(device)"
      ],
      "metadata": {
        "colab": {
          "base_uri": "https://localhost:8080/"
        },
        "id": "-5uOPeug6-dO",
        "outputId": "6647b454-2abb-482b-9a3c-715370d2d937"
      },
      "execution_count": 44,
      "outputs": [
        {
          "output_type": "stream",
          "name": "stdout",
          "text": [
            "Best Dev Accuracy =  0.4431531076301162\n",
            "Learning Rate =  0.0001\n",
            "Epoch =  18\n"
          ]
        },
        {
          "output_type": "execute_result",
          "data": {
            "text/plain": [
              "Parser_Model(\n",
              "  (embeddings): Embedding(18, 50, max_norm=1)\n",
              "  (linear1): Linear(in_features=50, out_features=200, bias=True)\n",
              "  (linear2): Linear(in_features=300, out_features=200, bias=True)\n",
              "  (linear3): Linear(in_features=200, out_features=75, bias=True)\n",
              "  (relu): ReLU()\n",
              ")"
            ]
          },
          "metadata": {},
          "execution_count": 44
        }
      ]
    },
    {
      "cell_type": "code",
      "source": [
        "dev_uas, dev_las = test_samples(parser_model, test_w, test_pos, test_target, vec, glv_size, glv_dim, mean_mode)\n",
        "print(\"For \",glv_size,glv_dim,\"B LAS = \",dev_las, \" and UAS = \", dev_uas)"
      ],
      "metadata": {
        "colab": {
          "base_uri": "https://localhost:8080/"
        },
        "id": "1jwXuQvt7snG",
        "outputId": "af74d9ea-9c14-49a2-ee9c-dd883d28725f"
      },
      "execution_count": 45,
      "outputs": [
        {
          "output_type": "stream",
          "name": "stdout",
          "text": [
            "For  42B 300 B LAS =  0.3557322523646191  and UAS =  0.41809583203409206\n"
          ]
        }
      ]
    },
    {
      "cell_type": "markdown",
      "source": [
        "##f)42B300D Concatenate (Best Score)"
      ],
      "metadata": {
        "id": "6sdwTH1g8KxG"
      }
    },
    {
      "cell_type": "code",
      "source": [
        "vec = vec42B300D\n",
        "embed_dim = 300\n",
        "mean_mode == 0\n",
        "cwindow = 2\n",
        "\n",
        "glv_size = '42B'\n",
        "glv_dim = 300\n",
        "mean_mode = 0 #If mean then 1\n",
        "cwindow = 2\n",
        "glove_embedding_dimension = glv_dim\n",
        "if mean_mode == 0:\n",
        "  glove_embedding_dimension = glove_embedding_dimension * ( 2 * cwindow)\n",
        "\n",
        "\n",
        "pos_vocab_size = len(pos_dict)\n",
        "pos_embedding_dimension = 50\n",
        "# glove_embedding_dimension = X_train.shape[1] - 4\n",
        "# print(glove_embedding_dimension)\n",
        "hidden_dim = 200\n",
        "action_vocab_size = len(targets_dict)\n",
        "epoch = 20\n",
        "glove_embedding_dimension = glv_dim\n",
        "if mean_mode == 0:\n",
        "  glove_embedding_dimension = glove_embedding_dimension * ( 2 * cwindow)\n",
        "\n",
        "model_path = f\"/content/drive/MyDrive/NLPwithDeepLearning/Assignment-2/best_model_{glv_size}_{glv_dim}_{mean_mode}.pth\"\n",
        "checkpoint = torch.load(model_path)\n",
        "parser_model = Parser_Model(pos_vocab_size, pos_embedding_dimension, glove_embedding_dimension, hidden_dim, action_vocab_size)\n",
        "optimizer = torch.optim.Adam(parser_model.parameters(), checkpoint[\"learning_rate\"])\n",
        "parser_model.load_state_dict(checkpoint[\"model_param\"])\n",
        "optimizer.load_state_dict(checkpoint[\"optim_param\"])\n",
        "print(\"Best Dev Accuracy = \", checkpoint[\"lowest_dev_loss\"])\n",
        "print(\"Learning Rate = \", checkpoint[\"learning_rate\"])\n",
        "print(\"Epoch = \", checkpoint[\"epoch\"])\n",
        "parser_model.to(device)"
      ],
      "metadata": {
        "colab": {
          "base_uri": "https://localhost:8080/"
        },
        "id": "eEsVIjI86-Z9",
        "outputId": "e63943f5-df7e-4bd5-9709-7059d455b955"
      },
      "execution_count": 46,
      "outputs": [
        {
          "output_type": "stream",
          "name": "stdout",
          "text": [
            "Best Dev Accuracy =  0.7120880354836898\n",
            "Learning Rate =  0.0001\n",
            "Epoch =  18\n"
          ]
        },
        {
          "output_type": "execute_result",
          "data": {
            "text/plain": [
              "Parser_Model(\n",
              "  (embeddings): Embedding(18, 50, max_norm=1)\n",
              "  (linear1): Linear(in_features=50, out_features=200, bias=True)\n",
              "  (linear2): Linear(in_features=1200, out_features=200, bias=True)\n",
              "  (linear3): Linear(in_features=200, out_features=75, bias=True)\n",
              "  (relu): ReLU()\n",
              ")"
            ]
          },
          "metadata": {},
          "execution_count": 46
        }
      ]
    },
    {
      "cell_type": "code",
      "source": [
        "dev_uas, dev_las = test_samples(parser_model, test_w, test_pos, test_target, vec, glv_size, glv_dim, mean_mode)\n",
        "print(\"For \",glv_size,glv_dim,\"B LAS = \",dev_las, \" and UAS = \", dev_uas)"
      ],
      "metadata": {
        "colab": {
          "base_uri": "https://localhost:8080/"
        },
        "id": "emgNyThO6-XI",
        "outputId": "5a1f073b-98bc-412b-8906-98ed5fe87295"
      },
      "execution_count": 47,
      "outputs": [
        {
          "output_type": "stream",
          "name": "stdout",
          "text": [
            "For  42B 300 B LAS =  0.6236357966947302  and UAS =  0.6811661989398191\n"
          ]
        }
      ]
    },
    {
      "cell_type": "markdown",
      "source": [
        "##g)840B300D Mean"
      ],
      "metadata": {
        "id": "jG3Qf3po8u_z"
      }
    },
    {
      "cell_type": "code",
      "source": [
        "vec = vec840B300D\n",
        "embed_dim = 300\n",
        "mean_mode = 1\n",
        "cwindow = 2\n",
        "\n",
        "glv_size = '840B'\n",
        "glv_dim = 300\n",
        "mean_mode = 1 #If mean then 1\n",
        "cwindow = 2\n",
        "glove_embedding_dimension = glv_dim\n",
        "if mean_mode == 0:\n",
        "  glove_embedding_dimension = glove_embedding_dimension * ( 2 * cwindow)\n",
        "\n",
        "\n",
        "pos_vocab_size = len(pos_dict)\n",
        "pos_embedding_dimension = 50\n",
        "# glove_embedding_dimension = X_train.shape[1] - 4\n",
        "# print(glove_embedding_dimension)\n",
        "hidden_dim = 200\n",
        "action_vocab_size = len(targets_dict)\n",
        "epoch = 20\n",
        "glove_embedding_dimension = glv_dim\n",
        "if mean_mode == 0:\n",
        "  glove_embedding_dimension = glove_embedding_dimension * ( 2 * cwindow)\n",
        "\n",
        "model_path = f\"/content/drive/MyDrive/NLPwithDeepLearning/Assignment-2/best_model_{glv_size}_{glv_dim}_{mean_mode}.pth\"\n",
        "checkpoint = torch.load(model_path)\n",
        "parser_model = Parser_Model(pos_vocab_size, pos_embedding_dimension, glove_embedding_dimension, hidden_dim, action_vocab_size)\n",
        "optimizer = torch.optim.Adam(parser_model.parameters(), checkpoint[\"learning_rate\"])\n",
        "parser_model.load_state_dict(checkpoint[\"model_param\"])\n",
        "optimizer.load_state_dict(checkpoint[\"optim_param\"])\n",
        "print(\"Best Dev Accuracy = \", checkpoint[\"lowest_dev_loss\"])\n",
        "print(\"Learning Rate = \", checkpoint[\"learning_rate\"])\n",
        "print(\"Epoch = \", checkpoint[\"epoch\"])\n",
        "parser_model.to(device)"
      ],
      "metadata": {
        "colab": {
          "base_uri": "https://localhost:8080/"
        },
        "id": "RZnqKS3f8wAl",
        "outputId": "471d0f51-fac8-42f8-b3c0-422b6a92222e"
      },
      "execution_count": 48,
      "outputs": [
        {
          "output_type": "stream",
          "name": "stdout",
          "text": [
            "Best Dev Accuracy =  0.32704508449834374\n",
            "Learning Rate =  0.0001\n",
            "Epoch =  7\n"
          ]
        },
        {
          "output_type": "execute_result",
          "data": {
            "text/plain": [
              "Parser_Model(\n",
              "  (embeddings): Embedding(18, 50, max_norm=1)\n",
              "  (linear1): Linear(in_features=50, out_features=200, bias=True)\n",
              "  (linear2): Linear(in_features=300, out_features=200, bias=True)\n",
              "  (linear3): Linear(in_features=200, out_features=75, bias=True)\n",
              "  (relu): ReLU()\n",
              ")"
            ]
          },
          "metadata": {},
          "execution_count": 48
        }
      ]
    },
    {
      "cell_type": "code",
      "source": [
        "dev_uas, dev_las = test_samples(parser_model, test_w, test_pos, test_target, vec, glv_size, glv_dim, mean_mode)\n",
        "print(\"For \",glv_size,glv_dim,\"B LAS = \",dev_las, \" and UAS = \", dev_uas)"
      ],
      "metadata": {
        "colab": {
          "base_uri": "https://localhost:8080/"
        },
        "id": "GA0dXr6Q8v6R",
        "outputId": "6a57c385-7941-4800-e6c1-af4070e77b58"
      },
      "execution_count": 49,
      "outputs": [
        {
          "output_type": "stream",
          "name": "stdout",
          "text": [
            "For  840B 300 B LAS =  0.25402764785365345  and UAS =  0.3184700135121089\n"
          ]
        }
      ]
    },
    {
      "cell_type": "markdown",
      "source": [
        "##h)840B300D Concatenate"
      ],
      "metadata": {
        "id": "TQCBJLIo804s"
      }
    },
    {
      "cell_type": "code",
      "source": [
        "vec = vec840B300D\n",
        "embed_dim = 300\n",
        "mean_mode = 0\n",
        "cwindow = 2\n",
        "\n",
        "glv_size = '840B'\n",
        "glv_dim = 300\n",
        "mean_mode = 0 #If mean then 1\n",
        "cwindow = 2\n",
        "glove_embedding_dimension = glv_dim\n",
        "if mean_mode == 0:\n",
        "  glove_embedding_dimension = glove_embedding_dimension * ( 2 * cwindow)\n",
        "\n",
        "\n",
        "pos_vocab_size = len(pos_dict)\n",
        "pos_embedding_dimension = 50\n",
        "# glove_embedding_dimension = X_train.shape[1] - 4\n",
        "# print(glove_embedding_dimension)\n",
        "hidden_dim = 200\n",
        "action_vocab_size = len(targets_dict)\n",
        "epoch = 20\n",
        "glove_embedding_dimension = glv_dim\n",
        "if mean_mode == 0:\n",
        "  glove_embedding_dimension = glove_embedding_dimension * ( 2 * cwindow)\n",
        "\n",
        "model_path = f\"/content/drive/MyDrive/NLPwithDeepLearning/Assignment-2/best_model_{glv_size}_{glv_dim}_{mean_mode}.pth\"\n",
        "checkpoint = torch.load(model_path)\n",
        "parser_model = Parser_Model(pos_vocab_size, pos_embedding_dimension, glove_embedding_dimension, hidden_dim, action_vocab_size)\n",
        "optimizer = torch.optim.Adam(parser_model.parameters(), checkpoint[\"learning_rate\"])\n",
        "parser_model.load_state_dict(checkpoint[\"model_param\"])\n",
        "optimizer.load_state_dict(checkpoint[\"optim_param\"])\n",
        "print(\"Best Dev Accuracy = \", checkpoint[\"lowest_dev_loss\"])\n",
        "print(\"Learning Rate = \", checkpoint[\"learning_rate\"])\n",
        "print(\"Epoch = \", checkpoint[\"epoch\"])\n",
        "parser_model.to(device)"
      ],
      "metadata": {
        "colab": {
          "base_uri": "https://localhost:8080/"
        },
        "id": "suVwHoEU8vxB",
        "outputId": "fc933220-731a-4b83-ff77-304987af1063"
      },
      "execution_count": 50,
      "outputs": [
        {
          "output_type": "stream",
          "name": "stdout",
          "text": [
            "Best Dev Accuracy =  0.63202515299534\n",
            "Learning Rate =  0.0001\n",
            "Epoch =  18\n"
          ]
        },
        {
          "output_type": "execute_result",
          "data": {
            "text/plain": [
              "Parser_Model(\n",
              "  (embeddings): Embedding(18, 50, max_norm=1)\n",
              "  (linear1): Linear(in_features=50, out_features=200, bias=True)\n",
              "  (linear2): Linear(in_features=1200, out_features=200, bias=True)\n",
              "  (linear3): Linear(in_features=200, out_features=75, bias=True)\n",
              "  (relu): ReLU()\n",
              ")"
            ]
          },
          "metadata": {},
          "execution_count": 50
        }
      ]
    },
    {
      "cell_type": "code",
      "source": [
        "dev_uas, dev_las = test_samples(parser_model, test_w, test_pos, test_target, vec, glv_size, glv_dim, mean_mode)\n",
        "print(\"For \",glv_size,glv_dim,\"B LAS = \",dev_las, \" and UAS = \", dev_uas)"
      ],
      "metadata": {
        "colab": {
          "base_uri": "https://localhost:8080/"
        },
        "id": "afUbHfao8vXe",
        "outputId": "bbe1da3b-0bd1-4a56-db9c-251e454cc651"
      },
      "execution_count": 51,
      "outputs": [
        {
          "output_type": "stream",
          "name": "stdout",
          "text": [
            "For  840B 300 B LAS =  0.5646502442573537  and UAS =  0.611370959359734\n"
          ]
        }
      ]
    },
    {
      "cell_type": "markdown",
      "source": [
        "#Task-3)Summarizing Trends"
      ],
      "metadata": {
        "id": "JTuGtMDo_zxJ"
      }
    },
    {
      "cell_type": "markdown",
      "source": [
        "#Task-4)Dependency parse trees"
      ],
      "metadata": {
        "id": "DxqS1OTV_4Jg"
      }
    },
    {
      "cell_type": "markdown",
      "source": [
        "##a) Mary had a little lamb . (POS tags: PROPN AUX DET ADJ NOUN PUNCT)"
      ],
      "metadata": {
        "id": "o4TpuNj6AOjK"
      }
    },
    {
      "cell_type": "code",
      "source": [
        "vec = vec42B300D\n",
        "embed_dim = 300\n",
        "mean_mode == 0\n",
        "cwindow = 2\n",
        "\n",
        "glv_size = '42B'\n",
        "glv_dim = 300\n",
        "mean_mode = 0 #If mean then 1\n",
        "cwindow = 2\n",
        "glove_embedding_dimension = glv_dim\n",
        "if mean_mode == 0:\n",
        "  glove_embedding_dimension = glove_embedding_dimension * ( 2 * cwindow)\n",
        "\n",
        "\n",
        "pos_vocab_size = len(pos_dict)\n",
        "pos_embedding_dimension = 50\n",
        "# glove_embedding_dimension = X_train.shape[1] - 4\n",
        "# print(glove_embedding_dimension)\n",
        "hidden_dim = 200\n",
        "action_vocab_size = len(targets_dict)\n",
        "epoch = 20\n",
        "glove_embedding_dimension = glv_dim\n",
        "if mean_mode == 0:\n",
        "  glove_embedding_dimension = glove_embedding_dimension * ( 2 * cwindow)\n",
        "\n",
        "model_path = f\"/content/drive/MyDrive/NLPwithDeepLearning/Assignment-2/best_model_{glv_size}_{glv_dim}_{mean_mode}.pth\"\n",
        "checkpoint = torch.load(model_path)\n",
        "parser_model = Parser_Model(pos_vocab_size, pos_embedding_dimension, glove_embedding_dimension, hidden_dim, action_vocab_size)\n",
        "optimizer = torch.optim.Adam(parser_model.parameters(), checkpoint[\"learning_rate\"])\n",
        "parser_model.load_state_dict(checkpoint[\"model_param\"])\n",
        "optimizer.load_state_dict(checkpoint[\"optim_param\"])\n",
        "print(\"Best Dev Accuracy = \", checkpoint[\"lowest_dev_loss\"])\n",
        "print(\"Learning Rate = \", checkpoint[\"learning_rate\"])\n",
        "print(\"Epoch = \", checkpoint[\"epoch\"])\n",
        "parser_model.to(device)"
      ],
      "metadata": {
        "colab": {
          "base_uri": "https://localhost:8080/"
        },
        "id": "ZXcXcbBKAS3W",
        "outputId": "77267c91-500d-4217-bb14-83163afef874"
      },
      "execution_count": 55,
      "outputs": [
        {
          "output_type": "stream",
          "name": "stdout",
          "text": [
            "Best Dev Accuracy =  0.7120880354836898\n",
            "Learning Rate =  0.0001\n",
            "Epoch =  18\n"
          ]
        },
        {
          "output_type": "execute_result",
          "data": {
            "text/plain": [
              "Parser_Model(\n",
              "  (embeddings): Embedding(18, 50, max_norm=1)\n",
              "  (linear1): Linear(in_features=50, out_features=200, bias=True)\n",
              "  (linear2): Linear(in_features=1200, out_features=200, bias=True)\n",
              "  (linear3): Linear(in_features=200, out_features=75, bias=True)\n",
              "  (relu): ReLU()\n",
              ")"
            ]
          },
          "metadata": {},
          "execution_count": 55
        }
      ]
    },
    {
      "cell_type": "code",
      "source": [
        "def single_samples_write(model, dev_words, dev_pos, glove, glv_size, glv_dim, mean_mode):\n",
        "  dev_pred_actions = []\n",
        "  all_deps = []\n",
        "  # print(dev_words)\n",
        "  for k in range(len(dev_words)):\n",
        "    # if k % 5000 == 0:\n",
        "    #   print(\"For Data = \", k)\n",
        "\n",
        "    stack = [Token(idx=-j-1, word=\"[NULL]\", pos= pos_dict['NULL']) for j in range(cwindow)]\n",
        "    parser_buff = []\n",
        "    dev_dependencies =[]\n",
        "    for ix in range(len(dev_words[k])):\n",
        "      parser_buff.append(Token(idx=ix, word=dev_words[k][ix], pos=pos_dict[dev_pos[k][ix]]))\n",
        "    parser_buff.extend([Token(idx=ix+j+1, word=\"[NULL]\",pos= pos_dict['NULL']) for j in range(cwindow)])\n",
        "    state = ParseState(stack=stack, parse_buffer=parser_buff, dependencies=[])\n",
        "    m = 0\n",
        "    dev_temp_action = []\n",
        "    # print(len(stack))\n",
        "    # print(len(parser_buff))\n",
        "    while(not is_final_state(state,cwindow)):\n",
        "      dev_input=[]\n",
        "      # print(\"Stack len = :\", len(stack), len(parser_buff))\n",
        "      dev_input.append(stack[-1].word)\n",
        "      dev_input.append(stack[-2].word)\n",
        "      dev_input.append(parser_buff[0].word)\n",
        "      dev_input.append(parser_buff[1].word)\n",
        "      dev_input.append(stack[-1].pos)\n",
        "      dev_input.append(stack[-2].pos)\n",
        "      dev_input.append(parser_buff[0].pos)\n",
        "      dev_input.append(parser_buff[1].pos)\n",
        "\n",
        "      temp_emb = glove.get_vecs_by_tokens(dev_input[:4])\n",
        "      if mean_mode==1:\n",
        "        temp_emb = torch.mean(temp_emb, dim=0)\n",
        "      else:\n",
        "        temp_emb = torch.flatten(temp_emb)\n",
        "      # print(temp_emb.shape)\n",
        "      # print(dev_input)\n",
        "      temp_pos = torch.tensor(dev_input[4:])\n",
        "      # print(temp_pos.shape)\n",
        "      # print(temp_emb.shape)\n",
        "      # print(temp_pos.shape)\n",
        "      temp_input = torch.cat((temp_emb, temp_pos)).unsqueeze(0).to(device)\n",
        "      # print(temp_input)\n",
        "      outputs = model(temp_input)\n",
        "      # print('Outputs = ',outputs.shape)\n",
        "      _, predictions = torch.max(outputs, 1)\n",
        "      # print('predictions = ',predictions)\n",
        "      pred_action = target_itos(predictions[0])\n",
        "\n",
        "      if len(stack) == 2 and predictions[0] != 0:\n",
        "        pred_action = \"SHIFT\"\n",
        "      elif len(parser_buff) == 2 and predictions[0] == 0:\n",
        "        outputs[0][0] = -1000000\n",
        "        _, predictions = torch.max(outputs, 1)\n",
        "        pred_action = target_itos(predictions[0])\n",
        "\n",
        "      # print('predictions = ',pred_action)\n",
        "\n",
        "      dev_temp_action.append(pred_action)\n",
        "      if pred_action == \"SHIFT\":\n",
        "        shift(state)\n",
        "      elif pred_action[:8] == \"REDUCE_L\":\n",
        "        left_arc(state, pred_action[9:])\n",
        "      else:\n",
        "        right_arc(state, pred_action[9:])\n",
        "\n",
        "    right_arc(state, \"root\")\n",
        "    all_deps.append(state.dependencies.copy())\n",
        "\n",
        "    dev_pred_actions.append(dev_temp_action)\n",
        "\n",
        "  return all_deps, dev_pred_actions\n",
        "\n",
        "\n",
        "\n",
        "  # dev_uas, dev_las = compute_metrics(dev_words, dev_actions, dev_pred_actions, cwindow=2)\n",
        "  # return dev_uas, dev_las"
      ],
      "metadata": {
        "id": "93YRSPGXATpZ"
      },
      "execution_count": 68,
      "outputs": []
    },
    {
      "cell_type": "code",
      "source": [
        "single_w = [['Mary', 'had', 'a', 'little', 'lamb', '.']]\n",
        "single_pos = [['PROPN', 'AUX', 'DET', 'ADJ', 'NOUN', 'PUNCT']]\n",
        "all_deps, dev_pred_actions = single_samples_write(parser_model, single_w, single_pos, vec, glv_size, glv_dim, mean_mode)\n",
        "# print(all_deps)\n",
        "print(\"All Dependencies\")\n",
        "# DependencyEdge d = new DependencyEdge()\n",
        "for d in all_deps[0]:\n",
        "  print(d.label,\"(\",d.source.word, d.target.word,\")\")\n",
        "\n",
        "print(\"All Actions\")\n",
        "print(dev_pred_actions)"
      ],
      "metadata": {
        "colab": {
          "base_uri": "https://localhost:8080/"
        },
        "id": "0-6fUk8-ATmC",
        "outputId": "446348d0-f952-47f7-c6e2-007c26e6dbbe"
      },
      "execution_count": 79,
      "outputs": [
        {
          "output_type": "stream",
          "name": "stdout",
          "text": [
            "All Dependencies\n",
            "amod ( lamb little )\n",
            "det ( lamb a )\n",
            "aux ( lamb had )\n",
            "compound ( lamb Mary )\n",
            "punct ( lamb . )\n",
            "root ( [NULL] lamb )\n",
            "All Actions\n",
            "[['SHIFT', 'SHIFT', 'SHIFT', 'SHIFT', 'SHIFT', 'REDUCE_L_amod', 'REDUCE_L_det', 'REDUCE_L_aux', 'REDUCE_L_compound', 'SHIFT', 'REDUCE_R_punct']]\n"
          ]
        }
      ]
    },
    {
      "cell_type": "markdown",
      "source": [
        "##b)I ate the fish raw . (POS tags: PRON VERB DET NOUN ADJ PUNCT)"
      ],
      "metadata": {
        "id": "-yPZZXNlG8TD"
      }
    },
    {
      "cell_type": "code",
      "source": [
        "single_w = [['I', 'ate', 'the', 'fish', 'raw', '.']]\n",
        "single_pos = [['PRON', 'VERB', 'DET', 'NOUN', 'ADJ', 'PUNCT']]\n",
        "all_deps, dev_pred_actions = single_samples_write(parser_model, single_w, single_pos, vec, glv_size, glv_dim, mean_mode)\n",
        "# print(all_deps)\n",
        "print(\"All Dependencies\")\n",
        "# DependencyEdge d = new DependencyEdge()\n",
        "for d in all_deps[0]:\n",
        "  print(d.label,\"(\",d.source.word, d.target.word,\")\")\n",
        "\n",
        "print(\"All Actions\")\n",
        "print(dev_pred_actions)"
      ],
      "metadata": {
        "colab": {
          "base_uri": "https://localhost:8080/"
        },
        "id": "aGoLstPdHCwK",
        "outputId": "5f814286-100c-4aef-fb5c-543f746adeff"
      },
      "execution_count": 80,
      "outputs": [
        {
          "output_type": "stream",
          "name": "stdout",
          "text": [
            "All Dependencies\n",
            "nsubj ( ate I )\n",
            "det ( fish the )\n",
            "nsubj ( raw fish )\n",
            "advcl ( ate raw )\n",
            "punct ( ate . )\n",
            "root ( [NULL] ate )\n",
            "All Actions\n",
            "[['SHIFT', 'SHIFT', 'REDUCE_L_nsubj', 'SHIFT', 'SHIFT', 'REDUCE_L_det', 'SHIFT', 'REDUCE_L_nsubj', 'REDUCE_R_advcl', 'SHIFT', 'REDUCE_R_punct']]\n"
          ]
        }
      ]
    },
    {
      "cell_type": "markdown",
      "source": [
        "##c)With neural networks , I love solving problems . (POS tags: ADP ADJ NOUN PUNCT PRON VERB VERB NOUN PUNCT)"
      ],
      "metadata": {
        "id": "HQ4eP48gHowX"
      }
    },
    {
      "cell_type": "code",
      "source": [
        "single_w = [['With', 'neural', 'networks', ',', 'I', 'love', 'solving', 'problems', '.']]\n",
        "single_pos = [['ADP', 'ADJ', 'NOUN', 'PUNCT', 'PRON', 'VERB', 'VERB', 'NOUN', 'PUNCT']]\n",
        "all_deps, dev_pred_actions = single_samples_write(parser_model, single_w, single_pos, vec, glv_size, glv_dim, mean_mode)\n",
        "# print(all_deps)\n",
        "print(\"All Dependencies\")\n",
        "# DependencyEdge d = new DependencyEdge()\n",
        "for d in all_deps[0]:\n",
        "  print(d.label,\"(\",d.source.word, d.target.word,\")\")\n",
        "\n",
        "print(\"All Actions\")\n",
        "print(dev_pred_actions)"
      ],
      "metadata": {
        "colab": {
          "base_uri": "https://localhost:8080/"
        },
        "id": "qVjz8wQZHCs-",
        "outputId": "538bad82-477c-4e95-c6ad-c58f2e0b9c38"
      },
      "execution_count": 81,
      "outputs": [
        {
          "output_type": "stream",
          "name": "stdout",
          "text": [
            "All Dependencies\n",
            "amod ( networks neural )\n",
            "punct ( networks , )\n",
            "obj ( solving problems )\n",
            "advcl ( love solving )\n",
            "punct ( love . )\n",
            "obj ( I love )\n",
            "appos ( networks I )\n",
            "nmod ( With networks )\n",
            "root ( [NULL] With )\n",
            "All Actions\n",
            "[['SHIFT', 'SHIFT', 'SHIFT', 'REDUCE_L_amod', 'SHIFT', 'REDUCE_R_punct', 'SHIFT', 'SHIFT', 'SHIFT', 'SHIFT', 'REDUCE_R_obj', 'REDUCE_R_advcl', 'SHIFT', 'REDUCE_R_punct', 'REDUCE_R_obj', 'REDUCE_R_appos', 'REDUCE_R_nmod']]\n"
          ]
        }
      ]
    },
    {
      "cell_type": "markdown",
      "source": [
        "#Extra Credit Task"
      ],
      "metadata": {
        "id": "xx23Z-6NJeam"
      }
    },
    {
      "cell_type": "code",
      "source": [
        "def convert(lst):\n",
        "   res_dict = {}\n",
        "   for i in range(0, len(lst)):\n",
        "       res_dict[lst[i]] = i\n",
        "   return res_dict"
      ],
      "metadata": {
        "id": "aJXi2712RrH1"
      },
      "execution_count": 23,
      "outputs": []
    },
    {
      "cell_type": "code",
      "source": [
        "targets_file = '/content/drive/MyDrive/NLPwithDeepLearning/Assignment-2/mp2_release/data/tagset.txt'\n",
        "\n",
        "file1 = open(targets_file, 'r')\n",
        "Lines = file1.readlines()\n",
        "all_actions = []\n",
        "for line in Lines:\n",
        "  line1 = line.strip()\n",
        "  all_actions.append(line1)\n",
        "\n",
        "list_label=[]\n",
        "for i in range(1,len(all_actions),2):\n",
        "  list_label.append(all_actions[i][9:])\n",
        "# print(len(list_label))\n",
        "list_label.append('NULL')\n",
        "label_dic = convert(list_label)\n",
        "print(label_dic)"
      ],
      "metadata": {
        "colab": {
          "base_uri": "https://localhost:8080/"
        },
        "id": "JWzQY2VkQTHR",
        "outputId": "f410aaad-8345-4a9c-c700-7dc0fc7c422d"
      },
      "execution_count": 24,
      "outputs": [
        {
          "output_type": "stream",
          "name": "stdout",
          "text": [
            "{'nsubj': 0, 'obj': 1, 'iobj': 2, 'csubj': 3, 'ccomp': 4, 'xcomp': 5, 'obl': 6, 'vocative': 7, 'expl': 8, 'dislocated': 9, 'advcl': 10, 'advmod': 11, 'discourse': 12, 'aux': 13, 'cop': 14, 'mark': 15, 'nmod': 16, 'appos': 17, 'nummod': 18, 'acl': 19, 'amod': 20, 'det': 21, 'clf': 22, 'case': 23, 'conj': 24, 'cc': 25, 'fixed': 26, 'flat': 27, 'compound': 28, 'list': 29, 'parataxis': 30, 'orphan': 31, 'goeswith': 32, 'reparandum': 33, 'punct': 34, 'root': 35, 'dep': 36, 'NULL': 37}\n"
          ]
        }
      ]
    },
    {
      "cell_type": "code",
      "source": [
        "def extra_embed_to_glove(train_w, vec, embed_dim,  mean, cwindow):\n",
        "  # print(train_w[0])\n",
        "  glove = vec\n",
        "  embedded_text = torch.zeros((len(train_w), (4 * cwindow), embed_dim))\n",
        "  for i in range(0,len(train_w)):\n",
        "    # print(len(train_w[i]))\n",
        "    temp_emb = glove.get_vecs_by_tokens(train_w[i])\n",
        "    # print(temp_emb.shape)\n",
        "    embedded_text[i] = temp_emb\n",
        "\n",
        "    # if(i%10000 == 0):\n",
        "    #   print(i)\n",
        "  if mean==1:\n",
        "    embedded_text = torch.mean(embedded_text, dim=1)\n",
        "  else:\n",
        "    embedded_text = embedded_text.view(embedded_text.size()[0], -1)\n",
        "\n",
        "  print(embedded_text.shape)\n",
        "\n",
        "  return embedded_text\n"
      ],
      "metadata": {
        "id": "2IcEYR7dHCqK"
      },
      "execution_count": 41,
      "outputs": []
    },
    {
      "cell_type": "code",
      "source": [
        "def extra_prepare_train_corpus(list_words, list_pos, list_action, vec, embed_dim, mean_mode, cwindow):\n",
        "  all_words = []\n",
        "  all_pos = []\n",
        "  all_lr_label=[]\n",
        "  all_target = []\n",
        "\n",
        "  for x in range(len(list_words)):\n",
        "    line_words = list_words[x]\n",
        "    line_pos = list_pos[x]\n",
        "    line_action = list_action[x]\n",
        "    stack = [Token(idx=-i-1, word=\"[NULL]\", pos='NULL') for i in range(cwindow)]\n",
        "    parser_buff = []\n",
        "    for ix in range(len(line_words)):\n",
        "      parser_buff.append(Token(idx=ix, word=line_words[ix], pos=line_pos[ix]))\n",
        "    parser_buff.extend([Token(idx=ix+i+1, word='NULL',pos=\"NULL\") for i in range(cwindow)])\n",
        "    state = ParseState(stack=stack, parse_buffer=parser_buff, dependencies=[])\n",
        "    m = 0\n",
        "    for action in line_action:\n",
        "      temp_lr = []\n",
        "      temp_lr_lab = []\n",
        "      final_lr_lab = []\n",
        "      temp_word = [state.stack[-i-1].word for i in range(cwindow)]\n",
        "      # print(state.dependencies)\n",
        "      if m==0:\n",
        "        while len(temp_lr)<2:\n",
        "          temp_lr.append('NULL')\n",
        "          temp_lr_lab.append('NULL')\n",
        "        temp_word.append(temp_lr[0])\n",
        "        temp_word.append(temp_lr[-1])\n",
        "        final_lr_lab.append(label_dic[temp_lr_lab[0]])\n",
        "        final_lr_lab.append(label_dic[temp_lr_lab[1]])\n",
        "        while len(temp_lr)<2:\n",
        "          temp_lr.append('NULL')\n",
        "          temp_lr_lab.append('NULL')\n",
        "        temp_word.append(temp_lr[0])\n",
        "        temp_word.append(temp_lr[-1])\n",
        "        final_lr_lab.append(label_dic[temp_lr_lab[0]])\n",
        "        final_lr_lab.append(label_dic[temp_lr_lab[1]])\n",
        "      else:\n",
        "        for d in state.dependencies:\n",
        "          if d.source.word == temp_word[0]:\n",
        "            temp_lr.append(d.target.word)\n",
        "            temp_lr_lab.append(d.label)\n",
        "        while len(temp_lr)<2:\n",
        "          temp_lr.append('NULL')\n",
        "          temp_lr_lab.append('NULL')\n",
        "        temp_word.append(temp_lr[0])\n",
        "        temp_word.append(temp_lr[-1])\n",
        "        final_lr_lab.append(label_dic[temp_lr_lab[0]])\n",
        "        final_lr_lab.append(label_dic[temp_lr_lab[1]])\n",
        "\n",
        "        temp_lr = []\n",
        "        temp_lr_lab = []\n",
        "        # final_lr_lab = []\n",
        "        for d in state.dependencies:\n",
        "          if d.source.word == temp_word[1]:\n",
        "            temp_lr.append(d.target.word)\n",
        "            temp_lr_lab.append(d.label)\n",
        "        while len(temp_lr)<2:\n",
        "          temp_lr.append('NULL')\n",
        "          temp_lr_lab.append('NULL')\n",
        "        temp_word.append(temp_lr[0])\n",
        "        temp_word.append(temp_lr[-1])\n",
        "        final_lr_lab.append(label_dic[temp_lr_lab[0]])\n",
        "        final_lr_lab.append(label_dic[temp_lr_lab[1]])\n",
        "\n",
        "        temp_pos = [state.stack[-i-1].pos for i in range(cwindow)]\n",
        "\n",
        "        temp_word.extend([state.parse_buffer[i].word for i in range(cwindow)])\n",
        "        temp_pos.extend([state.parse_buffer[i].pos for i in range(cwindow)])\n",
        "\n",
        "        all_words.append(temp_word)\n",
        "        all_pos.append(temp_pos)\n",
        "        all_target.append(action)\n",
        "        all_lr_label.append(final_lr_lab)\n",
        "\n",
        "      if action == \"SHIFT\":\n",
        "        shift(state)\n",
        "      elif action[:8] == \"REDUCE_L\":\n",
        "        left_arc(state, action[9:])\n",
        "      else:\n",
        "        right_arc(state, action[9:])\n",
        "      m = m+1\n",
        "  # print(len(all_words[0]))\n",
        "  # print(len(all_words),len(len(all_words[0])))\n",
        "  X_train = torch.cat((extra_embed_to_glove(all_words, vec, embed_dim, mean_mode, cwindow),torch.tensor(convert_pos_to_token(all_pos, pos_dict)),torch.tensor(all_lr_label) ), -1)\n",
        "  y_train = torch.tensor(convert_target_to_token(all_target, targets_dict))\n",
        "\n",
        "  return X_train, y_train\n"
      ],
      "metadata": {
        "id": "biktKccbHCnX"
      },
      "execution_count": 42,
      "outputs": []
    },
    {
      "cell_type": "code",
      "source": [
        "# Set glove and embedding dimenaion\n",
        "vec = vec6B50D\n",
        "embed_dim = 50\n",
        "mean_mode = 1\n",
        "cwindow = 2"
      ],
      "metadata": {
        "id": "8HW6OWvsTGKf"
      },
      "execution_count": 43,
      "outputs": []
    },
    {
      "cell_type": "code",
      "source": [
        "X_train, y_train = extra_prepare_train_corpus(train_w, train_pos, train_target, vec, embed_dim, mean_mode, cwindow)"
      ],
      "metadata": {
        "colab": {
          "base_uri": "https://localhost:8080/"
        },
        "id": "1WR16mHeTNDr",
        "outputId": "850e7626-fa03-468d-cf23-4e00f2b95626"
      },
      "execution_count": 44,
      "outputs": [
        {
          "output_type": "stream",
          "name": "stdout",
          "text": [
            "torch.Size([249682, 50])\n"
          ]
        }
      ]
    },
    {
      "cell_type": "code",
      "source": [
        "print(X_train.shape)"
      ],
      "metadata": {
        "colab": {
          "base_uri": "https://localhost:8080/"
        },
        "id": "Kh0Zi2HfWIaS",
        "outputId": "25ca39e5-d618-40b5-889a-2e2e571193ae"
      },
      "execution_count": 45,
      "outputs": [
        {
          "output_type": "stream",
          "name": "stdout",
          "text": [
            "torch.Size([249682, 58])\n"
          ]
        }
      ]
    },
    {
      "cell_type": "code",
      "source": [
        "class Parser_Model_Extra(nn.Module):\n",
        "  def __init__(self, pos_vocab_size, pos_embedding_dimension, label_vocab_size, label_embed, glove_embedding_dimension, hidden_dim, action_vocab_size):\n",
        "    # , embed_max_norm\n",
        "    super(Parser_Model_Extra, self).__init__()\n",
        "    self.embeddings = nn.Embedding(\n",
        "        num_embeddings= pos_vocab_size,\n",
        "        embedding_dim= pos_embedding_dimension,\n",
        "        max_norm= 1,\n",
        "        )\n",
        "    self.embeddings2 = nn.Embedding(\n",
        "        num_embeddings= label_vocab_size,\n",
        "        embedding_dim= label_embed,\n",
        "        max_norm= 1,\n",
        "        )\n",
        "    self.linear1 = nn.Linear(\n",
        "        in_features= pos_embedding_dimension,\n",
        "        out_features= hidden_dim,\n",
        "        )\n",
        "    self.linear11 = nn.Linear(\n",
        "        in_features= label_embed,\n",
        "        out_features= hidden_dim,\n",
        "        )\n",
        "    self.linear2 = nn.Linear(\n",
        "        in_features= glove_embedding_dimension,\n",
        "        out_features= hidden_dim,\n",
        "        )\n",
        "    self.linear3 = nn.Linear(\n",
        "        in_features= hidden_dim,\n",
        "        out_features= action_vocab_size,\n",
        "        )\n",
        "    self.relu = torch.nn.ReLU()\n",
        "  def forward(self, inputs_):\n",
        "    x_w = inputs_[:,:-8]\n",
        "    x_pos = inputs_[:,-8:-4].to(torch.int32)\n",
        "    x_label = inputs_[:,-4:].to(torch.int32)\n",
        "    x_pos = self.embeddings(x_pos)\n",
        "    x_pos = torch.mean(x_pos, dim=1)\n",
        "    x_label = self.embeddings2(x_label)\n",
        "    x_label = torch.mean(x_label, dim=1)\n",
        "    x1 = self.linear1(x_pos)\n",
        "    x11 = self.linear11(x_label)\n",
        "    x2 = self.linear2(x_w)\n",
        "    x2 = x2 + x1 + x11\n",
        "    x = self.linear3(self.relu(x2))\n",
        "    return x"
      ],
      "metadata": {
        "id": "oShCdhv_TjaX"
      },
      "execution_count": 49,
      "outputs": []
    },
    {
      "cell_type": "code",
      "source": [
        "def batch_gd_extra(model, criterion, optimizer, train_loader, dev_words, dev_pos, dev_actions, epochs, glove, glv_size, glv_dim, lr, mean_mode):\n",
        "  train_losses = np.zeros(epochs)\n",
        "  # dev_losses = np.zeros(epochs)\n",
        "  best_acc = -1\n",
        "  for i in range(epochs):\n",
        "    train_loss = []\n",
        "    for inputs, targets in train_loader:\n",
        "      inputs, targets = inputs.to(device), targets.to(device)\n",
        "      optimizer.zero_grad()\n",
        "      outputs = model(inputs)\n",
        "      loss = criterion(outputs, targets)\n",
        "      # outputs = outputs.to('cpu')\n",
        "      # outputs = outputs.detach().numpy()\n",
        "      # outputs = np.argmax(outputs, axis = 1)\n",
        "      # print(\"outputs=\",outputs)\n",
        "      # print(\"Targets=\",targets)\n",
        "\n",
        "      loss.backward()\n",
        "      optimizer.step()\n",
        "\n",
        "      train_loss.append(loss.item())\n",
        "    train_loss = np.mean(train_loss)\n",
        "    train_losses[i] = train_loss\n",
        "    print('Epoch = ', i, ' Train Loss = ',train_loss)\n",
        "\n",
        "    dev_pred_actions = []\n",
        "    m = 0\n",
        "    for k in range(len(dev_words)):\n",
        "      # if k % 5000 == 0:\n",
        "      #   print(\"For Data = \", k)\n",
        "\n",
        "      stack = [Token(idx=-j-1, word=\"[NULL]\", pos= pos_dict['NULL']) for j in range(cwindow)]\n",
        "      parser_buff = []\n",
        "      dev_dependencies =[]\n",
        "      for ix in range(len(dev_words[k])):\n",
        "        parser_buff.append(Token(idx=ix, word=dev_words[k][ix], pos=dev_pos[k][ix]))\n",
        "      parser_buff.extend([Token(idx=ix+j+1, word=\"[NULL]\",pos= pos_dict['NULL']) for j in range(cwindow)])\n",
        "      state = ParseState(stack=stack, parse_buffer=parser_buff, dependencies=[])\n",
        "      m = 0\n",
        "      dev_temp_action = []\n",
        "      while(not is_final_state(state,cwindow)):\n",
        "        temp_lr = []\n",
        "        temp_lr_lab = []\n",
        "        final_lr_lab = []\n",
        "        dev_input=[]\n",
        "        # print(\"Stack len = :\", len(stack), len(parser_buff))\n",
        "        dev_input.append(stack[-1].word)\n",
        "        dev_input.append(stack[-2].word)\n",
        "\n",
        "        if m==0:\n",
        "          while len(temp_lr)<2:\n",
        "            temp_lr.append('NULL')\n",
        "            temp_lr_lab.append('NULL')\n",
        "          dev_input.append(temp_lr[0])\n",
        "          dev_input.append(temp_lr[-1])\n",
        "          final_lr_lab.append(label_dic[temp_lr_lab[0]])\n",
        "          final_lr_lab.append(label_dic[temp_lr_lab[1]])\n",
        "          while len(temp_lr)<2:\n",
        "            temp_lr.append('NULL')\n",
        "            temp_lr_lab.append('NULL')\n",
        "          dev_input.append(temp_lr[0])\n",
        "          dev_input.append(temp_lr[-1])\n",
        "          final_lr_lab.append(label_dic[temp_lr_lab[0]])\n",
        "          final_lr_lab.append(label_dic[temp_lr_lab[1]])\n",
        "        else:\n",
        "          for d in state.dependencies:\n",
        "            if d.source.word == dev_input[0]:\n",
        "              temp_lr.append(d.target.word)\n",
        "              temp_lr_lab.append(d.label)\n",
        "          while len(temp_lr)<2:\n",
        "            temp_lr.append('NULL')\n",
        "            temp_lr_lab.append('NULL')\n",
        "          dev_input.append(temp_lr[0])\n",
        "          dev_input.append(temp_lr[-1])\n",
        "          final_lr_lab.append(label_dic[temp_lr_lab[0]])\n",
        "          final_lr_lab.append(label_dic[temp_lr_lab[1]])\n",
        "\n",
        "          temp_lr = []\n",
        "          temp_lr_lab = []\n",
        "          # final_lr_lab = []\n",
        "          for d in state.dependencies:\n",
        "            if d.source.word == dev_input[1]:\n",
        "              temp_lr.append(d.target.word)\n",
        "              temp_lr_lab.append(d.label)\n",
        "          while len(temp_lr)<2:\n",
        "            temp_lr.append('NULL')\n",
        "            temp_lr_lab.append('NULL')\n",
        "          dev_input.append(temp_lr[0])\n",
        "          dev_input.append(temp_lr[-1])\n",
        "          final_lr_lab.append(label_dic[temp_lr_lab[0]])\n",
        "          final_lr_lab.append(label_dic[temp_lr_lab[1]])\n",
        "\n",
        "\n",
        "\n",
        "\n",
        "        dev_input.append(parser_buff[0].word)\n",
        "        dev_input.append(parser_buff[1].word)\n",
        "        dev_input.append(stack[-1].pos)\n",
        "        dev_input.append(stack[-2].pos)\n",
        "        dev_input.append(parser_buff[0].pos)\n",
        "        dev_input.append(parser_buff[1].pos)\n",
        "\n",
        "        temp_emb = glove.get_vecs_by_tokens(dev_input[:8])\n",
        "        if mean_mode==1:\n",
        "          temp_emb = torch.mean(temp_emb, dim=0)\n",
        "        else:\n",
        "          temp_emb = torch.flatten(temp_emb)\n",
        "        # print(temp_emb.shape)\n",
        "        # print(dev_input)\n",
        "        temp_pos = torch.tensor(dev_input[8:])\n",
        "        # print(temp_pos.shape)\n",
        "        # print(temp_emb.shape)\n",
        "        # print(temp_pos.shape)\n",
        "        # print(temp_emb.shape, temp_pos.shape, torch.tensor(final_lr_lab).shape)\n",
        "        # print(temp_emb)\n",
        "        # temp_input = torch.cat(temp_emb, temp_pos)\n",
        "        # print(temp_input.shape)\n",
        "        temp_input = temp_emb.tolist() + temp_pos.tolist() + final_lr_lab\n",
        "        temp_input = torch.tensor(temp_input).unsqueeze(0).to(device)\n",
        "        # temp_input = torch.cat(temp_emb, temp_pos, torch.tensor(final_lr_lab)).unsqueeze(0).to(device)\n",
        "        # print(temp_input)\n",
        "        outputs = model(temp_input)\n",
        "        # print('Outputs = ',outputs.shape)\n",
        "        _, predictions = torch.max(outputs, 1)\n",
        "        # print('predictions = ',predictions)\n",
        "        pred_action = target_itos(predictions[0])\n",
        "\n",
        "        if len(stack) == 2 and predictions[0] != 0:\n",
        "          pred_action = \"SHIFT\"\n",
        "        elif len(parser_buff) == 2 and predictions[0] == 0:\n",
        "          outputs[0][0] = -1000000\n",
        "          _, predictions = torch.max(outputs, 1)\n",
        "          pred_action = target_itos(predictions[0])\n",
        "\n",
        "        # print('predictions = ',pred_action)\n",
        "\n",
        "        dev_temp_action.append(pred_action)\n",
        "        if pred_action == \"SHIFT\":\n",
        "          shift(state)\n",
        "        elif pred_action[:8] == \"REDUCE_L\":\n",
        "          left_arc(state, pred_action[9:])\n",
        "        else:\n",
        "          right_arc(state, pred_action[9:])\n",
        "        m = m+1\n",
        "      dev_pred_actions.append(dev_temp_action)\n",
        "\n",
        "    # print(dev_words.shape, dev)\n",
        "    dev_uas, dev_las = compute_metrics(dev_words, dev_actions, dev_pred_actions, cwindow=2)\n",
        "    print(\"UAS,LAS = \",dev_uas, dev_las)\n",
        "    if dev_uas > best_acc:\n",
        "      best_acc = dev_uas\n",
        "      torch.save({\n",
        "          \"model_param\": model.state_dict(),\n",
        "          \"optim_param\": optimizer.state_dict(),\n",
        "          \"lowest_dev_loss\": best_acc,\n",
        "          \"epoch\": i,\n",
        "          \"learning_rate\": lr},\n",
        "                 f\"/content/drive/MyDrive/NLPwithDeepLearning/Assignment-2/best_model_extra_{glv_size}_{glv_dim}_{mean_mode}.pth\")\n",
        "\n",
        "  print(\"Best dev acc = \", best_acc)\n",
        "  return train_losses, model, best_acc\n"
      ],
      "metadata": {
        "id": "vT77Y30jVQPq"
      },
      "execution_count": 75,
      "outputs": []
    },
    {
      "cell_type": "code",
      "source": [
        "glv_size = '6B'\n",
        "glv_dim = 50\n",
        "mean_mode = 1 #If mean then 1\n",
        "cwindow = 2\n",
        "glove_embedding_dimension = glv_dim\n",
        "if mean_mode == 0:\n",
        "  glove_embedding_dimension = glove_embedding_dimension * ( 2 * cwindow)\n",
        "\n",
        "train_dataloader = DataLoader(list(zip(X_train,y_train)), shuffle=False, batch_size=64)\n",
        "\n",
        "# train_dataloader, dev_dataloader, test_dataloader, glove_embedding_dimension = prepare_dataset(glv_size, glv_dim, mean_mode, cwindow)\n",
        "\n",
        "learning_rates = np.array([0.0001])\n",
        "best_acc = -1\n",
        "\n",
        "for i in range(learning_rates.shape[0]):\n",
        "  pos_vocab_size = len(pos_dict)\n",
        "  pos_embedding_dimension = 50\n",
        "  # glove_embedding_dimension = X_train.shape[1] - 4\n",
        "  # print(glove_embedding_dimension)\n",
        "  hidden_dim = 200\n",
        "  action_vocab_size = len(targets_dict)\n",
        "  epoch = 20\n",
        "  label_vocab_size = len(label_dic)\n",
        "  label_embed = 50\n",
        "# pos_vocab_size, pos_embedding_dimension, label_vocab_size, label_embed, glove_embedding_dimension, hidden_dim, action_vocab_size\n",
        "\n",
        "  parser_model = Parser_Model_Extra(pos_vocab_size, pos_embedding_dimension, label_vocab_size, label_embed, glove_embedding_dimension, hidden_dim, action_vocab_size)\n",
        "  parser_model.to(device)\n",
        "  criterion = nn.CrossEntropyLoss()\n",
        "\n",
        "  optimizer = torch.optim.Adam(parser_model.parameters(), lr=learning_rates[i])\n",
        "  print(\"For learning rate = \",learning_rates[i])\n",
        "\n",
        "  train_losses, ret_model, best_dev_acc = batch_gd_extra(\n",
        "      parser_model, criterion, optimizer, train_dataloader, dev_w, dev_pos, dev_target, epoch, vec6B50D, glv_size, glv_dim, learning_rates[i], mean_mode)\n",
        "\n",
        "\n",
        "  # avg_dev_losses = np.mean(dev_losses)\n",
        "  # print('Best Development Loss = ', best_dev_loss)\n",
        "\n",
        "\n",
        "  plt.plot(train_losses, label = 'train_loss')\n",
        "  # plt.plot(dev_losses, label = 'dev_loss')\n",
        "  plt.legend()\n",
        "  plt.show()"
      ],
      "metadata": {
        "colab": {
          "base_uri": "https://localhost:8080/",
          "height": 1000
        },
        "id": "I5wr3Ep5d25k",
        "outputId": "2541ae4a-24de-4c34-87b8-38ee70b0c639"
      },
      "execution_count": 76,
      "outputs": [
        {
          "output_type": "stream",
          "name": "stdout",
          "text": [
            "For learning rate =  0.0001\n",
            "Epoch =  0  Train Loss =  1.971788707419825\n",
            "UAS,LAS =  0.1840997136600977 0.11161641682106563\n",
            "Epoch =  1  Train Loss =  1.4563852711740608\n",
            "UAS,LAS =  0.24007635730728202 0.16585256302285104\n",
            "Epoch =  2  Train Loss =  1.3111554381787502\n",
            "UAS,LAS =  0.26955252372129584 0.20156083319297063\n",
            "Epoch =  3  Train Loss =  1.232185297642287\n",
            "UAS,LAS =  0.28240974678569425 0.22020099938240414\n",
            "Epoch =  4  Train Loss =  1.1791510148454116\n",
            "UAS,LAS =  0.2905507832238504 0.22912806692493404\n",
            "Epoch =  5  Train Loss =  1.1398652074490982\n",
            "UAS,LAS =  0.3017236539217338 0.24002021222839817\n",
            "Epoch =  6  Train Loss =  1.108849560279592\n",
            "UAS,LAS =  0.30784346752007186 0.24608388074785245\n",
            "Epoch =  7  Train Loss =  1.0834256161304086\n",
            "UAS,LAS =  0.3131772500140363 0.2499017461119533\n",
            "Epoch =  8  Train Loss =  1.062226359933416\n",
            "UAS,LAS =  0.3257537476840155 0.2615799225197911\n",
            "Epoch =  9  Train Loss =  1.044166314592733\n",
            "UAS,LAS =  0.3367581831452473 0.2723036325866038\n",
            "Epoch =  10  Train Loss =  1.0284531971679352\n",
            "UAS,LAS =  0.3429341418224693 0.27763741508056816\n",
            "Epoch =  11  Train Loss =  1.0144227824413978\n",
            "UAS,LAS =  0.3470888776598731 0.28196058615462355\n",
            "Epoch =  12  Train Loss =  1.0015637675641074\n",
            "UAS,LAS =  0.35152433889169615 0.28589074167649203\n",
            "Epoch =  13  Train Loss =  0.9895580616335207\n",
            "UAS,LAS =  0.3581494581999888 0.29139295940710797\n",
            "Epoch =  14  Train Loss =  0.9783113329212584\n",
            "UAS,LAS =  0.3627533546684633 0.2949300993767896\n",
            "Epoch =  15  Train Loss =  0.9677819529140624\n",
            "UAS,LAS =  0.3644377070349784 0.2975689180843299\n",
            "Epoch =  16  Train Loss =  0.9580508123630747\n",
            "UAS,LAS =  0.36488686766604905 0.2990848352141935\n",
            "Epoch =  17  Train Loss =  0.9490791687074531\n",
            "UAS,LAS =  0.36876087810903374 0.3025658301049913\n",
            "Epoch =  18  Train Loss =  0.9408427826918925\n",
            "UAS,LAS =  0.3687047330301499 0.3031272808938297\n",
            "Epoch =  19  Train Loss =  0.9333228837719701\n",
            "UAS,LAS =  0.3715119869743417 0.30565380944360226\n",
            "Best dev acc =  0.3715119869743417\n"
          ]
        },
        {
          "output_type": "display_data",
          "data": {
            "text/plain": [
              "<Figure size 640x480 with 1 Axes>"
            ],
            "image/png": "[encoded data removed]"
          },
          "metadata": {}
        }
      ]
    }
  ]
}